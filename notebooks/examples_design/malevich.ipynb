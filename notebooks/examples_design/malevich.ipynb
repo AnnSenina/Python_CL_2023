{
 "cells": [
  {
   "cell_type": "code",
   "execution_count": 3,
   "id": "249b65cf",
   "metadata": {},
   "outputs": [],
   "source": [
    "# malevich — это небольшая программа, способная рисовать изображения из геометрических примитивов.\n",
    "# результаты можно использовать, например, в дизайне: для создания плакатов, фирменных стилей и не только!\n",
    "\n",
    "from PIL import Image, ImageDraw # будем использовать модули из библиотеки PIL для работы с картинками\n",
    "import random # и еще модуль random для генерация случайных чисел и случайного выбора элементов последовательности\n",
    "\n",
    "\n",
    "colors = ('black','white','red','green','yellow','blue','orange','magenta','lime','cyan') # создаем кортеж с набором возможных цветов\n",
    "\n",
    "\n",
    "max_line_width = 5  # максимальная ширина линии\n",
    "line_number = 1     # количество линий\n",
    "circle_number = 1   # количествово кругов / элипсов\n",
    "square_number = 1   # количество квадратов / прямоугольников\n",
    "triangle_number = 1 # количествово треугольников \n",
    "size = 1500         # размер изображения в пикселях\n",
    "\n",
    "\n",
    "# определяем функцию, которая будет генерировать случайные числа — координаты наших фигур\n",
    "def random_coord(kol):  # kol - количество координат; для линии, прямоугольника, эллипса нужно 4 координаты (x1, y1, x2, y2), для треугольника нужно 6 (для каждой из вершин)\n",
    "    list_coord = list() # так как картинка квадратная, нам не особо важно, что является x, а что — y\n",
    "    for i in range(kol): \n",
    "        list_coord.append(random.randint(0, size)) # наполняем наш список случайных координат; используем одну из функций модуля random — randint\n",
    "    return(list_coord)\n",
    "\n",
    "    \n",
    "# теперь генерируем фон и сами фигуры\n",
    "def generate_figures():\n",
    "\n",
    "    current_color = random.choice(colors) # выбираем случайный цвет для фона\n",
    "  \n",
    "    im = Image.new('RGB', (size, size), color = current_color) # создаем фон\n",
    "    draw = ImageDraw.Draw(im) # сейчас будем рисовать фигуры на нашей (пока пустой) картинке\n",
    "\n",
    "    for i in range(line_number):\n",
    "        current_color = random.choice(colors) # выбираем случайный цвет для линий\n",
    "        current_width = random.randint(1, max_line_width)\n",
    "        list_coord = random_coord(4)       \n",
    "        draw.line(list_coord, fill=current_color, width=current_width) # рисуем линии\n",
    "\n",
    "    for i in range(circle_number): \n",
    "        current_color = random.choice(colors) # выбираем случайный цвет для эллипсов\n",
    "        list_coord = random_coord(4)\n",
    "        list_coord.sort()\n",
    "        draw.ellipse(list_coord, fill=current_color, outline = 'black') # рисуем эллипсы\n",
    "\n",
    "    for i in range(square_number): \n",
    "        current_color = random.choice(colors) # выбираем случайный цвет для прямоугольников\n",
    "        list_coord = random_coord(4) \n",
    "        list_coord.sort()              \n",
    "        draw.rectangle((list_coord), fill=current_color, outline = 'black') # рисуем прямоугольники\n",
    "\n",
    "    for i in range(triangle_number): \n",
    "        currenr_color = random.choice(colors) # выбираем случайный цвет для треугольников\n",
    "        list_coord = random_coord(6) \n",
    "        draw.polygon(list_coord, fill=current_color, outline = 'black') # рисуем треугольники\n",
    " \n",
    "    im.show()\n",
    "\n",
    "generate_figures()"
   ]
  },
  {
   "cell_type": "code",
   "execution_count": null,
   "id": "dc0e22c1",
   "metadata": {},
   "outputs": [],
   "source": []
  },
  {
   "cell_type": "code",
   "execution_count": null,
   "id": "eded11bc",
   "metadata": {},
   "outputs": [],
   "source": []
  },
  {
   "cell_type": "code",
   "execution_count": null,
   "id": "a667ec51",
   "metadata": {},
   "outputs": [],
   "source": []
  },
  {
   "cell_type": "code",
   "execution_count": null,
   "id": "380ee2da",
   "metadata": {},
   "outputs": [],
   "source": []
  }
 ],
 "metadata": {
  "kernelspec": {
   "display_name": "Python 3 (ipykernel)",
   "language": "python",
   "name": "python3"
  },
  "language_info": {
   "codemirror_mode": {
    "name": "ipython",
    "version": 3
   },
   "file_extension": ".py",
   "mimetype": "text/x-python",
   "name": "python",
   "nbconvert_exporter": "python",
   "pygments_lexer": "ipython3",
   "version": "3.9.13"
  }
 },
 "nbformat": 4,
 "nbformat_minor": 5
}
