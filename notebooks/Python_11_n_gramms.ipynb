{
  "nbformat": 4,
  "nbformat_minor": 0,
  "metadata": {
    "colab": {
      "provenance": [],
      "authorship_tag": "ABX9TyNx00KXoO2K48/1EenQQy2A",
      "include_colab_link": true
    },
    "kernelspec": {
      "name": "python3",
      "display_name": "Python 3"
    },
    "language_info": {
      "name": "python"
    }
  },
  "cells": [
    {
      "cell_type": "markdown",
      "metadata": {
        "id": "view-in-github",
        "colab_type": "text"
      },
      "source": [
        "<a href=\"https://colab.research.google.com/github/AnnSenina/Python_CL_2023/blob/main/notebooks/Python_11_n_gramms.ipynb\" target=\"_parent\"><img src=\"https://colab.research.google.com/assets/colab-badge.svg\" alt=\"Open In Colab\"/></a>"
      ]
    },
    {
      "cell_type": "markdown",
      "source": [
        "##Препроцессим с NLTK"
      ],
      "metadata": {
        "id": "tL5psZ-Xtw2L"
      }
    },
    {
      "cell_type": "code",
      "source": [
        "#!pip install nltk\n",
        "!pip install wordcloud\n",
        "!pip install ruword-frequency\n",
        "!pip install scikit-learn"
      ],
      "metadata": {
        "id": "09V_9phNyZe5"
      },
      "execution_count": 155,
      "outputs": []
    },
    {
      "cell_type": "code",
      "execution_count": null,
      "metadata": {
        "id": "btiSKDSom1Op"
      },
      "outputs": [],
      "source": [
        "# все то, что надо импортировать\n",
        "\n",
        "import nltk\n",
        "\n",
        "from nltk.tokenize import word_tokenize, wordpunct_tokenize\n",
        "\n",
        "from nltk import download\n",
        "download('punkt')\n",
        "\n",
        "download('stopwords')\n",
        "from nltk.corpus import stopwords\n",
        "stop_words = stopwords.words('russian')\n",
        "\n",
        "from nltk.stem.snowball import SnowballStemmer\n",
        "stemmer = SnowballStemmer(\"russian\")\n",
        "\n",
        "from nltk import Text as nltk_text\n",
        "\n",
        "# облако слов\n",
        "from wordcloud import WordCloud\n",
        "import matplotlib.pyplot as plt\n",
        "\n",
        "from ruword_frequency import Frequency\n",
        "\n",
        "from sklearn.feature_extraction.text import TfidfVectorizer"
      ]
    },
    {
      "cell_type": "code",
      "source": [
        "add_stop = []\n",
        "with open('stop_ru.txt', 'r', encoding='utf-8') as f:\n",
        "  for i in f:\n",
        "    add_stop.append(i.strip())\n",
        "print(add_stop)"
      ],
      "metadata": {
        "id": "HOMtYAKivNiU"
      },
      "execution_count": null,
      "outputs": []
    },
    {
      "cell_type": "code",
      "source": [
        "stop_words = stop_words + add_stop\n",
        "stop_words = list(set(stop_words))\n",
        "print(stop_words)"
      ],
      "metadata": {
        "id": "zHCM45Q4wYA3"
      },
      "execution_count": null,
      "outputs": []
    },
    {
      "cell_type": "code",
      "source": [
        "def clean_text(text_str, stop_words):\n",
        "  text_str = text_str.lower() # нижний регистр\n",
        "  text_list_nltk = word_tokenize(text_str) # токенизация\n",
        "  # чистим от стоп-слов и пунктуации\n",
        "  text_clean = [word for word in text_list_nltk if word not in stop_words and word[0].isalpha()]\n",
        "  text_stemmed = [stemmer.stem(word) for word in text_clean] # стемминг\n",
        "  return text_stemmed"
      ],
      "metadata": {
        "id": "pESqIEADnaUT"
      },
      "execution_count": 54,
      "outputs": []
    },
    {
      "cell_type": "code",
      "source": [
        "# подгрузим файл\n",
        "\n",
        "with open('udhr_rus.txt', 'r', encoding='utf-8') as f:\n",
        "  text = f.read()\n",
        "\n",
        "print(text[:100])"
      ],
      "metadata": {
        "id": "anY0BQYIxIEA"
      },
      "execution_count": null,
      "outputs": []
    },
    {
      "cell_type": "code",
      "source": [
        "full_text = clean_text(text, stop_words)\n",
        "print(full_text[:100])"
      ],
      "metadata": {
        "id": "QDQs1sZbt5le"
      },
      "execution_count": null,
      "outputs": []
    },
    {
      "cell_type": "markdown",
      "source": [
        "# Готово! Вернемся к частотам"
      ],
      "metadata": {
        "id": "_J1yOC77vn00"
      }
    },
    {
      "cell_type": "code",
      "source": [
        "from collections import Counter\n",
        "Counter(full_text).most_common(50)\n",
        "#print(Counter(full_text).most_common(50))"
      ],
      "metadata": {
        "id": "s96RXEpIvmTX"
      },
      "execution_count": null,
      "outputs": []
    },
    {
      "cell_type": "markdown",
      "source": [
        "Вспомним, что не так с нашими частотами?"
      ],
      "metadata": {
        "id": "5smQhqxZwL1A"
      }
    },
    {
      "cell_type": "markdown",
      "source": [
        "##Облако слов"
      ],
      "metadata": {
        "id": "4ppj8rIePYvB"
      }
    },
    {
      "cell_type": "code",
      "source": [
        "# Импортируем инструменты для облака слов и списки стоп-слов\n",
        "# from wordcloud import WordCloud\n",
        "# import matplotlib.pyplot as plt\n",
        "# %matplotlib inline\n",
        "\n",
        "# Генерируем облако слов\n",
        "wordcloud = WordCloud().generate(', '.join(full_text))\n",
        "plt.imshow(wordcloud) # Что изображаем\n",
        "plt.axis(\"off\") # Без подписей на осях\n",
        "plt.show() # показать изображение"
      ],
      "metadata": {
        "id": "ACDPjw0UPjbC"
      },
      "execution_count": null,
      "outputs": []
    },
    {
      "cell_type": "code",
      "source": [
        "wordcloud = WordCloud(width = 2000,\n",
        "                      height = 1500,\n",
        "                      background_color='black',\n",
        "                      colormap='Pastel1').generate(', '.join(full_text))\n",
        "plt.figure(figsize=(40, 30)) # Устанавливаем размер картинки\n",
        "plt.imshow(wordcloud) # Что изображаем\n",
        "plt.axis(\"off\") # Без подписей на осях\n",
        "plt.show() # показать изображение"
      ],
      "metadata": {
        "id": "EVSRb4crYLU4"
      },
      "execution_count": null,
      "outputs": []
    },
    {
      "cell_type": "code",
      "source": [
        "# еще один способ визуализации частот встроен в NLTK\n",
        "# from nltk import Text as nltk_text\n",
        "nltk_format = nltk_text(full_text)\n",
        "nltk_format.dispersion_plot([\"прав\", \"человек\", \"свобод\", \"брак\", \"отдых\", \"мужчин\", \"женщин\"]);"
      ],
      "metadata": {
        "id": "nFl0WO7Myynv"
      },
      "execution_count": null,
      "outputs": []
    },
    {
      "cell_type": "markdown",
      "source": [
        "Для лемматизированного текст выглядело бы так:\n",
        "\n",
        "\n",
        "![image.png](data:image/png;base64,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)"
      ],
      "metadata": {
        "id": "cl0YmHbY0Yt4"
      }
    },
    {
      "cell_type": "markdown",
      "source": [
        "### Задание\n",
        "\n",
        "Предобработайте текст"
      ],
      "metadata": {
        "id": "5GbA2xl2KWEV"
      }
    },
    {
      "cell_type": "code",
      "source": [
        "cloud = '''В любой непонятной ситуации дата-сайентист визуализирует данные: это, среди прочего, облегчает поиск инсайтов и формулирование гипотез для проверки.\n",
        "Облако слов — визуализация текстовых данных на стыке исследовательского анализа, инфографики и дата-дизайна. Это самый первый и быстрый взгляд на большие и слабо структурированные тексты: художественные, научные, информационные.\n",
        "Главные причины использовать облако слов:\n",
        "Во-первых, это красиво — удачная визуализация украшает портфолио.\n",
        "Во-вторых, облако показывает самые популярные слова текста, что полезно для быстрой его оценки.\n",
        "Например, для школьного сочинения или текста в разговорном стиле это могут оказаться слова-паразиты (от таких неплохо бы избавляться), а для научных или «инфостильных» текстов — слова, больше относящиеся к содержанию.\n",
        "В-третьих, сделать такую визуализацию совсем не сложно — и сейчас вы сами в этом убедитесь.\n",
        "Мы будем работать в блокноте Google Colab — то есть прямо в браузере, код напишем на языке Python, а текст возьмём из «Википедии». Если что-то пойдёт не так — всегда можно свериться с нашим блокнотом: все ссылки есть в конце статьи.'''\n",
        "\n",
        "# текст отсюда https://skillbox.ru/media/code/vizualiziruy-eto-oblako-slov-na-python/"
      ],
      "metadata": {
        "id": "fnZDn_d6EZcE"
      },
      "execution_count": null,
      "outputs": []
    },
    {
      "cell_type": "code",
      "source": [
        "# ваш код\n"
      ],
      "metadata": {
        "id": "RMddt4FyKyEM"
      },
      "execution_count": null,
      "outputs": []
    },
    {
      "cell_type": "markdown",
      "source": [
        "###Задание 2\n",
        "\n",
        "Создайте облако слов"
      ],
      "metadata": {
        "id": "K0x4f9-YKxgU"
      }
    },
    {
      "cell_type": "code",
      "source": [
        "# ваш код\n"
      ],
      "metadata": {
        "id": "lluzrjCPKvGz"
      },
      "execution_count": null,
      "outputs": []
    },
    {
      "cell_type": "markdown",
      "source": [
        "##N-gramms\n",
        "Текст можно разделить на n-граммы – устойчивые сочетания по N слов:\n",
        "\n",
        "    nltk.bigrams() – сочетания по два слова\n",
        "    nltk.trigrams() – сочетания по три слова\n",
        "    nltk.ngrams(list, n) – сочетания по N слов"
      ],
      "metadata": {
        "id": "HIxhAIG44KC0"
      }
    },
    {
      "cell_type": "code",
      "source": [
        "# import nltk\n",
        "\n",
        "freq_trigramms = Counter(nltk.bigrams(full_text))\n",
        "freq_trigramms.most_common(20)"
      ],
      "metadata": {
        "id": "HRiYn6864JWm"
      },
      "execution_count": null,
      "outputs": []
    },
    {
      "cell_type": "code",
      "source": [
        "freq_trigramms = Counter(nltk.trigrams(full_text))\n",
        "freq_trigramms.most_common(10)"
      ],
      "metadata": {
        "id": "61EFXNcH4YPJ"
      },
      "execution_count": null,
      "outputs": []
    },
    {
      "cell_type": "code",
      "source": [
        "freq_trigramms = Counter(nltk.ngrams(full_text, 4))\n",
        "freq_trigramms.most_common(20)"
      ],
      "metadata": {
        "id": "MMREk4g24cbp"
      },
      "execution_count": null,
      "outputs": []
    },
    {
      "cell_type": "markdown",
      "source": [
        "###Частотный анализ\n",
        "\n",
        "Многие компьтерные методы анализа текста основаны на статистике — в нашем случае это частотность символов / словоформ / лексем / биграмм / триграмм / частей речи и т.д., ее отношение к длине текста, средняя длина текстов и т.д.\n",
        "\n",
        "Зачем нам знать частотность слов в тексте? Например, она говорит о том, какие слова наиболее характеры для того или иного текста. Сравнивая частотные слова в разных текстах можно определить степень их близости, классифицировать по жанру, теме и т.п., а также выявить явления, характерные для языка в целом.\n"
      ],
      "metadata": {
        "id": "xnEdn25owVSl"
      }
    },
    {
      "cell_type": "markdown",
      "source": [
        "\n",
        "### Закон Ципфа\n",
        "\n",
        "**Закон Ципфа** («ранг—частота») — эмпирическая закономерность распределения частоты слов естественного языка: если все слова языка (или просто достаточно длинного текста) упорядочить по убыванию частоты их использования, то частота n-го слова в таком списке окажется приблизительно обратно пропорциональной его порядковому номеру n (т.н. рангу этого слова). Например, второе по используемости слово встречается примерно в два раза реже, чем первое, третье — в три раза реже, чем первое, и т.д.\n",
        "\n",
        "**Если закон Ципфа соблюдается — значит, перед нами нормальный текст на естественном языке. Если нет, то что-то с ним не так.**"
      ],
      "metadata": {
        "id": "shDhtULpxFXB"
      }
    },
    {
      "cell_type": "markdown",
      "source": [
        "### Закон Хипса\n",
        "\n",
        "**Закон Хипса** — эмпирическая закономерность в лингвистике, описывающая распределение числа уникальных слов в документе (или наборе документов) как функцию от его длины.\n",
        "\n",
        "**Чем больше коллекция текстов, тем меньше новых токенов появляется с её пополнением**"
      ],
      "metadata": {
        "id": "yb2tiqDixNl1"
      }
    },
    {
      "cell_type": "markdown",
      "source": [
        "##Способы считать частоту"
      ],
      "metadata": {
        "id": "2q_oo4IKxccT"
      }
    },
    {
      "cell_type": "markdown",
      "source": [
        "### Абсолютная частота слова\n",
        "Количество употреблений слова в тексте. Она не всегда уместна.\n"
      ],
      "metadata": {
        "id": "G2u_wc2Ixjz7"
      }
    },
    {
      "cell_type": "markdown",
      "source": [
        "### Относительная частота слова\n",
        "это отношение его абсолютной частоты к какой-нибудь другой величине, например, к длине текста или корпуса. Существуют разные способы подсчета относительной частоты."
      ],
      "metadata": {
        "id": "5lnQ_3m9xlLr"
      }
    },
    {
      "cell_type": "markdown",
      "source": [
        "### IPM\n",
        "Для сравнения частот в разных коллекциях текстов популярен $ipm$ *(items per million)* - отношение абсолютной частоты какого-либо элемента к объему корпуса, умноженное на миллион.\n",
        "\n",
        "$$ ipm_{word} = \\dfrac{f_{word}}V_{corpus} \\        \\times \\  1,000,000 $$\n",
        "\n",
        "Например, если текст состоит из 500 слов, и слово \"котик\" встречается там 50 раз, то\n",
        "\n",
        "$$ ipm_{котик} = \\dfrac{50}{500} \\       \\times \\  1,000,000 \\     = 100,000 $$\n",
        "\n",
        "Метрика IPM позволяет сравнивать тексты через их характеристики. Например, \"Я\" заметно чаще встречается в корпусе любительской литературы, чем в корпусе художественных произведений из НКРЯ.\n",
        "\n",
        "Кстати, есть библиотеки с подсчетом ipm\n",
        "* [разные языки](https://pypi.org/project/wordfreq/)\n",
        "* отдельно [русский язык](https://pypi.org/project/ruword-frequency/)\n"
      ],
      "metadata": {
        "id": "AUwZBu5qxr4V"
      }
    },
    {
      "cell_type": "code",
      "source": [
        "# !pip install ruword-frequency"
      ],
      "metadata": {
        "id": "ALjNioev1GS2"
      },
      "execution_count": null,
      "outputs": []
    },
    {
      "cell_type": "code",
      "source": [
        "# как часто слово \"право\" встречается в корпусе русского языка?\n",
        "# from ruword_frequency import Frequency\n",
        "freq = Frequency()\n",
        "freq.load()\n",
        "\n",
        "ipm = freq.ipm('право')\n",
        "print(ipm)"
      ],
      "metadata": {
        "id": "O1pLsui91Mrw"
      },
      "execution_count": null,
      "outputs": []
    },
    {
      "cell_type": "code",
      "source": [
        "# а как часто - в нашем тексте?\n",
        "print(full_text.count(\"прав\") / len(full_text) * 1000000)"
      ],
      "metadata": {
        "id": "T1XrLQJDv8vD"
      },
      "execution_count": null,
      "outputs": []
    },
    {
      "cell_type": "markdown",
      "source": [
        "### TF-IDF\n",
        "\n",
        "Tf-Idf - способ высоко оценить слова, которые одновременно\n",
        "* показательны в документе\n",
        "* не вездесущи в корпусе документов\n",
        "\n",
        "\n",
        "Наивная идея такая: давайте оценка слова будет\n",
        "* увеличиваться, если оно частотно в документе\n",
        "* уменьшаться, если оно встречается во многих документах\n",
        "\n",
        "В таком противостоянии победят те слова, которые выделяют документы из многих им подобных.\n",
        "\n",
        "\n"
      ],
      "metadata": {
        "id": "tcK8TLJy3LSj"
      }
    },
    {
      "cell_type": "markdown",
      "source": [
        "###Пример с использованием sklearn"
      ],
      "metadata": {
        "id": "-lGXkNlSq_t-"
      }
    },
    {
      "cell_type": "markdown",
      "source": [
        "[Гайд](https://scikit-learn.org/stable/modules/feature_extraction.html#text-feature-extraction) из библиотеки sklearn"
      ],
      "metadata": {
        "id": "u2M23xBQAJfy"
      }
    },
    {
      "cell_type": "code",
      "source": [
        "# from sklearn.feature_extraction.text import TfidfVectorizer\n",
        "tfidf_vectorizer = TfidfVectorizer(stop_words=\"english\")"
      ],
      "metadata": {
        "id": "XnIqgDLdAIhS"
      },
      "execution_count": 140,
      "outputs": []
    },
    {
      "cell_type": "code",
      "source": [
        "corpus = ['Three Rings for the Elven-kings under the sky',\n",
        "          'Seven for the Dwarf-lords in their halls of stone',\n",
        "          'Nine for Mortal Men doomed to die',\n",
        "          'One for the Dark Lord on his dark throne',\n",
        "          'In the Land of Mordor where the Shadows lie',\n",
        "          'One Ring to rule them all',\n",
        "          'One Ring to find them',\n",
        "          'One Ring to bring them all and in the darkness bind them',\n",
        "          'In the Land of Mordor where the Shadows lie']"
      ],
      "metadata": {
        "id": "KK9LpJ37AIbz"
      },
      "execution_count": 141,
      "outputs": []
    },
    {
      "cell_type": "code",
      "source": [
        "tfidf = tfidf_vectorizer.fit_transform(corpus)\n",
        "tfidf.shape\n",
        "# предположите, что означают эти числа?"
      ],
      "metadata": {
        "id": "ntFuCe7UAITA"
      },
      "execution_count": null,
      "outputs": []
    },
    {
      "cell_type": "code",
      "source": [
        "print(tfidf)"
      ],
      "metadata": {
        "id": "5E8tqh3E1vmZ"
      },
      "execution_count": null,
      "outputs": []
    },
    {
      "cell_type": "code",
      "source": [
        "print(tfidf.todense())"
      ],
      "metadata": {
        "id": "WW2EIrkrA_Ot"
      },
      "execution_count": null,
      "outputs": []
    },
    {
      "cell_type": "code",
      "source": [
        "tfidf_vectorizer.vocabulary_ # словарь - не частотный!\n",
        "#print(tfidf_vectorizer.vocabulary_)"
      ],
      "metadata": {
        "id": "N5uqC6KwA_JM"
      },
      "execution_count": null,
      "outputs": []
    },
    {
      "cell_type": "code",
      "source": [
        "words = tfidf_vectorizer.get_feature_names_out()\n",
        "words\n",
        "#print(words)"
      ],
      "metadata": {
        "id": "7h8oISlZA_Cx"
      },
      "execution_count": null,
      "outputs": []
    },
    {
      "cell_type": "code",
      "source": [
        "data = tfidf.todense().tolist()\n",
        "lotr = pd.DataFrame(data, columns = words)\n",
        "lotr\n",
        "#print(lotr)"
      ],
      "metadata": {
        "id": "LBEfcocTBPqO"
      },
      "execution_count": null,
      "outputs": []
    },
    {
      "cell_type": "code",
      "source": [
        "sorted(zip(tfidf.toarray()[0], words), reverse=True)\n",
        "# print(sorted(zip(tfidf.toarray()[0], words), reverse=True))"
      ],
      "metadata": {
        "id": "JLFVUK1G2ZFI"
      },
      "execution_count": null,
      "outputs": []
    },
    {
      "cell_type": "markdown",
      "source": [
        "Еще посмотреть: [пример](https://www.kaggle.com/code/rowhitswami/keywords-extraction-using-tf-idf-method) по материалам конференции NIPS"
      ],
      "metadata": {
        "id": "EcuRE_VG9kZA"
      }
    }
  ]
}