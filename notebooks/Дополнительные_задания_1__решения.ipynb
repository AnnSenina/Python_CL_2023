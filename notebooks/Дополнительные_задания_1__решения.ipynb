{
  "nbformat": 4,
  "nbformat_minor": 0,
  "metadata": {
    "colab": {
      "provenance": [],
      "include_colab_link": true
    },
    "kernelspec": {
      "name": "python3",
      "display_name": "Python 3"
    },
    "language_info": {
      "name": "python"
    }
  },
  "cells": [
    {
      "cell_type": "markdown",
      "metadata": {
        "id": "view-in-github",
        "colab_type": "text"
      },
      "source": [
        "<a href=\"https://colab.research.google.com/github/AnnSenina/Python_CL_2023/blob/main/notebooks/%D0%94%D0%BE%D0%BF%D0%BE%D0%BB%D0%BD%D0%B8%D1%82%D0%B5%D0%BB%D1%8C%D0%BD%D1%8B%D0%B5_%D0%B7%D0%B0%D0%B4%D0%B0%D0%BD%D0%B8%D1%8F_1__%D1%80%D0%B5%D1%88%D0%B5%D0%BD%D0%B8%D1%8F.ipynb\" target=\"_parent\"><img src=\"https://colab.research.google.com/assets/colab-badge.svg\" alt=\"Open In Colab\"/></a>"
      ]
    },
    {
      "cell_type": "markdown",
      "source": [
        "# Уважаемые слушатели курса,\n",
        "\n",
        "скопируйте блокнот себе на диск перед тем, как начать решать.\n",
        "\n",
        "Для этого нажимаем:\n",
        "\n",
        "**Файл - сохранить копию на Диске**\n",
        "\n",
        "После решения задач отправьте мне доступ к вашему блокноту:\n",
        "\n",
        "Справа вверху:\n",
        "\n",
        "**Поделиться** - можно вписать мою почту **ann.sotn@gmail.com**"
      ],
      "metadata": {
        "id": "5S4tVb6WaklD"
      }
    },
    {
      "cell_type": "markdown",
      "source": [
        "# Задача 1"
      ],
      "metadata": {
        "id": "t-x6s6HkZNau"
      }
    },
    {
      "cell_type": "markdown",
      "source": [
        "Витя пошёл в магазин за карандашами, каждый из которых стоит N рублей. Всего Витя готов потратить на карандаши M рублей. Укажите, сколько карандашей он сможет купить и сколько денег у него останется в итоге.\n",
        "\n",
        "Пример:\n",
        "\n",
        "n = 19\n",
        "\n",
        "m = 100\n",
        "\n",
        "Ответ:\n",
        "\n",
        "5 карандашей\n",
        "\n",
        "останется 5 рублей\n",
        "\n",
        "Напишите условие через **input** для n и m"
      ],
      "metadata": {
        "id": "lSbBrrpcWJFi"
      }
    },
    {
      "cell_type": "code",
      "source": [
        "# ваше решение здесь\n",
        "n = int(input())\n",
        "m = int(input())\n",
        "print(m // n, 'карашдашей\\nостанется', m % n, 'рублей')"
      ],
      "metadata": {
        "id": "8FfoZDakWIk0",
        "colab": {
          "base_uri": "https://localhost:8080/"
        },
        "outputId": "04cefe51-b90d-4a15-e9d0-a0240832160a"
      },
      "execution_count": null,
      "outputs": [
        {
          "output_type": "stream",
          "name": "stdout",
          "text": [
            "19\n",
            "100\n",
            "5 карашдашей\n",
            "останется 5 рублей\n"
          ]
        }
      ]
    },
    {
      "cell_type": "markdown",
      "source": [
        "# Задача 2"
      ],
      "metadata": {
        "id": "86jVQzV0ZQXU"
      }
    },
    {
      "cell_type": "markdown",
      "source": [
        "В XIX и XX веках при передаче телеграмм оплачивался каждый символ. Помогите спланировать стоимость телеграммы, подсчитав и написав на экране, из скольких символов состоит ее текст.\n",
        "\n",
        "Ответ напечатайте в формате:\n",
        "\n",
        "В телеграмме \"(*текст телеграммы*)\" *количество* символов.\n"
      ],
      "metadata": {
        "id": "5_FkATocWpWu"
      }
    },
    {
      "cell_type": "code",
      "source": [
        "telegram = 'Умоляю верить брошен Ялту гипнозом Воланда молнируйте угрозыску подтверждение личности Лиходеев'\n",
        "# ваше решение здесь\n",
        "print('В телеграмме \"' + telegram + '\"', len(telegram), 'символов')\n",
        "print(f'В телеграмме \"{telegram}\" {len(telegram)} символов')"
      ],
      "metadata": {
        "id": "vsEoruCcWpA9",
        "colab": {
          "base_uri": "https://localhost:8080/"
        },
        "outputId": "044eb70a-bcf4-44a1-caf6-226d617c09c5"
      },
      "execution_count": null,
      "outputs": [
        {
          "output_type": "stream",
          "name": "stdout",
          "text": [
            "В телеграмме \"Умоляю верить брошен Ялту гипнозом Воланда молнируйте угрозыску подтверждение личности Лиходеев\" 95 символов\n",
            "В телеграмме \"Умоляю верить брошен Ялту гипнозом Воланда молнируйте угрозыску подтверждение личности Лиходеев\" 95 символов\n"
          ]
        }
      ]
    },
    {
      "cell_type": "markdown",
      "source": [
        "# Задача 3"
      ],
      "metadata": {
        "id": "JASbW3V2ZS8C"
      }
    },
    {
      "cell_type": "markdown",
      "source": [
        "В компании Contoso решили поменять стандарт записей в телефонном справочнике, вместо телефонных номеров вида 18005550123 решили использовать номера вида +1(800) 555-01-23. Помогите секретарям компании записать номера в новом формате.\n",
        "\n",
        "Старый формат: 12345678910\n",
        "\n",
        "Новый формат: +1(234) 567-89-10\n",
        "\n",
        "Напишите условие через **input** для ввода номера телефона в старом формате\n",
        "\n",
        "В качестве ответа напечатайте номер в новом формате"
      ],
      "metadata": {
        "id": "G9cqk1jMXRRt"
      }
    },
    {
      "cell_type": "code",
      "source": [
        "# ваше решение здесь\n",
        "tel = input()\n",
        "print('+' + tel[0] + \"(\" + tel[1:4] + \")\", tel[4:7] + \"-\" + tel[7:9] + \"-\" + tel[9:])\n",
        "print(f'+{tel[0]}({tel[1:4]}) {tel[4:7]}-{tel[7:9]}-{tel[9:]}')"
      ],
      "metadata": {
        "id": "FFLHbjuTXKk8",
        "colab": {
          "base_uri": "https://localhost:8080/"
        },
        "outputId": "bd3d2bbb-bdfc-4c11-a038-d8046c8e01bc"
      },
      "execution_count": null,
      "outputs": [
        {
          "output_type": "stream",
          "name": "stdout",
          "text": [
            "12345678910\n",
            "+1(234) 567-89-10\n",
            "+1(234) 567-89-10\n"
          ]
        }
      ]
    },
    {
      "cell_type": "markdown",
      "source": [
        "# Задача 4"
      ],
      "metadata": {
        "id": "UwdVkuh8ZdEN"
      }
    },
    {
      "cell_type": "markdown",
      "source": [
        "Алиса, попав в Зазеркалье, увидела, что все слова написаны задом наперёд: вместо слова “МИР” написано “РИМ”, вместо “ГОД” — “ДОГ”. Помогите ей прочитать написанные тексты, написав программу, которая будет выводить слова в обратном порядке. Известно, что в строке, с которой работает программа, ровно 3 буквы.\n",
        "\n",
        "Напишите условие через **input** для ввода слова, в качестве ответа напечатайте его перевод (слово в обратном порядке)\n"
      ],
      "metadata": {
        "id": "bP_nuqAPXoCL"
      }
    },
    {
      "cell_type": "code",
      "source": [
        "# ваше решение здесь\n",
        "word = input()\n",
        "print(word[2], word[1], word[0], sep=\"\")\n",
        "print(word[::-1])"
      ],
      "metadata": {
        "id": "9vnsyyKbXr0U",
        "colab": {
          "base_uri": "https://localhost:8080/"
        },
        "outputId": "96bc7156-28d5-45a0-bdef-756e43cf5f4c"
      },
      "execution_count": null,
      "outputs": [
        {
          "output_type": "stream",
          "name": "stdout",
          "text": [
            "МИР\n",
            "РИМ\n",
            "РИМ\n"
          ]
        }
      ]
    },
    {
      "cell_type": "markdown",
      "source": [
        "# Задача 5"
      ],
      "metadata": {
        "id": "YkGVndAmZnpY"
      }
    },
    {
      "cell_type": "markdown",
      "source": [
        "Вы хотите проверить, счастливый ли билет вам доставлся в автобусе. Счастливым считается билет, у которого сумма первых трех цифр равно сумме последних трех цифр\n",
        "\n",
        "Напишите программу, которая получает на вход номер билета из 6 цифр через **input**, затем сравнивает суммы трех первых и трех последних чисел\n",
        "\n",
        "В результате напечатайте True, если билет счастливый"
      ],
      "metadata": {
        "id": "x2WMYI40YQ9-"
      }
    },
    {
      "cell_type": "code",
      "source": [
        "# ваше решение здесь\n",
        "ticket = input()\n",
        "print(int(ticket[0]) + int(ticket[1]) + int(ticket[2]) == int(ticket[3]) + int(ticket[4]) + int(ticket[5]))\n",
        "# или:\n",
        "sum_1 = int(ticket[0]) + int(ticket[1]) + int(ticket[2])\n",
        "sum_2 = int(ticket[3]) + int(ticket[4]) + int(ticket[5])\n",
        "print(sum_1 == sum_2)"
      ],
      "metadata": {
        "id": "EUBKt_gSYrmR",
        "colab": {
          "base_uri": "https://localhost:8080/"
        },
        "outputId": "25c7596b-e068-4a25-80c1-f0ea148486f3"
      },
      "execution_count": null,
      "outputs": [
        {
          "output_type": "stream",
          "name": "stdout",
          "text": [
            "246741\n",
            "True\n",
            "True\n"
          ]
        }
      ]
    },
    {
      "cell_type": "markdown",
      "source": [
        "# Задача 6"
      ],
      "metadata": {
        "id": "ldnEhUaMZ9fy"
      }
    },
    {
      "cell_type": "markdown",
      "source": [
        "Вы подаете статью в журнал [Journal of Digital History](https://journalofdigitalhistory.org/en/), но журнал принимает небольшие статьи - 250 символов аннотации и 10000 символов текста.\n",
        "\n",
        "Проверьте, можно ли отправить такую статью в журнал (посчитайте длину аннотации и текста и сравните с требованиями. Используйте оператор and)"
      ],
      "metadata": {
        "id": "EIA8za-AGrpL"
      }
    },
    {
      "cell_type": "code",
      "execution_count": null,
      "metadata": {
        "id": "n6h0lEtXGgAM",
        "colab": {
          "base_uri": "https://localhost:8080/"
        },
        "outputId": "92d48c74-b4ca-4192-d380-662d867053ec"
      },
      "outputs": [
        {
          "output_type": "stream",
          "name": "stdout",
          "text": [
            "False\n"
          ]
        }
      ],
      "source": [
        "annotation = 'The history of virtual museums began long before the appearance of web-museums on the Internet. Its trajectory is associated with the deepening and intensification of the use of information technologies in various areas of museums. The modern information environment has reached a high level of development, and users can now have many varied experiences online in order to engage with digital cultural heritage.'\n",
        "text = 'It is very difficult to give a modern definition of the term “virtual museum”, since an updated definition of the term “museum” is still under development by ICOM. A group of experts working on a large European VIMM project gave the following definition of the concept of \"virtual museum\" as “a digital entity that draws on the characteristics of a museum, in order to complement, enhance, or augment the museum through personalization, interactivity, user experience and richness of content” [1]. The digital history of virtual museums has been previously considered from different perspectives. Erkki Huhtamo’s article is noteworthy as leading the early history of virtual museums from the pre-digital era and changing the way they look at exhibition design [2]. Paul L. Arthur approached the comprehension of the history of virtual museums from the point of view of the role and importance of interactivity, increasing the ability of the user to receive diverse experience in the online environment [3]. It should be noted that the history of virtual museums has been formerly examined in a global context, while this work is devoted to the peculiarities of the history of virtual museums in the post-Soviet space. The focus of this study is virtual museums in the post-Soviet space, which includes the former Soviet republics that left the USSR after its collapse in 1991. The main source for studying the digital history of virtual museums has become the resources of web archives. The Museum.ru resource, snapshots of which are presented in WayBack Machine [4], has become an important source of information for studying Russian museum web space. The site was created as a platform for museums, allowing each museum to create its own webmuseum resource with a wide range of capabilities. The specified aggregator contains statistics on such web resources, which is presented in the diagram below (Fig. 1): 2 Figure 1. Russian museum web-sources in the dynamics (1997-2019), based on Museum.ru statistics It should be noted that the initial policy of this site was to provide space on the platform to any organization claiming to be a “virtual museum”. Until 2003 many private initiatives were placed there and they were not related to the GLAM industry. Since 2003, only web resources of actual existing museums of Russia have remained in the catalog (no statistics were available for 2000). As a result of the work on the project, the following main features of the history of virtual museums of the post-Soviet space can be highlighted: First, during the existence of the USSR, the experience of using information technologies in museums was limited to separate experiments of documenting individual collections (for example, the Hermitage developed an information system for data processing of antique art bronze and petroglyphs of Central Asia). With the collapse of the USSR, the globalization of the market in the post-Soviet space, and the widespread penetration of computers and software from Western countries, it was necessary to abandon partially the accumulated experience due to the technical incompatibility of Soviet technologies with the new foreign hardware and software. Whereas European and North-American countries actively used multimedia content, making it the central element of virtual museums online, in the post-Soviet space multimedia rarely went into the virtual space, firmly entrenched in the commercial sector with access to CDs. Secondly, since the beginning of the Internet era, non-profit and philantropic organizations that support and stimulate the development of this sector, in particular the non-profit partnership “Museum Automation and Information Technology” (ADIT), have been significant in the 3 development of the museum environment. Non-governmental grant organizations support the community of museum professionals in the post-Soviet space, introducing innovations in museums and developing virtual museums. Among the countries studied, Russia has one of the leading positions in the development of a virtual museum space in technological and innovation terms. Thirdly, the representation of museum collections has gone from simple illustrations and museum narrative on exhibition topics to digital catalogs with a wide range of search possibilities, digital excursions and museum storytelling. An issue to note is the limited work with open licenses for the use of digital objects, which complicates the wider use of collections. Fourth, searches for the digital identity of virtual museums in different countries of the postSoviet space, as well as an analysis of the visual images used, demonstrate a certain degree of dependence on the official political discourse. This is most acute in Russian and Ukrainian virtual museums of history, which showed a change of images after the events of 2014 and the aggravation of inter-state relations. In general, the digital history of the virtual museums of the former Soviet Union shows that the most advanced virtual museums have a long digital history, such as The Pushkin State Museum of Fine Arts. The general level of virtual museums is significantly behind those globally in the quality of digitization, the methods of storytelling in web museums, and the creation of an audience-oriented digital content. At the same time, history shows that it is possible to adopt the positive experience of leading museums for effective further development. References [1] Virtual Multimodal Museum. ViMM Plus. URL: https://www.vi-mm.eu/2018/01/10/thevimm-definition-of-a-virtual-museum, last accessed: 10/06/2020 [2] Huhtamo, E. (2002) On the Origins of the Virtual Museum, Nobel Symposium “Virtual Museums and Public Understanding of Science and Culture” May 26-29, 2002, Stockholm. [3] Arthur P. L. (2018). Engaging Collections and Communities: Technology and Interactivity in Museums. In Proceedings of the Digital Humanities in the Nordic Countries. 3-rd Conference, Helsinki, Finland, March 7-9, 2018. Pp. 250-262. [4] WayBack Machine. Internet Archive. last accessed: 10/06/2020'\n",
        "# ваше решение здесь\n",
        "print(len(annotation) <= 250 and len(text) <= 10000)"
      ]
    },
    {
      "cell_type": "markdown",
      "source": [
        "# Задача 7"
      ],
      "metadata": {
        "id": "S8QuIMbOZ_xy"
      }
    },
    {
      "cell_type": "markdown",
      "source": [
        "Вы администрируете сайт и, при регистрации новых пользователей, проверяете, что их пароли состоят из не менее, чем 8 символов, а также не содержат год рождения пользователя и слово 'password'.\n",
        "\n",
        "Проверьте, соответсвуют ли требованиям пароли:"
      ],
      "metadata": {
        "id": "o1cAqGCSQorK"
      }
    },
    {
      "cell_type": "code",
      "source": [
        "#в качестве решения получите ответ True или False для каждого пароля\n",
        "#подсказка:\n",
        "print(str(1990) in 'pass1990word') # получим значение истина или ложь"
      ],
      "metadata": {
        "id": "OfFOqYgYQoMK",
        "colab": {
          "base_uri": "https://localhost:8080/"
        },
        "outputId": "9a106204-c33c-4536-981e-c30ecc5cb96d"
      },
      "execution_count": null,
      "outputs": [
        {
          "output_type": "stream",
          "name": "stdout",
          "text": [
            "True\n"
          ]
        }
      ]
    },
    {
      "cell_type": "code",
      "source": [
        "password_1 = '1990pass'\n",
        "year_1 = 1995 #год рождения\n",
        "# ваше решение\n",
        "print(len(password_1) >= 8 and str(year_1) not in password_1 and 'password' not in password_1)\n",
        "\n",
        "password_2 = '02051980'\n",
        "year_2 = 1980\n",
        "# ваше решение\n",
        "print(len(password_2) >= 8 and str(year_2) not in password_2 and 'password' not in password_2)\n",
        "\n",
        "password_3 = 'digitH'\n",
        "year_3 = 1968\n",
        "# ваше решение\n",
        "print(len(password_3) >= 8 and str(year_3) not in password_3 and 'password' not in password_3)\n"
      ],
      "metadata": {
        "id": "17fgYbSo8H2M",
        "colab": {
          "base_uri": "https://localhost:8080/"
        },
        "outputId": "3b728dec-c179-4a06-c369-fd43873f0fb6"
      },
      "execution_count": null,
      "outputs": [
        {
          "output_type": "stream",
          "name": "stdout",
          "text": [
            "True\n",
            "False\n",
            "False\n"
          ]
        }
      ]
    },
    {
      "cell_type": "markdown",
      "source": [
        "# Задача 8"
      ],
      "metadata": {
        "id": "LB21iHRWaeBW"
      }
    },
    {
      "cell_type": "markdown",
      "source": [
        "Рассчитайте стоимость смс-сообщения ниже, если цена 1 сообщения из 70 символов 3 рубля"
      ],
      "metadata": {
        "id": "E4EWynvY9JKG"
      }
    },
    {
      "cell_type": "code",
      "source": [
        "price = 3\n",
        "sms = 'Я изучаю Python для Digital Humanities и освоил переменные, простые типы данных, операторы ввода/вывода'\n",
        "# ваше решение здесь\n",
        "# мы еще не прошли if, поэтому просто проверим целую часть и остаток\n",
        "print(len(sms) // 70, ', остаток ', len(sms) % 70, sep='')\n",
        "print(len(sms) // 70 * 3 + 3)"
      ],
      "metadata": {
        "id": "kTpQgsz19KUN",
        "colab": {
          "base_uri": "https://localhost:8080/"
        },
        "outputId": "38e1af7f-4cdd-4808-da93-76e4fc88f3eb"
      },
      "execution_count": null,
      "outputs": [
        {
          "output_type": "stream",
          "name": "stdout",
          "text": [
            "1, остаток 33\n",
            "6\n"
          ]
        }
      ]
    },
    {
      "cell_type": "markdown",
      "source": [
        "# Задача 9"
      ],
      "metadata": {
        "id": "WT_KVHVraJcD"
      }
    },
    {
      "cell_type": "markdown",
      "source": [
        "Вы программируете голосового помощника, который автоматически принимает показания счетчиков по телефону\n",
        "\n",
        "Голосовой помощник должен дать инструкцию (например:\n",
        "\n",
        "* Приветстивие. назовите номер договора;\n",
        "* запрос данных на вход input()\n",
        "* номер вашего договора: ____ (голосовой помощник повторяет то, что услышал). Назовите текущие показания счетчика горячей воды\n",
        "* запрос данных на вход input()\n",
        "* показания счетчика: _____. Назовите текущие показания счетчика холодной воды.\n",
        "* запрос данных на вход input()\n",
        "* показания счетчика: _____. Ваши показания приняты. Прощание\n",
        "\n",
        "Напишите такую инструкцию. Важно, чтобы голосовой помощник считал ответы и сразу превратил их в числа\n"
      ],
      "metadata": {
        "id": "kGy2DogjN3VH"
      }
    },
    {
      "cell_type": "code",
      "source": [
        "# ваше решение здесь\n",
        "print('Вас приветсвует робот-помощник. Назовите номер договора')\n",
        "num = int(input())\n",
        "print('Номер вашего договора:', str(num) + '.', 'Назовите текущие показания счетчика горячей воды.')\n",
        "hot_water = int(input())\n",
        "print(f'Показания счетчика: {hot_water}. Назовите текущие показания счетчика холодной воды.') # удобнее f-строкой\n",
        "cold_water = int(input())\n",
        "print(f'Показания счетчика: {cold_water}. Ваши показания приняты.')\n",
        "print('Спасибо за звонок. До свидания')"
      ],
      "metadata": {
        "id": "8lessJ6TNyLL",
        "colab": {
          "base_uri": "https://localhost:8080/"
        },
        "outputId": "ad35e69e-15b0-4528-cd9a-0e7a20bdb07c"
      },
      "execution_count": null,
      "outputs": [
        {
          "output_type": "stream",
          "name": "stdout",
          "text": [
            "Вас приветсвует робот-помощник. Назовите номер договора\n",
            "123456\n",
            "Номер вашего договора: 123456. Назовите текущие показания счетчика горячей воды.\n",
            "100\n",
            "Показания счетчика: 100. Назовите текущие показания счетчика холодной воды.\n",
            "150\n",
            "Показания счетчика: 150. Ваши показания приняты.\n",
            "Спасибо за звонок. До свидания\n"
          ]
        }
      ]
    },
    {
      "cell_type": "markdown",
      "source": [
        "# Задача 10"
      ],
      "metadata": {
        "id": "99FPKEW4afsy"
      }
    },
    {
      "cell_type": "markdown",
      "source": [
        "У вас есть шаблон письма, переделайте его таким образом, чтобы можно было отправить его участнику другого пола:\n",
        "\n",
        "Уважаемый Александр Сергеевич, Ваш доклад \"Python for Digital Humanities\" включен в программу XXIV Ясинской (Апрельской) международной научной конференции по проблемам развития экономики и общества."
      ],
      "metadata": {
        "id": "rPyH9aNXT7Ks"
      }
    },
    {
      "cell_type": "code",
      "source": [
        "name = 'Арина Родионовна'\n",
        "letter = 'Уважаемый Александр Сергеевич, Ваш доклад \"Python for Digital Humanities\" включен в программу XXIV Ясинской (Апрельской) международной научной конференции по проблемам развития экономики и общества.'\n",
        "# ваше решение здесь\n",
        "print(letter[:6] + 'ая', name + letter[letter.find(','):])"
      ],
      "metadata": {
        "id": "mQZrbXpDUX-C",
        "colab": {
          "base_uri": "https://localhost:8080/"
        },
        "outputId": "0c7ee24c-16ce-4dbe-bd62-102ebb39954a"
      },
      "execution_count": null,
      "outputs": [
        {
          "output_type": "stream",
          "name": "stdout",
          "text": [
            "Уважаеая Арина Родионовна, Ваш доклад \"Python for Digital Humanities\" включен в программу XXIV Ясинской (Апрельской) международной научной конференции по проблемам развития экономики и общества.\n"
          ]
        }
      ]
    }
  ]
}