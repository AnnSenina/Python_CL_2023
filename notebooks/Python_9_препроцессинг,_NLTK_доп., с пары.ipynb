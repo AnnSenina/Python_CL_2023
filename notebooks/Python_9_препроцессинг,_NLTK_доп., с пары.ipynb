{
  "nbformat": 4,
  "nbformat_minor": 0,
  "metadata": {
    "colab": {
      "provenance": [],
      "include_colab_link": true
    },
    "kernelspec": {
      "name": "python3",
      "display_name": "Python 3"
    },
    "language_info": {
      "name": "python"
    }
  },
  "cells": [
    {
      "cell_type": "markdown",
      "metadata": {
        "id": "view-in-github",
        "colab_type": "text"
      },
      "source": [
        "<a href=\"https://colab.research.google.com/github/AnnSenina/Python_CL_2023/blob/main/notebooks/Python_9_%D0%BF%D1%80%D0%B5%D0%BF%D1%80%D0%BE%D1%86%D0%B5%D1%81%D1%81%D0%B8%D0%BD%D0%B3%2C_NLTK_%D0%B4%D0%BE%D0%BF.%2C%20%D1%81%20%D0%BF%D0%B0%D1%80%D1%8B.ipynb\" target=\"_parent\"><img src=\"https://colab.research.google.com/assets/colab-badge.svg\" alt=\"Open In Colab\"/></a>"
      ]
    },
    {
      "cell_type": "code",
      "source": [
        "import re\n",
        "text = \"#я не могу молчать #я не могу кричать #я не могу #я справлюсь я не могу молчать #я не могу петь #я все могу #с кем ни бывает #я никогда не могу \"\n",
        "print(re.findall(r\"#я не могу \\w*\", text))\n",
        "print(re.findall(r\"#я не могу \\w*|#я никогда не могу \\w*\", text))\n",
        "print(re.findall(r\"#я.{1,9}не могу \\w*\", text))"
      ],
      "metadata": {
        "id": "eYbAaXuHg4z5",
        "outputId": "49356a9c-be39-4970-b071-c27770065b1d",
        "colab": {
          "base_uri": "https://localhost:8080/"
        }
      },
      "execution_count": 15,
      "outputs": [
        {
          "output_type": "stream",
          "name": "stdout",
          "text": [
            "['#я не могу молчать', '#я не могу кричать', '#я не могу ', '#я не могу петь']\n",
            "['#я не могу молчать', '#я не могу кричать', '#я не могу ', '#я не могу петь', '#я никогда не могу ']\n",
            "['#я не могу молчать', '#я не могу кричать', '#я не могу ', '#я не могу петь', '#я никогда не могу ']\n"
          ]
        }
      ]
    },
    {
      "cell_type": "markdown",
      "source": [
        "#Препроцессинг NLTK\n",
        "\n",
        "Подготовка текста для анализа\n",
        "\n",
        "<s>Ведь мы c вами все знаем, что на самом деле цифровой анализ текста - это и есть частотности слов</s> :)\n",
        "\n",
        "Используются материалы из тетрадок Д.Скоринкина, А. Хорошевой"
      ],
      "metadata": {
        "id": "xKMFDWff6OJ9"
      }
    },
    {
      "cell_type": "code",
      "execution_count": 16,
      "metadata": {
        "id": "MQfRhCxL3yA1",
        "outputId": "4087e21a-a474-4c8c-f431-a88e3bae3f01",
        "colab": {
          "base_uri": "https://localhost:8080/"
        }
      },
      "outputs": [
        {
          "output_type": "stream",
          "name": "stdout",
          "text": [
            "давайте нормализуем этот текст\n"
          ]
        }
      ],
      "source": [
        "# кое-что мы уже умеем, например:\n",
        "\n",
        "print(\" Давайте нормализуем этот текст!      \".lower().strip(\" )?!.\"))"
      ]
    },
    {
      "cell_type": "code",
      "source": [
        "# функция, убирающая пунктуацию\n",
        "\n",
        "import string\n",
        "\n",
        "def normalize(text):\n",
        "    normalized = text.lower().translate(str.maketrans('', '', string.punctuation)).split()\n",
        "    return normalized\n",
        "\n",
        "text = \"Mr. and Mrs. Dursley, of number four, Privet Drive, were proud to say that they were perfectly normal, thank you very much. They were the last people you’d expect to be involved in anything strange or mysterious, because they just didn’t hold with such nonsense.\"\n",
        "\n",
        "print(normalize(text))\n",
        "print(normalize('Привет, здравствуй мир!'))"
      ],
      "metadata": {
        "id": "HL8oD4Rm6uR5",
        "outputId": "c16c348f-0a55-442a-a651-0402b0bbb508",
        "colab": {
          "base_uri": "https://localhost:8080/"
        }
      },
      "execution_count": 20,
      "outputs": [
        {
          "output_type": "stream",
          "name": "stdout",
          "text": [
            "['mr', 'and', 'mrs', 'dursley', 'of', 'number', 'four', 'privet', 'drive', 'were', 'proud', 'to', 'say', 'that', 'they', 'were', 'perfectly', 'normal', 'thank', 'you', 'very', 'much', 'they', 'were', 'the', 'last', 'people', 'you’d', 'expect', 'to', 'be', 'involved', 'in', 'anything', 'strange', 'or', 'mysterious', 'because', 'they', 'just', 'didn’t', 'hold', 'with', 'such', 'nonsense']\n",
            "['привет', 'здравствуй', 'мир']\n"
          ]
        }
      ]
    },
    {
      "cell_type": "code",
      "source": [
        "string.punctuation"
      ],
      "metadata": {
        "id": "jP3wLsa3ngZz",
        "outputId": "3ea320f3-c048-4db5-bacb-a035d4b2fb1d",
        "colab": {
          "base_uri": "https://localhost:8080/",
          "height": 35
        }
      },
      "execution_count": 18,
      "outputs": [
        {
          "output_type": "execute_result",
          "data": {
            "text/plain": [
              "'!\"#$%&\\'()*+,-./:;<=>?@[\\\\]^_`{|}~'"
            ],
            "application/vnd.google.colaboratory.intrinsic+json": {
              "type": "string"
            }
          },
          "metadata": {},
          "execution_count": 18
        }
      ]
    },
    {
      "cell_type": "markdown",
      "source": [
        "Метод .maketrans() имеет три аргумента и создает таблицу перевода:\n",
        "\n",
        "* какие символы переводить (первый аргумент)\n",
        "* в какие переводить (второй аргумент)\n",
        "* какие символы удалять (третий аргумент)\n",
        "Метод .translate() использует таблицу перевода, чтобы превратить символы в новые символы.\n",
        "\n",
        "В нашем случае, в методе .maketrans() первые два аргумента мы оставляем пустыми (ничто переводится в ничто), а аргумент для удаления определяем как строку punctuation, в которой содержатся все символы пунктуации."
      ],
      "metadata": {
        "id": "pZ3Pm9ey8Qgr"
      }
    },
    {
      "cell_type": "markdown",
      "source": [
        "#Задача 1: вспомним то, что уже умеем"
      ],
      "metadata": {
        "id": "vPvYUki89ZHp"
      }
    },
    {
      "cell_type": "markdown",
      "source": [
        "Определяем лучшего писателя отзывов.\n",
        "У вас есть четрые отзыва на фильм С.Кубрика \"Сияние\". Вам нужно определить, кто из авторов отзывов написал отзыв с наибольшим количеством уникальных слов.\n",
        "    \n",
        "    Для определения вам нужно: (для каждого автора)\n",
        "\n",
        "    1. Предобработать строку, сведя все к нижнему регистру, убрать пунктуацию.\n",
        "    2. Превратить строку в список\n",
        "    3. Оставить уникальные элементы в списке (превратить список во множество)\n",
        "    4. Определить размер такого множества\n",
        "    \n",
        "У кого из авторов количество уникальных слов наибольшее?\n"
      ],
      "metadata": {
        "id": "1Yf1XqpY-Cdw"
      }
    },
    {
      "cell_type": "code",
      "source": [
        "paul = \"\"\"When this film first came out in 1980, I remember going to see it on opening night. This movie just scared the life out of me, which is what still happens every time\n",
        "I rent the video for a re-watch.I have seen The Shining at least six or seven times, and I still believe it to be simultaneously and paradoxically one of the most frightening and yet funniest films I've ever seen. Frightening because of the extraordinarily effective use of long shots to create feelings of isolation, convex lens shots to enhance surrealism, and meticulously scored music to bring tension levels to virtually unbearable levels. And \\\"funny\\\" because of Jack Nicholson's outrageous and in many cases ad-libbed onscreen antics. It never ceases to amaze me how The Shining is actually two films in one, both a comedy AND a horror flick. Ghostly apparitions of a strikingly menacing nature haunt much of the first half of the film, which gradually evolve into ever more serious physical threats as time progresses. Be that as it may, there is surprisingly little violence given the apparent intensity, but that is little comfort\n",
        "for the feint of heart as much of the terror is more implied than manifest. The Shining is a truly frightening movie that works symbolically on many levels, but is basically  about human shortcomings and the way they can be exploited by unconscious forces combined with weakness of will. This film scares the most just by using suggestion to turn your own imagination against you. The Shining is a brilliant cinematic masterpiece, the likes of which have never been seen before or since. Highly, highly recommended.\"\"\"\n",
        "\n",
        "jane = \"\"\"Chilling, majestic piece of cinematic fright, this film combines all the great elements of an intellectual thriller, with the grand vision of a director who has the instinctual capacity to pace a moody horror flick within the realm of his filmmaking genius that includes an eye for the original shot, an ice-cold soundtrack and an overall sense of dehumanization. This movie cuts through all the typical horror\n",
        "movies like a red-poker through a human eye, as it allows the viewer to not only feel the violence and psychosis of its protagonist, but appreciate the seed from which the derangement stems. One of the scariest things for people\n",
        "to face is the unknown and this film presents its plotting with just that thought in mind. The setting is perfect, in a desolate winter hideaway. The quietness of the moment is a character in itself, as the fermenting aggressor in Jack Torrance's mind wallows in this idle time, and breeds the devil's new playground. I always felt like the presence of evil was dormant in all of our minds, with only the circumstances of the moment, and the reasons given therein, needed to wake its violent ass and pounce over its unsuspecting victims. This film is a perfect example of this very thought.\"\"\"\n",
        "\n",
        "kate = \"\"\"What can I say about the scariest movie I have ever seen that has not already been said by others more articulate than yours truly? Do not view this film expecting to see a screen version of the Stephen King novel.\n",
        "Rather, this is a Stanley Kubrick film, and to fully appreciate it one should judge it within the context of Kubrick's entire body of work as a serious filmmaker. Thematically, THE SHINING relates most closely to 2001:\n",
        "A SPACE ODYSSEY, though flourishes of PATHS OF GLORY, A CLOCKWORK ORANGE and BARRY LYNDON do manage to figure prominently in the film's overall technique. In a nutshell (no pun intended), Jack Nicholson and Shelly Duvall co-star with Oregon's Timberline Lodge - enlisted to portray the exterior of the Overlook Hotel - in a story that appears on the surface to be about ghosts and insanity, but deals with issues of child abuse,\n",
        "immortality and duality. What the film might lack initially in terms of coherence is more than made up for in technique. Garrett Brown (the male voice in those old Molson Golden commercials), inventor of the Steadicam,chases young Danny Lloyd through hotel corridors and an amazing snow maze, providing magic-carpet-ride fluidity to scenes that ten years earlier would have been impossible to accomplish. If the film starts off too slow, remember who the director is. This man likes to take his time, and the results are well worth it: incredible aerial shots of the Overlook Hotel; horrific Diane Arbus-inspired twins staring directly at us; portentous room 237 and its treasure trove of terrible secrets; elevators that gush rivers of blood in slow-motion; Jack Torrance's immortality found via the hotel (akin to David Bowman's journey through the Space Gate); and some of the best use of pre-existing music ever assembled for a motion picture.\"\"\"\n",
        "\n",
        "nick = \"\"\"I was never a big fan of horror movies. They usually try cheap tricks to scare their audiences like loud noises and creepy children. They usually lack originality and contain overacting galore. The only horror movie i\n",
        "like was Stir of Echoes with Kevin Bacon. It was well-acted, and had a great story. But it has been joined and maybe even surpassed by Stanley Kubrick's The Shining, quite possibly the scariest movie ever. The movie follows a writer (Jack Nicholson) and his family who agree to watch over a hotel while it is closed for the winter. There were rumors of the place being haunted and the last resident went crazy and murdered his family. But Jack is convinced it will be OK and he can use the quiet to overcome his writer's block. After months of solitude and silence however, Jack becomes a grumpy and later violent. Is it cabin fever or is there something in the hotel that is driving him mad? One of the creepiest parts about the movie is the feeling of isolation that Kubrick makes. The hotel is very silent, and the rooms are huge, yet always empty. It is also eerily calm when Jack's son is riding his bike through the barren hallways. Jack Nicholson's performance is also one of his very best, scaring the hell out of me and making me sure to get out once in awhile. My favorite scene is when he is talking to a ghost from inside a walk-in refrigerator. The Shining is tops for horror movies in my opinion, beating the snot out of crap like the Ring and The Blair Witch Project. It may be a oldie, but is definitely a goodie.\"\"\""
      ],
      "metadata": {
        "id": "sM8a9Tlw-AEu"
      },
      "execution_count": 21,
      "outputs": []
    },
    {
      "cell_type": "code",
      "source": [
        "# мы можем использовать тройные кавычки (то есть три одинарные кавычки или три двойные кавычки) для строк с одинарными и двойными кавычками\n",
        "# так мы исключаем необходимость экранирования любых кавычек\n",
        "# а еще можем записывать перенос строки без экранирования \\n"
      ],
      "metadata": {
        "id": "12FjlgZz--bf"
      },
      "execution_count": null,
      "outputs": []
    },
    {
      "cell_type": "code",
      "source": [
        "print(len(set(normalize(paul))))\n",
        "print(len(set(normalize(jane))))\n",
        "print(len(set(normalize(kate))))\n",
        "print(len(set(normalize(nick))))"
      ],
      "metadata": {
        "id": "PVPLIyML_3fh",
        "outputId": "e6246fb7-185f-4c7e-d298-51fe1d2bb421",
        "colab": {
          "base_uri": "https://localhost:8080/"
        }
      },
      "execution_count": 105,
      "outputs": [
        {
          "output_type": "stream",
          "name": "stdout",
          "text": [
            "168\n",
            "129\n",
            "208\n",
            "174\n"
          ]
        }
      ]
    },
    {
      "cell_type": "markdown",
      "source": [
        "## Давайте попробуем подготовить текст романа \"Преступление и наказание\" к анализу\n",
        "\n",
        "Проведем предобработку текста. Посмотрим на практике, на каком этапе нужна лемматизация."
      ],
      "metadata": {
        "id": "75EnFxyh9CNo"
      }
    },
    {
      "cell_type": "code",
      "source": [
        "# Важно! Если файл не найден, проверьте, где у вас рабочая директория (папка с питоном):\n",
        "import os\n",
        "print(os.getcwd())\n",
        "\n",
        "# видите ли вы его в файлах:\n",
        "print(os.listdir())"
      ],
      "metadata": {
        "id": "C4gb7KFcHV0H"
      },
      "execution_count": null,
      "outputs": []
    },
    {
      "cell_type": "code",
      "source": [
        "with open('Dostoevsky_PrestuplenieINakazanie.txt', 'r', encoding='utf-8') as f:\n",
        "    text = f.read()"
      ],
      "metadata": {
        "id": "Rt48CpY_7G3R"
      },
      "execution_count": 33,
      "outputs": []
    },
    {
      "cell_type": "code",
      "source": [
        "text = text.lower()"
      ],
      "metadata": {
        "id": "tzuGUmxNB9w2"
      },
      "execution_count": 34,
      "outputs": []
    },
    {
      "cell_type": "markdown",
      "source": [
        "Убедимся, что в тексте лежит то что мы ожидаем:"
      ],
      "metadata": {
        "id": "bViid1pcCC2f"
      }
    },
    {
      "cell_type": "code",
      "source": [
        "# начало романа:\n",
        "print(text[:100])"
      ],
      "metadata": {
        "id": "1HDYpUUICBDy",
        "outputId": "57c95edb-fec0-4c2e-dc4c-3d7eea996fd3",
        "colab": {
          "base_uri": "https://localhost:8080/"
        }
      },
      "execution_count": 29,
      "outputs": [
        {
          "output_type": "stream",
          "name": "stdout",
          "text": [
            "преступление и наказание \n",
            "\n",
            "роман в шести частях с эпилогом\n",
            "\n",
            "  \n",
            "часть первая\n",
            "\n",
            "i\n",
            "\n",
            "   в начале июля, в \n"
          ]
        }
      ]
    },
    {
      "cell_type": "markdown",
      "source": [
        "Получим слова\n",
        "\n",
        "* Их частотности\n",
        "* Их сочетаемость друг с другом\n",
        "* Их распределение по тексту и т.д."
      ],
      "metadata": {
        "id": "VSSKHEv_Cu87"
      }
    },
    {
      "cell_type": "markdown",
      "source": [
        "Мы знаем простой способ токенизировать строку — метод .split:"
      ],
      "metadata": {
        "id": "E3zx-YjOEpGV"
      }
    },
    {
      "cell_type": "markdown",
      "source": [
        "Теперь разделим \"Преступление и наказание\" и посчитаем в нем слова — хотя бы примерно:"
      ],
      "metadata": {
        "id": "Gts2Q-QcEyk6"
      }
    },
    {
      "cell_type": "code",
      "source": [
        "text_list = text.split()\n",
        "print('Примерное количество слов в \"Преступлении и наказании\":', len(text))\n",
        "# запомним это число..."
      ],
      "metadata": {
        "id": "F_do8eUlEula",
        "outputId": "c5340e62-2276-442a-9ecc-5c6f7b1a3258",
        "colab": {
          "base_uri": "https://localhost:8080/"
        }
      },
      "execution_count": 30,
      "outputs": [
        {
          "output_type": "stream",
          "name": "stdout",
          "text": [
            "Примерное количество слов в \"Преступлении и наказании\": 1094386\n"
          ]
        }
      ]
    },
    {
      "cell_type": "code",
      "source": [
        "# посмотрим на верхушку этого списка\n",
        "print(text_list[:30])"
      ],
      "metadata": {
        "id": "5TRW36KRFBjY",
        "outputId": "da33266a-9ba7-4d21-ad5a-4fb8cceb17c5",
        "colab": {
          "base_uri": "https://localhost:8080/"
        }
      },
      "execution_count": 31,
      "outputs": [
        {
          "output_type": "stream",
          "name": "stdout",
          "text": [
            "['преступление', 'и', 'наказание', 'роман', 'в', 'шести', 'частях', 'с', 'эпилогом', 'часть', 'первая', 'i', 'в', 'начале', 'июля,', 'в', 'чрезвычайно', 'жаркое', 'время,', 'под', 'вечер,', 'один', 'молодой', 'человек', 'вышел', 'из', 'своей', 'каморки,', 'которую', 'нанимал']\n"
          ]
        }
      ]
    },
    {
      "cell_type": "code",
      "source": [
        "# посмотрим на все слова, в которых есть подстрока 'топор'\n",
        "for token in text_list:\n",
        "  if 'топор' in token:\n",
        "    print(token)"
      ],
      "metadata": {
        "id": "jSV0ykmGFkud",
        "outputId": "1bb8a79a-9ddd-4484-b83e-2d31be6cc604",
        "colab": {
          "base_uri": "https://localhost:8080/"
        }
      },
      "execution_count": 32,
      "outputs": [
        {
          "output_type": "stream",
          "name": "stdout",
          "text": [
            "топором\n",
            "топор,\n",
            "топором...\n",
            "топора.\n",
            "топор\n",
            "топора,\n",
            "топорной\n",
            "топор.\n",
            "топором,\n",
            "топоре\n",
            "топор,\n",
            "топор,\n",
            "топора,\n",
            "топором\n",
            "топора!\n",
            "топор\n",
            "топор)\n",
            "топор,\n",
            "топор.\n",
            "топор\n",
            "топор...\n",
            "топор\n",
            "топор,\n",
            "топор\n",
            "топор\n",
            "топором,\n",
            "топор,\n",
            "топором\n",
            "топор,\n",
            "топор\n",
            "топором;\n",
            "топор\n",
            "топор.\n",
            "топор\n",
            "топор,\n",
            "топор\n",
            "топор\n",
            "топор\n",
            "топор.\n",
            "топор?\n",
            "топоре.\n",
            "топора\n",
            "топор.\n",
            "топор\n",
            "топором\".\n",
            "топором\n",
            "топорами,\n",
            "топором,\n",
            "топором\n",
            "топор\n",
            "топор\n",
            "топора\n",
            "топором\n",
            "топором.\n",
            "топором.\n",
            "топор,\n",
            "топором,\n",
            "топором,\n",
            "топором,\n",
            "топором\n"
          ]
        }
      ]
    },
    {
      "cell_type": "markdown",
      "source": [
        "### Более умный способ токенизации: делим текст регулярным выражением\n"
      ],
      "metadata": {
        "id": "JSihridMFwQi"
      }
    },
    {
      "cell_type": "code",
      "source": [
        "import re\n",
        "text_list_with_re = re.split(r\"[-@\\s.,)(\\\":;!?–\\n]+\", text)"
      ],
      "metadata": {
        "id": "ygQFU5L3F0N-"
      },
      "execution_count": 35,
      "outputs": []
    },
    {
      "cell_type": "code",
      "source": [
        "text_list_with_re[:30]"
      ],
      "metadata": {
        "id": "W5KBGxzkF_RZ",
        "outputId": "2dea8b8e-9ee2-4c96-dfb6-11095f9788ca",
        "colab": {
          "base_uri": "https://localhost:8080/"
        }
      },
      "execution_count": 36,
      "outputs": [
        {
          "output_type": "execute_result",
          "data": {
            "text/plain": [
              "['преступление',\n",
              " 'и',\n",
              " 'наказание',\n",
              " 'роман',\n",
              " 'в',\n",
              " 'шести',\n",
              " 'частях',\n",
              " 'с',\n",
              " 'эпилогом',\n",
              " 'часть',\n",
              " 'первая',\n",
              " 'i',\n",
              " 'в',\n",
              " 'начале',\n",
              " 'июля',\n",
              " 'в',\n",
              " 'чрезвычайно',\n",
              " 'жаркое',\n",
              " 'время',\n",
              " 'под',\n",
              " 'вечер',\n",
              " 'один',\n",
              " 'молодой',\n",
              " 'человек',\n",
              " 'вышел',\n",
              " 'из',\n",
              " 'своей',\n",
              " 'каморки',\n",
              " 'которую',\n",
              " 'нанимал']"
            ]
          },
          "metadata": {},
          "execution_count": 36
        }
      ]
    },
    {
      "cell_type": "code",
      "source": [
        "# проверим, что проблема приклеившейся пунктуации ушла\n",
        "for word in text_list_with_re:\n",
        "  if 'топор' in word:\n",
        "    print(word)"
      ],
      "metadata": {
        "id": "SczKlOqaGEa9",
        "outputId": "116ff44a-a62f-4e41-e11c-a6f7556c287f",
        "colab": {
          "base_uri": "https://localhost:8080/"
        }
      },
      "execution_count": 37,
      "outputs": [
        {
          "output_type": "stream",
          "name": "stdout",
          "text": [
            "топором\n",
            "топор\n",
            "топором\n",
            "топора\n",
            "топор\n",
            "топора\n",
            "топорной\n",
            "топор\n",
            "топором\n",
            "топоре\n",
            "топор\n",
            "топор\n",
            "топора\n",
            "топором\n",
            "топора\n",
            "топор\n",
            "топор\n",
            "топор\n",
            "топор\n",
            "топор\n",
            "топор\n",
            "топор\n",
            "топор\n",
            "топор\n",
            "топор\n",
            "топором\n",
            "топор\n",
            "топором\n",
            "топор\n",
            "топор\n",
            "топором\n",
            "топор\n",
            "топор\n",
            "топор\n",
            "топор\n",
            "топор\n",
            "топор\n",
            "топор\n",
            "топор\n",
            "топор\n",
            "топоре\n",
            "топора\n",
            "топор\n",
            "топор\n",
            "топором\n",
            "топором\n",
            "топорами\n",
            "топором\n",
            "топором\n",
            "топор\n",
            "топор\n",
            "топора\n",
            "топором\n",
            "топором\n",
            "топором\n",
            "топор\n",
            "топором\n",
            "топором\n",
            "топором\n",
            "топором\n"
          ]
        }
      ]
    },
    {
      "cell_type": "code",
      "source": [
        "res = re.sub(r'\\W', ' ', text).split()\n",
        "print(len(res)) # в прошлый раз получилось 1094386\n",
        "# запомним это число тоже"
      ],
      "metadata": {
        "id": "VwKUIXyyBNXV",
        "outputId": "c5a60705-d25d-4bd3-9d65-10fa1d95db4f",
        "colab": {
          "base_uri": "https://localhost:8080/"
        }
      },
      "execution_count": 38,
      "outputs": [
        {
          "output_type": "stream",
          "name": "stdout",
          "text": [
            "173393\n"
          ]
        }
      ]
    },
    {
      "cell_type": "markdown",
      "source": [
        "### Еще более умный способ: сегментируем текст готовым токенизатором — возьмем его из прекрасной библиотеки для обработки языка NLTK\n",
        "\n",
        "[Документация по NLTK](https://www.nltk.org/) и [книжка](https://www.nltk.org/book/)"
      ],
      "metadata": {
        "id": "HH5xf4oiGOHY"
      }
    },
    {
      "cell_type": "code",
      "source": [
        "!pip install nltk\n",
        "# в Colab уже есть, в других средах - установите\n",
        "# напоминаю, что в PyCharm мы устанавливаем в терминале без !"
      ],
      "metadata": {
        "id": "SCwW6hEo-8f1",
        "outputId": "6336f7f7-6065-4942-91ac-6973312a609c",
        "colab": {
          "base_uri": "https://localhost:8080/"
        }
      },
      "execution_count": 39,
      "outputs": [
        {
          "output_type": "stream",
          "name": "stdout",
          "text": [
            "Requirement already satisfied: nltk in /usr/local/lib/python3.10/dist-packages (3.8.1)\n",
            "Requirement already satisfied: click in /usr/local/lib/python3.10/dist-packages (from nltk) (8.1.7)\n",
            "Requirement already satisfied: joblib in /usr/local/lib/python3.10/dist-packages (from nltk) (1.3.2)\n",
            "Requirement already satisfied: regex>=2021.8.3 in /usr/local/lib/python3.10/dist-packages (from nltk) (2023.6.3)\n",
            "Requirement already satisfied: tqdm in /usr/local/lib/python3.10/dist-packages (from nltk) (4.66.1)\n"
          ]
        }
      ]
    },
    {
      "cell_type": "code",
      "source": [
        "# все библиотеки и импорты на сегодня\n",
        "from nltk.tokenize import word_tokenize, wordpunct_tokenize\n",
        "\n",
        "# это подгрузка вспомогательных данных, которые нужны nltk для токенизации\n",
        "from nltk import download\n",
        "download('punkt')\n",
        "\n",
        "# стоп-слова\n",
        "download('stopwords')\n",
        "from nltk.corpus import stopwords\n",
        "stop_words = stopwords.words('russian')\n",
        "en_stop_words = stopwords.words('english')\n",
        "\n",
        "\n",
        "# стемминг\n",
        "from nltk.stem.snowball import SnowballStemmer\n",
        "stemmer = SnowballStemmer(\"russian\")\n",
        "\n",
        "# разделение на предложения\n",
        "from nltk.tokenize import sent_tokenize"
      ],
      "metadata": {
        "id": "gE1JTGwiGo9x",
        "outputId": "825d09d2-344a-4fd1-e7f5-03f0c2d81ee8",
        "colab": {
          "base_uri": "https://localhost:8080/"
        }
      },
      "execution_count": 65,
      "outputs": [
        {
          "output_type": "stream",
          "name": "stderr",
          "text": [
            "[nltk_data] Downloading package punkt to /root/nltk_data...\n",
            "[nltk_data]   Package punkt is already up-to-date!\n",
            "[nltk_data] Downloading package stopwords to /root/nltk_data...\n",
            "[nltk_data]   Package stopwords is already up-to-date!\n"
          ]
        }
      ]
    },
    {
      "cell_type": "code",
      "source": [
        "text_2 = \"\"\"Задача NLI важна для компьютерных лингвистов, ибо она позволяет детально рассмотреть, какие языковые явления данная модель понимает хорошо, а на каких – \"плывёт\"; по этому принципу устроены диагностические датасеты SuperGLUE и RussianSuperGLUE. Кроме этого, модели NLI обладают прикладной ценностью по нескольким причинам.\n",
        "Во-первых, NLI можно использовать для контроля качества генеративных моделей. Есть масса задач, где на основе текста X нужно сгенерировать близкий к нему по смыслу текст Y: суммаризация, упрощение текстов, перефразирование, перенос стиля на текстах, текстовые вопросно-ответные системы, и даже машинный перевод. Современные seq2seq нейросети типа T5 (которая в этом году появилась и для русского языка) в целом неплохо справляются с такими задачами, но время от времени лажают, упуская какую-то важную информацию из Х, или, наоборот, дописывая в текст Y что-то нафантазированное \"от себя\". С помощью модели NLI можно проверять, что из X следует Y (то есть в новом тексте нету \"отсебятины\", придуманной моделью), и что из Y следует X (т.е. вся информация, присутствовавшая в исходном тексте, в новом также отражена).\n",
        "Во-вторых, с помощью моделей NLI можно находить нетривиальные парафразы и в целом определять смысловую близость текстов. Для русского языка уже существует ряд моделей и датасетов по перефразированию, но кажется, что можно сделать ещё больше и лучше. В статье Improving Paraphrase Detection with the Adversarial Paraphrasing Task предложили считать парафразами такую пару предложений, в которой каждое логически следует из другого – и это весьма логично. Поэтому модели NLI можно использовать и для сбора обучающего корпуса парафраз (и не-парафраз, если стоит задача их детекции), и для фильтрации моделей, генерирующих парафразы.\"\"\"\n",
        "# текст отсюда - https://habr.com/ru/post/582620/"
      ],
      "metadata": {
        "id": "Zjy_KO28T1Qz"
      },
      "execution_count": 41,
      "outputs": []
    },
    {
      "cell_type": "code",
      "source": [
        "print(wordpunct_tokenize(text_2))\n",
        "# wordpunct_tokenizer разбирает по регулярке - '\\w+|[^\\w\\s]+'\n",
        "# word_tokenize - тоже основан на регулярках, но более умных (учитывается последовательность некоторых символов, символы начала, конца слова и т.д).\n",
        "# для русского языка работает немного хуже, чем для английского"
      ],
      "metadata": {
        "id": "NPgNbDEgT177",
        "outputId": "1e4a418e-4858-4150-c83b-43801a766934",
        "colab": {
          "base_uri": "https://localhost:8080/"
        }
      },
      "execution_count": 108,
      "outputs": [
        {
          "output_type": "stream",
          "name": "stdout",
          "text": [
            "['Задача', 'NLI', 'важна', 'для', 'компьютерных', 'лингвистов', ',', 'ибо', 'она', 'позволяет', 'детально', 'рассмотреть', ',', 'какие', 'языковые', 'явления', 'данная', 'модель', 'понимает', 'хорошо', ',', 'а', 'на', 'каких', '–', '\"', 'плывёт', '\";', 'по', 'этому', 'принципу', 'устроены', 'диагностические', 'датасеты', 'SuperGLUE', 'и', 'RussianSuperGLUE', '.', 'Кроме', 'этого', ',', 'модели', 'NLI', 'обладают', 'прикладной', 'ценностью', 'по', 'нескольким', 'причинам', '.', 'Во', '-', 'первых', ',', 'NLI', 'можно', 'использовать', 'для', 'контроля', 'качества', 'генеративных', 'моделей', '.', 'Есть', 'масса', 'задач', ',', 'где', 'на', 'основе', 'текста', 'X', 'нужно', 'сгенерировать', 'близкий', 'к', 'нему', 'по', 'смыслу', 'текст', 'Y', ':', 'суммаризация', ',', 'упрощение', 'текстов', ',', 'перефразирование', ',', 'перенос', 'стиля', 'на', 'текстах', ',', 'текстовые', 'вопросно', '-', 'ответные', 'системы', ',', 'и', 'даже', 'машинный', 'перевод', '.', 'Современные', 'seq2seq', 'нейросети', 'типа', 'T5', '(', 'которая', 'в', 'этом', 'году', 'появилась', 'и', 'для', 'русского', 'языка', ')', 'в', 'целом', 'неплохо', 'справляются', 'с', 'такими', 'задачами', ',', 'но', 'время', 'от', 'времени', 'лажают', ',', 'упуская', 'какую', '-', 'то', 'важную', 'информацию', 'из', 'Х', ',', 'или', ',', 'наоборот', ',', 'дописывая', 'в', 'текст', 'Y', 'что', '-', 'то', 'нафантазированное', '\"', 'от', 'себя', '\".', 'С', 'помощью', 'модели', 'NLI', 'можно', 'проверять', ',', 'что', 'из', 'X', 'следует', 'Y', '(', 'то', 'есть', 'в', 'новом', 'тексте', 'нету', '\"', 'отсебятины', '\",', 'придуманной', 'моделью', '),', 'и', 'что', 'из', 'Y', 'следует', 'X', '(', 'т', '.', 'е', '.', 'вся', 'информация', ',', 'присутствовавшая', 'в', 'исходном', 'тексте', ',', 'в', 'новом', 'также', 'отражена', ').', 'Во', '-', 'вторых', ',', 'с', 'помощью', 'моделей', 'NLI', 'можно', 'находить', 'нетривиальные', 'парафразы', 'и', 'в', 'целом', 'определять', 'смысловую', 'близость', 'текстов', '.', 'Для', 'русского', 'языка', 'уже', 'существует', 'ряд', 'моделей', 'и', 'датасетов', 'по', 'перефразированию', ',', 'но', 'кажется', ',', 'что', 'можно', 'сделать', 'ещё', 'больше', 'и', 'лучше', '.', 'В', 'статье', 'Improving', 'Paraphrase', 'Detection', 'with', 'the', 'Adversarial', 'Paraphrasing', 'Task', 'предложили', 'считать', 'парафразами', 'такую', 'пару', 'предложений', ',', 'в', 'которой', 'каждое', 'логически', 'следует', 'из', 'другого', '–', 'и', 'это', 'весьма', 'логично', '.', 'Поэтому', 'модели', 'NLI', 'можно', 'использовать', 'и', 'для', 'сбора', 'обучающего', 'корпуса', 'парафраз', '(', 'и', 'не', '-', 'парафраз', ',', 'если', 'стоит', 'задача', 'их', 'детекции', '),', 'и', 'для', 'фильтрации', 'моделей', ',', 'генерирующих', 'парафразы', '.']\n"
          ]
        }
      ]
    },
    {
      "cell_type": "code",
      "source": [
        "print(word_tokenize(text_2))"
      ],
      "metadata": {
        "id": "i6dPXuIM0T4X",
        "outputId": "853c30f8-6bd6-4335-9ab5-9c1ef1f473b7",
        "colab": {
          "base_uri": "https://localhost:8080/"
        }
      },
      "execution_count": 109,
      "outputs": [
        {
          "output_type": "stream",
          "name": "stdout",
          "text": [
            "['Задача', 'NLI', 'важна', 'для', 'компьютерных', 'лингвистов', ',', 'ибо', 'она', 'позволяет', 'детально', 'рассмотреть', ',', 'какие', 'языковые', 'явления', 'данная', 'модель', 'понимает', 'хорошо', ',', 'а', 'на', 'каких', '–', '``', 'плывёт', \"''\", ';', 'по', 'этому', 'принципу', 'устроены', 'диагностические', 'датасеты', 'SuperGLUE', 'и', 'RussianSuperGLUE', '.', 'Кроме', 'этого', ',', 'модели', 'NLI', 'обладают', 'прикладной', 'ценностью', 'по', 'нескольким', 'причинам', '.', 'Во-первых', ',', 'NLI', 'можно', 'использовать', 'для', 'контроля', 'качества', 'генеративных', 'моделей', '.', 'Есть', 'масса', 'задач', ',', 'где', 'на', 'основе', 'текста', 'X', 'нужно', 'сгенерировать', 'близкий', 'к', 'нему', 'по', 'смыслу', 'текст', 'Y', ':', 'суммаризация', ',', 'упрощение', 'текстов', ',', 'перефразирование', ',', 'перенос', 'стиля', 'на', 'текстах', ',', 'текстовые', 'вопросно-ответные', 'системы', ',', 'и', 'даже', 'машинный', 'перевод', '.', 'Современные', 'seq2seq', 'нейросети', 'типа', 'T5', '(', 'которая', 'в', 'этом', 'году', 'появилась', 'и', 'для', 'русского', 'языка', ')', 'в', 'целом', 'неплохо', 'справляются', 'с', 'такими', 'задачами', ',', 'но', 'время', 'от', 'времени', 'лажают', ',', 'упуская', 'какую-то', 'важную', 'информацию', 'из', 'Х', ',', 'или', ',', 'наоборот', ',', 'дописывая', 'в', 'текст', 'Y', 'что-то', 'нафантазированное', '``', 'от', 'себя', \"''\", '.', 'С', 'помощью', 'модели', 'NLI', 'можно', 'проверять', ',', 'что', 'из', 'X', 'следует', 'Y', '(', 'то', 'есть', 'в', 'новом', 'тексте', 'нету', '``', 'отсебятины', \"''\", ',', 'придуманной', 'моделью', ')', ',', 'и', 'что', 'из', 'Y', 'следует', 'X', '(', 'т.е', '.', 'вся', 'информация', ',', 'присутствовавшая', 'в', 'исходном', 'тексте', ',', 'в', 'новом', 'также', 'отражена', ')', '.', 'Во-вторых', ',', 'с', 'помощью', 'моделей', 'NLI', 'можно', 'находить', 'нетривиальные', 'парафразы', 'и', 'в', 'целом', 'определять', 'смысловую', 'близость', 'текстов', '.', 'Для', 'русского', 'языка', 'уже', 'существует', 'ряд', 'моделей', 'и', 'датасетов', 'по', 'перефразированию', ',', 'но', 'кажется', ',', 'что', 'можно', 'сделать', 'ещё', 'больше', 'и', 'лучше', '.', 'В', 'статье', 'Improving', 'Paraphrase', 'Detection', 'with', 'the', 'Adversarial', 'Paraphrasing', 'Task', 'предложили', 'считать', 'парафразами', 'такую', 'пару', 'предложений', ',', 'в', 'которой', 'каждое', 'логически', 'следует', 'из', 'другого', '–', 'и', 'это', 'весьма', 'логично', '.', 'Поэтому', 'модели', 'NLI', 'можно', 'использовать', 'и', 'для', 'сбора', 'обучающего', 'корпуса', 'парафраз', '(', 'и', 'не-парафраз', ',', 'если', 'стоит', 'задача', 'их', 'детекции', ')', ',', 'и', 'для', 'фильтрации', 'моделей', ',', 'генерирующих', 'парафразы', '.']\n"
          ]
        }
      ]
    },
    {
      "cell_type": "code",
      "source": [
        "# давайте быстро найдем различия:\n",
        "set(wordpunct_tokenize(text_2)) ^ set(word_tokenize(text_2))"
      ],
      "metadata": {
        "id": "nVfJ26Fh1QZz",
        "outputId": "a7025ee9-7bba-4c9a-aa12-419e520a3e70",
        "colab": {
          "base_uri": "https://localhost:8080/"
        }
      },
      "execution_count": 110,
      "outputs": [
        {
          "output_type": "execute_result",
          "data": {
            "text/plain": [
              "{'\"',\n",
              " '\",',\n",
              " '\".',\n",
              " '\";',\n",
              " \"''\",\n",
              " '),',\n",
              " ').',\n",
              " '-',\n",
              " ';',\n",
              " '``',\n",
              " 'Во',\n",
              " 'Во-вторых',\n",
              " 'Во-первых',\n",
              " 'вопросно',\n",
              " 'вопросно-ответные',\n",
              " 'вторых',\n",
              " 'е',\n",
              " 'какую',\n",
              " 'какую-то',\n",
              " 'не',\n",
              " 'не-парафраз',\n",
              " 'ответные',\n",
              " 'первых',\n",
              " 'т',\n",
              " 'т.е',\n",
              " 'что-то'}"
            ]
          },
          "metadata": {},
          "execution_count": 110
        }
      ]
    },
    {
      "cell_type": "code",
      "source": [
        "print(len(wordpunct_tokenize(text_2)))"
      ],
      "metadata": {
        "id": "7_TjRBWv0qRr",
        "outputId": "8172f128-2e56-4afe-8bea-773356ffe5e2",
        "colab": {
          "base_uri": "https://localhost:8080/"
        }
      },
      "execution_count": 47,
      "outputs": [
        {
          "output_type": "stream",
          "name": "stdout",
          "text": [
            "313\n"
          ]
        }
      ]
    },
    {
      "cell_type": "code",
      "source": [
        "print(len(word_tokenize(text_2)))"
      ],
      "metadata": {
        "id": "L13DAZ3P0rc5",
        "outputId": "523f37b6-d9df-4d0a-e68c-988b67f0e286",
        "colab": {
          "base_uri": "https://localhost:8080/"
        }
      },
      "execution_count": 48,
      "outputs": [
        {
          "output_type": "stream",
          "name": "stdout",
          "text": [
            "305\n"
          ]
        }
      ]
    },
    {
      "cell_type": "code",
      "source": [
        "# вернемся к Достоевскому, используем более умную лемматизацию\n",
        "text_list_nltk = word_tokenize(text)\n",
        "print(text_list_nltk[:30])"
      ],
      "metadata": {
        "id": "7M8E1sxJGwnh",
        "outputId": "d4c7f887-7d36-4bed-90c0-c7b6386b5443",
        "colab": {
          "base_uri": "https://localhost:8080/"
        }
      },
      "execution_count": 49,
      "outputs": [
        {
          "output_type": "stream",
          "name": "stdout",
          "text": [
            "['преступление', 'и', 'наказание', 'роман', 'в', 'шести', 'частях', 'с', 'эпилогом', 'часть', 'первая', 'i', 'в', 'начале', 'июля', ',', 'в', 'чрезвычайно', 'жаркое', 'время', ',', 'под', 'вечер', ',', 'один', 'молодой', 'человек', 'вышел', 'из', 'своей']\n"
          ]
        }
      ]
    },
    {
      "cell_type": "markdown",
      "source": [
        "## Посчитаем частотность слов в нашем списке слов"
      ],
      "metadata": {
        "id": "H4nIAbE9HRao"
      }
    },
    {
      "cell_type": "markdown",
      "source": [
        "Мы могли бы написать цикл, который считает упоминания каждого слова, перебирая в списке токенов слово за словом. А затем посчитать их при помощи словаря.\n",
        "\n",
        "Но! Мы воспользуемся встроенным в Python объектом Counter; он все это сделает сам."
      ],
      "metadata": {
        "id": "9vMjWIrgHcFk"
      }
    },
    {
      "cell_type": "markdown",
      "source": [
        "### Counter -- встроенный счетчик частотностей в Python"
      ],
      "metadata": {
        "id": "ZPmJIpx9HnhQ"
      }
    },
    {
      "cell_type": "code",
      "source": [
        "from collections import Counter"
      ],
      "metadata": {
        "id": "pY3X7cnOHXq9"
      },
      "execution_count": 50,
      "outputs": []
    },
    {
      "cell_type": "code",
      "source": [
        "# Counter - это специальный объект, который умеет легко считать повторяющиеся элементы в iterable\n",
        "# Например в строке:\n",
        "char_freqs = Counter('aaaaabbbbcccddefghik') # получим частотности всех элементов строки\n",
        "print(char_freqs)\n",
        "print(char_freqs.most_common(3))"
      ],
      "metadata": {
        "id": "4pYvF8oMHqx5",
        "outputId": "4f11dc9e-956b-4dc2-b956-37b3c3296a19",
        "colab": {
          "base_uri": "https://localhost:8080/"
        }
      },
      "execution_count": 51,
      "outputs": [
        {
          "output_type": "stream",
          "name": "stdout",
          "text": [
            "Counter({'a': 5, 'b': 4, 'c': 3, 'd': 2, 'e': 1, 'f': 1, 'g': 1, 'h': 1, 'i': 1, 'k': 1})\n",
            "[('a', 5), ('b', 4), ('c', 3)]\n"
          ]
        }
      ]
    },
    {
      "cell_type": "code",
      "source": [
        "word_freqs = Counter(text_list_nltk) # отправим в Counter\n",
        "print(word_freqs.most_common(10)) # получим топ 10 слов"
      ],
      "metadata": {
        "id": "sUnjcX-cIAX-",
        "outputId": "e093b586-a0ad-413c-efa1-8734221421b1",
        "colab": {
          "base_uri": "https://localhost:8080/"
        }
      },
      "execution_count": 52,
      "outputs": [
        {
          "output_type": "stream",
          "name": "stdout",
          "text": [
            "[(',', 25337), ('и', 8452), ('.', 8198), ('--', 6073), ('не', 3779), ('в', 3727), ('!', 3265), ('что', 3215), ('он', 2852), ('на', 2407)]\n"
          ]
        }
      ]
    },
    {
      "cell_type": "markdown",
      "source": [
        "##Снова удалим пунктуацию"
      ],
      "metadata": {
        "id": "u7oNBTGlINjJ"
      }
    },
    {
      "cell_type": "code",
      "source": [
        "# вспомним старые способы\n",
        "\n",
        "print('john'.isalpha())\n",
        "print('1989'.isalpha())\n",
        "print(','.isalpha())\n",
        "print('диван-кровать'.isalpha()) # из-за дефиса тоже будет false"
      ],
      "metadata": {
        "id": "lvELGmdhIfFz",
        "outputId": "47323903-8b0f-49c2-fadf-6086cb5f302b",
        "colab": {
          "base_uri": "https://localhost:8080/"
        }
      },
      "execution_count": 53,
      "outputs": [
        {
          "output_type": "stream",
          "name": "stdout",
          "text": [
            "True\n",
            "False\n",
            "False\n",
            "False\n"
          ]
        }
      ]
    },
    {
      "cell_type": "code",
      "source": [
        "# методом maketrans, посмотрим на string.punctuation\n",
        "print(string.punctuation) # не хватает длинного тире"
      ],
      "metadata": {
        "id": "c73a3bPASykt",
        "outputId": "4a8c6460-8e75-462e-af71-0f51d0937786",
        "colab": {
          "base_uri": "https://localhost:8080/"
        }
      },
      "execution_count": 54,
      "outputs": [
        {
          "output_type": "stream",
          "name": "stdout",
          "text": [
            "!\"#$%&'()*+,-./:;<=>?@[\\]^_`{|}~\n"
          ]
        }
      ]
    },
    {
      "cell_type": "code",
      "source": [
        "text_without_punkt = []\n",
        "for word in text_list_nltk:\n",
        "    if word[0].isalnum(): # проверяем, что первый символ - буква или цифра, НЕ знак препинания\n",
        "        text_without_punkt.append(word)\n",
        "\n",
        "# на практике вы часто встретите строковые включения:\n",
        "# text_without_punkt = [word for word in text_list_nltk if word[0].isalpha()]\n",
        "# краткая форма записи цикла for"
      ],
      "metadata": {
        "id": "ZkmeiGNAI1kL"
      },
      "execution_count": 58,
      "outputs": []
    },
    {
      "cell_type": "code",
      "source": [
        "text_without_punkt[:30]"
      ],
      "metadata": {
        "id": "yQuKu10OJGz3",
        "outputId": "0cc91cc6-514d-4c93-fcf9-386a864b53af",
        "colab": {
          "base_uri": "https://localhost:8080/"
        }
      },
      "execution_count": 111,
      "outputs": [
        {
          "output_type": "execute_result",
          "data": {
            "text/plain": [
              "['преступление',\n",
              " 'и',\n",
              " 'наказание',\n",
              " 'роман',\n",
              " 'в',\n",
              " 'шести',\n",
              " 'частях',\n",
              " 'с',\n",
              " 'эпилогом',\n",
              " 'часть',\n",
              " 'первая',\n",
              " 'i',\n",
              " 'в',\n",
              " 'начале',\n",
              " 'июля',\n",
              " 'в',\n",
              " 'чрезвычайно',\n",
              " 'жаркое',\n",
              " 'время',\n",
              " 'под',\n",
              " 'вечер',\n",
              " 'один',\n",
              " 'молодой',\n",
              " 'человек',\n",
              " 'вышел',\n",
              " 'из',\n",
              " 'своей',\n",
              " 'каморки',\n",
              " 'которую',\n",
              " 'нанимал']"
            ]
          },
          "metadata": {},
          "execution_count": 111
        }
      ]
    },
    {
      "cell_type": "code",
      "source": [
        "print(len(text_without_punkt))\n",
        "# 1094386 получалось обычным .split()\n",
        "# 173393 получилось с использованием простой регулярки"
      ],
      "metadata": {
        "id": "Gx0XzdxzAp-G",
        "outputId": "c08facd2-7c87-487e-c057-44cade7f8afd",
        "colab": {
          "base_uri": "https://localhost:8080/"
        }
      },
      "execution_count": 62,
      "outputs": [
        {
          "output_type": "stream",
          "name": "stdout",
          "text": [
            "170097\n"
          ]
        }
      ]
    },
    {
      "cell_type": "markdown",
      "source": [
        "###Посмотрим на частотность слов без пунктуации"
      ],
      "metadata": {
        "id": "FrbsmxrIJNsx"
      }
    },
    {
      "cell_type": "code",
      "source": [
        "print(Counter(text_without_punkt).most_common(30))"
      ],
      "metadata": {
        "id": "0xhQQ7QwJRxF",
        "outputId": "95d4f244-a52e-4cd8-b68d-e7ce0fe71f12",
        "colab": {
          "base_uri": "https://localhost:8080/"
        }
      },
      "execution_count": 60,
      "outputs": [
        {
          "output_type": "stream",
          "name": "stdout",
          "text": [
            "[('и', 8452), ('не', 3779), ('в', 3727), ('что', 3215), ('он', 2852), ('на', 2407), ('я', 2395), ('с', 2007), ('а', 1777), ('как', 1622), ('это', 1386), ('его', 1189), ('так', 1172), ('но', 1155), ('же', 1130), ('да', 1055), ('вы', 969), ('всё', 953), ('к', 919), ('она', 901), ('бы', 865), ('было', 786), ('еще', 701), ('у', 697), ('то', 688), ('даже', 680), ('по', 667), ('за', 650), ('ее', 625), ('только', 619)]\n"
          ]
        }
      ]
    },
    {
      "cell_type": "markdown",
      "source": [
        "##Чистим от стоп-слов"
      ],
      "metadata": {
        "id": "O0jIlYlbJhMc"
      }
    },
    {
      "cell_type": "markdown",
      "source": [
        "Можно загрузить свои стоп-слова и удалить их, но проще взять из NLTK: там есть наборы стоп-слов для разных языков\n"
      ],
      "metadata": {
        "id": "D_Anp2_nJkVb"
      }
    },
    {
      "cell_type": "code",
      "source": [
        "# download('stopwords')\n",
        "# from nltk.corpus import stopwords\n",
        "stopwords.fileids()"
      ],
      "metadata": {
        "id": "5GGXQfOOJtt9",
        "outputId": "8b2478af-dc73-43bd-aac1-a1205172adf4",
        "colab": {
          "base_uri": "https://localhost:8080/"
        }
      },
      "execution_count": 64,
      "outputs": [
        {
          "output_type": "execute_result",
          "data": {
            "text/plain": [
              "['arabic',\n",
              " 'azerbaijani',\n",
              " 'basque',\n",
              " 'bengali',\n",
              " 'catalan',\n",
              " 'chinese',\n",
              " 'danish',\n",
              " 'dutch',\n",
              " 'english',\n",
              " 'finnish',\n",
              " 'french',\n",
              " 'german',\n",
              " 'greek',\n",
              " 'hebrew',\n",
              " 'hinglish',\n",
              " 'hungarian',\n",
              " 'indonesian',\n",
              " 'italian',\n",
              " 'kazakh',\n",
              " 'nepali',\n",
              " 'norwegian',\n",
              " 'portuguese',\n",
              " 'romanian',\n",
              " 'russian',\n",
              " 'slovene',\n",
              " 'spanish',\n",
              " 'swedish',\n",
              " 'tajik',\n",
              " 'turkish']"
            ]
          },
          "metadata": {},
          "execution_count": 64
        }
      ]
    },
    {
      "cell_type": "code",
      "source": [
        "stop_words = stopwords.words('russian')\n",
        "# stop_words + ['ваш_вариант', ] # можно добавить стоп-слова"
      ],
      "metadata": {
        "id": "48lj7mrL6Zoy",
        "outputId": "c17af403-ace1-4ea9-dd92-ae8f1b77ff49",
        "colab": {
          "base_uri": "https://localhost:8080/"
        }
      },
      "execution_count": 67,
      "outputs": [
        {
          "output_type": "execute_result",
          "data": {
            "text/plain": [
              "['и',\n",
              " 'в',\n",
              " 'во',\n",
              " 'не',\n",
              " 'что',\n",
              " 'он',\n",
              " 'на',\n",
              " 'я',\n",
              " 'с',\n",
              " 'со',\n",
              " 'как',\n",
              " 'а',\n",
              " 'то',\n",
              " 'все',\n",
              " 'она',\n",
              " 'так',\n",
              " 'его',\n",
              " 'но',\n",
              " 'да',\n",
              " 'ты',\n",
              " 'к',\n",
              " 'у',\n",
              " 'же',\n",
              " 'вы',\n",
              " 'за',\n",
              " 'бы',\n",
              " 'по',\n",
              " 'только',\n",
              " 'ее',\n",
              " 'мне',\n",
              " 'было',\n",
              " 'вот',\n",
              " 'от',\n",
              " 'меня',\n",
              " 'еще',\n",
              " 'нет',\n",
              " 'о',\n",
              " 'из',\n",
              " 'ему',\n",
              " 'теперь',\n",
              " 'когда',\n",
              " 'даже',\n",
              " 'ну',\n",
              " 'вдруг',\n",
              " 'ли',\n",
              " 'если',\n",
              " 'уже',\n",
              " 'или',\n",
              " 'ни',\n",
              " 'быть',\n",
              " 'был',\n",
              " 'него',\n",
              " 'до',\n",
              " 'вас',\n",
              " 'нибудь',\n",
              " 'опять',\n",
              " 'уж',\n",
              " 'вам',\n",
              " 'ведь',\n",
              " 'там',\n",
              " 'потом',\n",
              " 'себя',\n",
              " 'ничего',\n",
              " 'ей',\n",
              " 'может',\n",
              " 'они',\n",
              " 'тут',\n",
              " 'где',\n",
              " 'есть',\n",
              " 'надо',\n",
              " 'ней',\n",
              " 'для',\n",
              " 'мы',\n",
              " 'тебя',\n",
              " 'их',\n",
              " 'чем',\n",
              " 'была',\n",
              " 'сам',\n",
              " 'чтоб',\n",
              " 'без',\n",
              " 'будто',\n",
              " 'чего',\n",
              " 'раз',\n",
              " 'тоже',\n",
              " 'себе',\n",
              " 'под',\n",
              " 'будет',\n",
              " 'ж',\n",
              " 'тогда',\n",
              " 'кто',\n",
              " 'этот',\n",
              " 'того',\n",
              " 'потому',\n",
              " 'этого',\n",
              " 'какой',\n",
              " 'совсем',\n",
              " 'ним',\n",
              " 'здесь',\n",
              " 'этом',\n",
              " 'один',\n",
              " 'почти',\n",
              " 'мой',\n",
              " 'тем',\n",
              " 'чтобы',\n",
              " 'нее',\n",
              " 'сейчас',\n",
              " 'были',\n",
              " 'куда',\n",
              " 'зачем',\n",
              " 'всех',\n",
              " 'никогда',\n",
              " 'можно',\n",
              " 'при',\n",
              " 'наконец',\n",
              " 'два',\n",
              " 'об',\n",
              " 'другой',\n",
              " 'хоть',\n",
              " 'после',\n",
              " 'над',\n",
              " 'больше',\n",
              " 'тот',\n",
              " 'через',\n",
              " 'эти',\n",
              " 'нас',\n",
              " 'про',\n",
              " 'всего',\n",
              " 'них',\n",
              " 'какая',\n",
              " 'много',\n",
              " 'разве',\n",
              " 'три',\n",
              " 'эту',\n",
              " 'моя',\n",
              " 'впрочем',\n",
              " 'хорошо',\n",
              " 'свою',\n",
              " 'этой',\n",
              " 'перед',\n",
              " 'иногда',\n",
              " 'лучше',\n",
              " 'чуть',\n",
              " 'том',\n",
              " 'нельзя',\n",
              " 'такой',\n",
              " 'им',\n",
              " 'более',\n",
              " 'всегда',\n",
              " 'конечно',\n",
              " 'всю',\n",
              " 'между']"
            ]
          },
          "metadata": {},
          "execution_count": 67
        }
      ]
    },
    {
      "cell_type": "code",
      "source": [
        "text_clean = []\n",
        "for word in text_without_punkt:\n",
        "  if word not in stop_words:\n",
        "    text_clean.append(word)\n",
        "\n",
        "# text_clean = [word for word in text_without_punkt if word not in stop_words]"
      ],
      "metadata": {
        "id": "M9EtTRs8J5Jl"
      },
      "execution_count": 68,
      "outputs": []
    },
    {
      "cell_type": "code",
      "source": [
        "print(text_clean[:200])"
      ],
      "metadata": {
        "id": "eo7Ee7SEKSj0",
        "outputId": "c1b50708-704b-4755-f58a-327d66146044",
        "colab": {
          "base_uri": "https://localhost:8080/"
        }
      },
      "execution_count": 69,
      "outputs": [
        {
          "output_type": "stream",
          "name": "stdout",
          "text": [
            "['преступление', 'наказание', 'роман', 'шести', 'частях', 'эпилогом', 'часть', 'первая', 'i', 'начале', 'июля', 'чрезвычайно', 'жаркое', 'время', 'вечер', 'молодой', 'человек', 'вышел', 'своей', 'каморки', 'которую', 'нанимал', 'жильцов', 'м', 'переулке', 'улицу', 'медленно', 'нерешимости', 'отправился', 'мосту', 'благополучно', 'избегнул', 'встречи', 'своею', 'хозяйкой', 'лестнице', 'каморка', 'приходилась', 'самою', 'кровлей', 'высокого', 'пятиэтажного', 'дома', 'походила', 'шкаф', 'квартиру', 'квартирная', 'хозяйка', 'которой', 'нанимал', 'каморку', 'обедом', 'прислугой', 'помещалась', 'одною', 'лестницей', 'ниже', 'отдельной', 'квартире', 'каждый', 'выходе', 'улицу', 'непременно', 'проходить', 'мимо', 'хозяйкиной', 'кухни', 'настежь', 'отворенной', 'лестницу', 'каждый', 'молодой', 'человек', 'проходя', 'мимо', 'чувствовал', 'какое-то', 'болезненное', 'трусливое', 'ощущение', 'которого', 'стыдился', 'которого', 'морщился', 'должен', 'кругом', 'хозяйке', 'боялся', 'нею', 'встретиться', 'труслив', 'забит', 'напротив', 'некоторого', 'времени', 'раздражительном', 'напряженном', 'состоянии', 'похожем', 'ипохондрию', 'углубился', 'уединился', 'боялся', 'всякой', 'встречи', 'встречи', 'хозяйкой', 'задавлен', 'бедностью', 'стесненное', 'положение', 'перестало', 'последнее', 'время', 'тяготить', 'насущными', 'делами', 'своими', 'перестал', 'хотел', 'заниматься', 'никакой', 'хозяйки', 'сущности', 'боялся', 'та', 'замышляла', 'против', 'останавливаться', 'лестнице', 'слушать', 'всякий', 'вздор', 'обыденную', 'дребедень', 'которой', 'никакого', 'дела', 'приставания', 'платеже', 'угрозы', 'жалобы', 'самому', 'изворачиваться', 'извиняться', 'лгать', 'проскользнуть', 'как-нибудь', 'кошкой', 'лестнице', 'улизнуть', 'никто', 'видал', 'страх', 'встречи', 'своею', 'кредиторшей', 'самого', 'поразил', 'выходе', 'улицу', 'какое', 'дело', 'хочу', 'покуситься', 'время', 'каких', 'пустяков', 'боюсь', 'подумал', 'странною', 'улыбкой', 'гм', 'всё', 'руках', 'человека', 'всё-то', 'мимо', 'носу', 'проносит', 'единственно', 'одной', 'трусости', 'это', 'аксиома', 'любопытно', 'люди', 'боятся', 'нового', 'шага', 'нового', 'собственного', 'слова', 'боятся', 'слишком', 'болтаю', 'оттого', 'делаю', 'болтаю', 'пожалуй']\n"
          ]
        }
      ]
    },
    {
      "cell_type": "code",
      "source": [
        "print(len(text_clean)) # 170000"
      ],
      "metadata": {
        "id": "D7XX1ICa-v2A",
        "outputId": "3d90a72d-69a4-46ac-8ace-3728041e304d",
        "colab": {
          "base_uri": "https://localhost:8080/"
        }
      },
      "execution_count": 71,
      "outputs": [
        {
          "output_type": "stream",
          "name": "stdout",
          "text": [
            "93883\n"
          ]
        }
      ]
    },
    {
      "cell_type": "code",
      "source": [
        "Counter(text_clean).most_common(50)"
      ],
      "metadata": {
        "id": "ngpNxGtqKo_d",
        "outputId": "8cf6cd31-03a7-4a22-cb89-07428fd4bd94",
        "colab": {
          "base_uri": "https://localhost:8080/"
        }
      },
      "execution_count": 73,
      "outputs": [
        {
          "output_type": "execute_result",
          "data": {
            "text/plain": [
              "[('это', 1386),\n",
              " ('всё', 953),\n",
              " ('раскольников', 567),\n",
              " ('очень', 382),\n",
              " ('соня', 267),\n",
              " ('человек', 248),\n",
              " ('разумихин', 244),\n",
              " ('петрович', 208),\n",
              " ('время', 206),\n",
              " ('тебе', 204),\n",
              " ('дело', 200),\n",
              " ('тотчас', 186),\n",
              " ('минуту', 177),\n",
              " ('ивановна', 175),\n",
              " ('сказал', 166),\n",
              " ('мог', 164),\n",
              " ('стало', 161),\n",
              " ('кажется', 157),\n",
              " ('что-то', 156),\n",
              " ('сказать', 155),\n",
              " ('стал', 151),\n",
              " ('знаю', 150),\n",
              " ('точно', 149),\n",
              " ('свидригайлов', 142),\n",
              " ('как-то', 141),\n",
              " ('дуня', 138),\n",
              " ('порфирий', 132),\n",
              " ('несколько', 131),\n",
              " ('прямо', 129),\n",
              " ('раскольникова', 128),\n",
              " ('катерина', 127),\n",
              " ('действительно', 124),\n",
              " ('всем', 122),\n",
              " ('совершенно', 121),\n",
              " ('петр', 120),\n",
              " ('вчера', 118),\n",
              " ('особенно', 117),\n",
              " ('руки', 116),\n",
              " ('весьма', 116),\n",
              " ('хотя', 114),\n",
              " ('именно', 111),\n",
              " ('пульхерия', 110),\n",
              " ('александровна', 109),\n",
              " ('слишком', 108),\n",
              " ('глаза', 108),\n",
              " ('хотел', 107),\n",
              " ('дверь', 107),\n",
              " ('весь', 106),\n",
              " ('пошел', 105),\n",
              " ('лицо', 103)]"
            ]
          },
          "metadata": {},
          "execution_count": 73
        }
      ]
    },
    {
      "cell_type": "markdown",
      "source": [
        "###  Стемминг в Python\n",
        "\n",
        "Самый простой способ автоматический нормализации слов в языках с морфологией — стемминг. Стемминг — это очень грубое разбиение формы на предполагаемую основу и предполагаемую флексию.\n",
        "\n",
        "Программы-стеммеры умеют превращать:\n",
        "* \"Vyshka's students coded\" в \"Vyshka student code\"\n",
        "* 'Маша поехала за грибами' в 'Маш поехал за гриб'\n",
        "* 'Даня работает в Вышке' в \"Дан работа в Вышк\"\n",
        "\n",
        "Как можно догадаться из этих примеров, стемминг — не лучшее (и крайне непопулярное) решение для языков типа русского. Он лучше подходит для английского.\n",
        "\n",
        "В NLTK есть готовая реализация стеммера для русского языка. Давайте потестируем ее"
      ],
      "metadata": {
        "id": "Jzd9pOcYK4QJ"
      }
    },
    {
      "cell_type": "markdown",
      "source": [
        "### NLTK стемминг"
      ],
      "metadata": {
        "id": "KD6lyVLfLJDb"
      }
    },
    {
      "cell_type": "markdown",
      "source": [
        "Самый известный стеммер - стеммер Портера (или snowball стеммер).\n",
        "\n",
        "Подробнее про стеммер Портера можно почитать [вот тут](https://medium.com/@eigenein/стеммер-портера-для-русского-языка-d41c38b2d340)\n",
        "\n",
        "А совсем подробнее [вот тут](http://snowball.tartarus.org/algorithms/russian/stemmer.html)"
      ],
      "metadata": {
        "id": "eC3HE7FsVOca"
      }
    },
    {
      "cell_type": "code",
      "source": [
        "# from nltk.stem.snowball import SnowballStemmer\n",
        "stemmer = SnowballStemmer(\"russian\") # в эту переменную мы сохраним уже готовый объект-стеммер для русского"
      ],
      "metadata": {
        "id": "OrZ65rHiLGu3"
      },
      "execution_count": 75,
      "outputs": []
    },
    {
      "cell_type": "code",
      "source": [
        "## предположите, что выдаст?\n",
        "print(stemmer.stem('университетами'))\n",
        "print(stemmer.stem('мышам'))\n",
        "print(stemmer.stem('конями'))\n",
        "print(stemmer.stem('людей'))"
      ],
      "metadata": {
        "id": "deFj6YY_LRZg",
        "outputId": "c7bbc191-6a4a-465d-d494-65dec3befbd9",
        "colab": {
          "base_uri": "https://localhost:8080/"
        }
      },
      "execution_count": 76,
      "outputs": [
        {
          "output_type": "stream",
          "name": "stdout",
          "text": [
            "университет\n",
            "мыш\n",
            "кон\n",
            "люд\n"
          ]
        }
      ]
    },
    {
      "cell_type": "code",
      "source": [
        "## стеммер не умеет сам токенизировать -- он работает только с отдельными словами.\n",
        "## поэтому надо идти по словам циклом\n",
        "text_stemmed = []\n",
        "for word in text_clean:\n",
        "  text_stemmed.append(stemmer.stem(word))\n",
        "\n",
        "# аналогично text_stemmed = [stemmer.stem(word) for word in text_clean]\n",
        "print(text_stemmed[:20])"
      ],
      "metadata": {
        "id": "k8qc06_DLTIE",
        "outputId": "d6d695d0-e9a2-455a-be1d-c3f2065b57b9",
        "colab": {
          "base_uri": "https://localhost:8080/"
        }
      },
      "execution_count": 77,
      "outputs": [
        {
          "output_type": "stream",
          "name": "stdout",
          "text": [
            "['преступлен', 'наказан', 'рома', 'шест', 'част', 'эпилог', 'част', 'перв', 'i', 'начал', 'июл', 'чрезвычайн', 'жарк', 'врем', 'вечер', 'молод', 'человек', 'вышел', 'сво', 'каморк']\n"
          ]
        }
      ]
    },
    {
      "cell_type": "code",
      "source": [
        "print(Counter(text_stemmed).most_common(50))"
      ],
      "metadata": {
        "id": "xr30gE4_P23o",
        "outputId": "e1abd832-ddba-474e-e839-031589d86719",
        "colab": {
          "base_uri": "https://localhost:8080/"
        }
      },
      "execution_count": 78,
      "outputs": [
        {
          "output_type": "stream",
          "name": "stdout",
          "text": [
            "[('эт', 1638), ('все', 1004), ('сам', 649), ('раскольник', 567), ('одн', 542), ('сво', 539), ('говор', 534), ('котор', 433), ('сказа', 428), ('стал', 396), ('так', 388), ('сон', 388), ('очен', 382), ('человек', 373), ('рук', 363), ('дел', 355), ('разумихин', 353), ('друг', 311), ('ивановн', 311), ('петрович', 290), ('минут', 278), ('ваш', 274), ('мог', 245), ('слов', 237), ('вид', 234), ('лиц', 231), ('глаз', 229), ('двер', 222), ('дума', 221), ('катерин', 221), ('врем', 210), ('комнат', 210), ('голов', 210), ('дом', 208), ('дун', 207), ('мо', 204), ('замет', 204), ('теб', 204), ('порфир', 204), ('раскольников', 202), ('особен', 195), ('всем', 193), ('хотел', 191), ('тотчас', 186), ('зна', 180), ('нем', 179), ('знает', 178), ('петр', 178), ('нача', 175), ('час', 171)]\n"
          ]
        }
      ]
    },
    {
      "cell_type": "markdown",
      "source": [
        "# Сегментация на предложения\n",
        "\n",
        "NLTK также умеет разбивать текст на предложения"
      ],
      "metadata": {
        "id": "yVP3LUxI-sXO"
      }
    },
    {
      "cell_type": "code",
      "source": [
        "# from nltk.tokenize import sent_tokenize\n",
        "\n",
        "sent_tokenize(text)[:20]"
      ],
      "metadata": {
        "id": "ROOz9MV9_sqW",
        "outputId": "70bc55c3-562a-4cd3-e73e-ec73abf919a6",
        "colab": {
          "base_uri": "https://localhost:8080/"
        }
      },
      "execution_count": 80,
      "outputs": [
        {
          "output_type": "execute_result",
          "data": {
            "text/plain": [
              "['преступление и наказание \\n\\nроман в шести частях с эпилогом\\n\\n  \\nчасть первая\\n\\ni\\n\\n   в начале июля, в чрезвычайно жаркое время, под вечер, один молодой человек вышел из своей каморки, которую нанимал от жильцов в с -- м переулке, на улицу и медленно, как бы в нерешимости, отправился к к -- ну мосту.',\n",
              " 'он благополучно избегнул встречи с своею хозяйкой на лестнице.',\n",
              " 'каморка его приходилась под самою кровлей высокого пятиэтажного дома и походила более на шкаф, чем на квартиру.',\n",
              " 'квартирная же хозяйка его, у которой он нанимал эту каморку с обедом и прислугой, помещалась одною лестницей ниже, в отдельной квартире, и каждый раз, при выходе на улицу, ему непременно надо было проходить мимо хозяйкиной кухни, почти всегда настежь отворенной на лестницу.',\n",
              " 'и каждый раз молодой человек, проходя мимо, чувствовал какое-то болезненное и трусливое ощущение, которого стыдился и от которого морщился.',\n",
              " 'он был должен кругом хозяйке и боялся с нею встретиться.',\n",
              " 'не то чтоб он был так труслив и забит, совсем даже напротив; но с некоторого времени он был в раздражительном и напряженном состоянии, похожем на ипохондрию.',\n",
              " 'он до того углубился в себя и уединился от всех, что боялся даже всякой встречи, не только встречи с хозяйкой.',\n",
              " 'он был задавлен бедностью; но даже стесненное положение перестало в последнее время тяготить его.',\n",
              " 'насущными делами своими он совсем перестал и не хотел заниматься.',\n",
              " 'никакой хозяйки, в сущности, он не боялся, что бы та ни замышляла против него.',\n",
              " 'но останавливаться на лестнице, слушать всякий вздор про всю эту обыденную дребедень, до которой ему нет никакого дела, все эти приставания о платеже, угрозы, жалобы, и при этом самому изворачиваться, извиняться, лгать, -- нет уж, лучше проскользнуть как-нибудь кошкой по лестнице и улизнуть, чтобы никто не видал.',\n",
              " 'впрочем, на этот раз страх встречи с своею кредиторшей даже его самого поразил по выходе на улицу.',\n",
              " '\"на какое дело хочу покуситься и в то же время каких пустяков боюсь!',\n",
              " '-- подумал он с странною улыбкой.',\n",
              " '-- гм... да... всё в руках человека, и всё-то он мимо носу проносит, единственно от одной трусости... это уж аксиома... любопытно, чего люди больше всего боятся?',\n",
              " 'нового шага, нового собственного слова они всего больше боятся... а впрочем, я слишком много болтаю.',\n",
              " 'оттого и ничего не делаю, что болтаю.',\n",
              " 'пожалуй, впрочем, и так: оттого болтаю, что ничего не делаю.',\n",
              " 'это я в этот последний месяц выучился болтать, лежа по целым суткам в углу и думая... о царе горохе.']"
            ]
          },
          "metadata": {},
          "execution_count": 80
        }
      ]
    },
    {
      "cell_type": "markdown",
      "source": [
        "# Доп. задания\n",
        "\n"
      ],
      "metadata": {
        "id": "V8HSb8QdPwZU"
      }
    },
    {
      "cell_type": "markdown",
      "source": [
        "1. соберем функцию, которая берет текст (строку), приводит к нижнему регистру, токенизирует, удаляет пунктуацию и стоп-слова"
      ],
      "metadata": {
        "id": "k5R3RVDg8BSC"
      }
    },
    {
      "cell_type": "code",
      "source": [
        "def clean_tokens(text):\n",
        "  text = text.lower()\n",
        "  text_list_nltk = word_tokenize(text)\n",
        "  text_without_punkt = [word for word in text_list_nltk if word[0].isalpha()]\n",
        "  text_clean = [word for word in text_without_punkt if word not in stop_words]\n",
        "  return text_clean"
      ],
      "metadata": {
        "id": "cZgyi7YT8As2"
      },
      "execution_count": 112,
      "outputs": []
    },
    {
      "cell_type": "code",
      "source": [
        "# не забудьте испытать его на любом тексте, можно на Достоевском\n",
        "with open('Dostoevsky_PrestuplenieINakazanie.txt', 'r', encoding='utf-8') as f:\n",
        "    text = f.read()\n",
        "clean_tokens(text)"
      ],
      "metadata": {
        "id": "yHlhch888eHz",
        "outputId": "1838310e-6912-4dfd-ec78-7c7a0ccd1138",
        "colab": {
          "base_uri": "https://localhost:8080/"
        }
      },
      "execution_count": 113,
      "outputs": [
        {
          "output_type": "execute_result",
          "data": {
            "text/plain": [
              "['преступление',\n",
              " 'наказание',\n",
              " 'роман',\n",
              " 'шести',\n",
              " 'частях',\n",
              " 'эпилогом',\n",
              " 'часть',\n",
              " 'первая',\n",
              " 'i',\n",
              " 'начале',\n",
              " 'июля',\n",
              " 'чрезвычайно',\n",
              " 'жаркое',\n",
              " 'время',\n",
              " 'вечер',\n",
              " 'молодой',\n",
              " 'человек',\n",
              " 'вышел',\n",
              " 'своей',\n",
              " 'каморки',\n",
              " 'которую',\n",
              " 'нанимал',\n",
              " 'жильцов',\n",
              " 'м',\n",
              " 'переулке',\n",
              " 'улицу',\n",
              " 'медленно',\n",
              " 'нерешимости',\n",
              " 'отправился',\n",
              " 'мосту',\n",
              " 'благополучно',\n",
              " 'избегнул',\n",
              " 'встречи',\n",
              " 'своею',\n",
              " 'хозяйкой',\n",
              " 'лестнице',\n",
              " 'каморка',\n",
              " 'приходилась',\n",
              " 'самою',\n",
              " 'кровлей',\n",
              " 'высокого',\n",
              " 'пятиэтажного',\n",
              " 'дома',\n",
              " 'походила',\n",
              " 'шкаф',\n",
              " 'квартиру',\n",
              " 'квартирная',\n",
              " 'хозяйка',\n",
              " 'которой',\n",
              " 'нанимал',\n",
              " 'каморку',\n",
              " 'обедом',\n",
              " 'прислугой',\n",
              " 'помещалась',\n",
              " 'одною',\n",
              " 'лестницей',\n",
              " 'ниже',\n",
              " 'отдельной',\n",
              " 'квартире',\n",
              " 'каждый',\n",
              " 'выходе',\n",
              " 'улицу',\n",
              " 'непременно',\n",
              " 'проходить',\n",
              " 'мимо',\n",
              " 'хозяйкиной',\n",
              " 'кухни',\n",
              " 'настежь',\n",
              " 'отворенной',\n",
              " 'лестницу',\n",
              " 'каждый',\n",
              " 'молодой',\n",
              " 'человек',\n",
              " 'проходя',\n",
              " 'мимо',\n",
              " 'чувствовал',\n",
              " 'какое-то',\n",
              " 'болезненное',\n",
              " 'трусливое',\n",
              " 'ощущение',\n",
              " 'которого',\n",
              " 'стыдился',\n",
              " 'которого',\n",
              " 'морщился',\n",
              " 'должен',\n",
              " 'кругом',\n",
              " 'хозяйке',\n",
              " 'боялся',\n",
              " 'нею',\n",
              " 'встретиться',\n",
              " 'труслив',\n",
              " 'забит',\n",
              " 'напротив',\n",
              " 'некоторого',\n",
              " 'времени',\n",
              " 'раздражительном',\n",
              " 'напряженном',\n",
              " 'состоянии',\n",
              " 'похожем',\n",
              " 'ипохондрию',\n",
              " 'углубился',\n",
              " 'уединился',\n",
              " 'боялся',\n",
              " 'всякой',\n",
              " 'встречи',\n",
              " 'встречи',\n",
              " 'хозяйкой',\n",
              " 'задавлен',\n",
              " 'бедностью',\n",
              " 'стесненное',\n",
              " 'положение',\n",
              " 'перестало',\n",
              " 'последнее',\n",
              " 'время',\n",
              " 'тяготить',\n",
              " 'насущными',\n",
              " 'делами',\n",
              " 'своими',\n",
              " 'перестал',\n",
              " 'хотел',\n",
              " 'заниматься',\n",
              " 'никакой',\n",
              " 'хозяйки',\n",
              " 'сущности',\n",
              " 'боялся',\n",
              " 'та',\n",
              " 'замышляла',\n",
              " 'против',\n",
              " 'останавливаться',\n",
              " 'лестнице',\n",
              " 'слушать',\n",
              " 'всякий',\n",
              " 'вздор',\n",
              " 'обыденную',\n",
              " 'дребедень',\n",
              " 'которой',\n",
              " 'никакого',\n",
              " 'дела',\n",
              " 'приставания',\n",
              " 'платеже',\n",
              " 'угрозы',\n",
              " 'жалобы',\n",
              " 'самому',\n",
              " 'изворачиваться',\n",
              " 'извиняться',\n",
              " 'лгать',\n",
              " 'проскользнуть',\n",
              " 'как-нибудь',\n",
              " 'кошкой',\n",
              " 'лестнице',\n",
              " 'улизнуть',\n",
              " 'никто',\n",
              " 'видал',\n",
              " 'страх',\n",
              " 'встречи',\n",
              " 'своею',\n",
              " 'кредиторшей',\n",
              " 'самого',\n",
              " 'поразил',\n",
              " 'выходе',\n",
              " 'улицу',\n",
              " 'какое',\n",
              " 'дело',\n",
              " 'хочу',\n",
              " 'покуситься',\n",
              " 'время',\n",
              " 'каких',\n",
              " 'пустяков',\n",
              " 'боюсь',\n",
              " 'подумал',\n",
              " 'странною',\n",
              " 'улыбкой',\n",
              " 'гм',\n",
              " 'всё',\n",
              " 'руках',\n",
              " 'человека',\n",
              " 'всё-то',\n",
              " 'мимо',\n",
              " 'носу',\n",
              " 'проносит',\n",
              " 'единственно',\n",
              " 'одной',\n",
              " 'трусости',\n",
              " 'это',\n",
              " 'аксиома',\n",
              " 'любопытно',\n",
              " 'люди',\n",
              " 'боятся',\n",
              " 'нового',\n",
              " 'шага',\n",
              " 'нового',\n",
              " 'собственного',\n",
              " 'слова',\n",
              " 'боятся',\n",
              " 'слишком',\n",
              " 'болтаю',\n",
              " 'оттого',\n",
              " 'делаю',\n",
              " 'болтаю',\n",
              " 'пожалуй',\n",
              " 'оттого',\n",
              " 'болтаю',\n",
              " 'делаю',\n",
              " 'это',\n",
              " 'последний',\n",
              " 'месяц',\n",
              " 'выучился',\n",
              " 'болтать',\n",
              " 'лежа',\n",
              " 'целым',\n",
              " 'суткам',\n",
              " 'углу',\n",
              " 'думая',\n",
              " 'царе',\n",
              " 'горохе',\n",
              " 'иду',\n",
              " 'способен',\n",
              " 'это',\n",
              " 'это',\n",
              " 'серьезно',\n",
              " 'серьезно',\n",
              " 'ради',\n",
              " 'фантазии',\n",
              " 'тешу',\n",
              " 'игрушки',\n",
              " 'пожалуй',\n",
              " 'игрушки',\n",
              " 'улице',\n",
              " 'жара',\n",
              " 'стояла',\n",
              " 'страшная',\n",
              " 'тому',\n",
              " 'духота',\n",
              " 'толкотня',\n",
              " 'всюду',\n",
              " 'известка',\n",
              " 'леса',\n",
              " 'кирпич',\n",
              " 'пыль',\n",
              " 'та',\n",
              " 'особенная',\n",
              " 'летняя',\n",
              " 'вонь',\n",
              " 'столь',\n",
              " 'известная',\n",
              " 'каждому',\n",
              " 'петербуржцу',\n",
              " 'имеющему',\n",
              " 'возможности',\n",
              " 'нанять',\n",
              " 'дачу',\n",
              " 'всё',\n",
              " 'это',\n",
              " 'разом',\n",
              " 'неприятно',\n",
              " 'потрясло',\n",
              " 'расстроенные',\n",
              " 'нервы',\n",
              " 'юноши',\n",
              " 'нестерпимая',\n",
              " 'вонь',\n",
              " 'распивочных',\n",
              " 'которых',\n",
              " 'части',\n",
              " 'города',\n",
              " 'особенное',\n",
              " 'множество',\n",
              " 'пьяные',\n",
              " 'поминутно',\n",
              " 'попадавшиеся',\n",
              " 'несмотря',\n",
              " 'буднее',\n",
              " 'время',\n",
              " 'довершили',\n",
              " 'отвратительный',\n",
              " 'грустный',\n",
              " 'колорит',\n",
              " 'картины',\n",
              " 'чувство',\n",
              " 'глубочайшего',\n",
              " 'омерзения',\n",
              " 'мелькнуло',\n",
              " 'миг',\n",
              " 'тонких',\n",
              " 'чертах',\n",
              " 'молодого',\n",
              " 'человека',\n",
              " 'кстати',\n",
              " 'замечательно',\n",
              " 'хорош',\n",
              " 'собою',\n",
              " 'прекрасными',\n",
              " 'темными',\n",
              " 'глазами',\n",
              " 'темно-рус',\n",
              " 'ростом',\n",
              " 'выше',\n",
              " 'среднего',\n",
              " 'тонок',\n",
              " 'строен',\n",
              " 'скоро',\n",
              " 'впал',\n",
              " 'глубокую',\n",
              " 'задумчивость',\n",
              " 'вернее',\n",
              " 'сказать',\n",
              " 'какое-то',\n",
              " 'забытье',\n",
              " 'пошел',\n",
              " 'замечая',\n",
              " 'окружающего',\n",
              " 'желая',\n",
              " 'замечать',\n",
              " 'изредка',\n",
              " 'бормотал',\n",
              " 'что-то',\n",
              " 'своей',\n",
              " 'привычки',\n",
              " 'монологам',\n",
              " 'которой',\n",
              " 'признался',\n",
              " 'минуту',\n",
              " 'сознавал',\n",
              " 'мысли',\n",
              " 'порою',\n",
              " 'мешаются',\n",
              " 'очень',\n",
              " 'слаб',\n",
              " 'второй',\n",
              " 'день',\n",
              " 'ел',\n",
              " 'худо',\n",
              " 'одет',\n",
              " 'иной',\n",
              " 'привычный',\n",
              " 'человек',\n",
              " 'посовестился',\n",
              " 'днем',\n",
              " 'выходить',\n",
              " 'таких',\n",
              " 'лохмотьях',\n",
              " 'улицу',\n",
              " 'квартал',\n",
              " 'таков',\n",
              " 'костюмом',\n",
              " 'трудно',\n",
              " 'кого-нибудь',\n",
              " 'удивить',\n",
              " 'близость',\n",
              " 'сенной',\n",
              " 'обилие',\n",
              " 'известных',\n",
              " 'заведений',\n",
              " 'преимуществу',\n",
              " 'цеховое',\n",
              " 'ремесленное',\n",
              " 'население',\n",
              " 'скученное',\n",
              " 'этих',\n",
              " 'серединных',\n",
              " 'петербургских',\n",
              " 'улицах',\n",
              " 'переулках',\n",
              " 'пестрили',\n",
              " 'общую',\n",
              " 'панораму',\n",
              " 'такими',\n",
              " 'субъектами',\n",
              " 'странно',\n",
              " 'удивляться',\n",
              " 'встрече',\n",
              " 'иною',\n",
              " 'фигурой',\n",
              " 'столько',\n",
              " 'злобного',\n",
              " 'презрения',\n",
              " 'накопилось',\n",
              " 'душе',\n",
              " 'молодого',\n",
              " 'человека',\n",
              " 'несмотря',\n",
              " 'очень',\n",
              " 'молодую',\n",
              " 'щекотливость',\n",
              " 'менее',\n",
              " 'совестился',\n",
              " 'своих',\n",
              " 'лохмотьев',\n",
              " 'улице',\n",
              " 'другое',\n",
              " 'дело',\n",
              " 'встрече',\n",
              " 'иными',\n",
              " 'знакомыми',\n",
              " 'прежними',\n",
              " 'товарищами',\n",
              " 'которыми',\n",
              " 'вообще',\n",
              " 'любил',\n",
              " 'встречаться',\n",
              " 'пьяный',\n",
              " 'которого',\n",
              " 'неизвестно',\n",
              " 'почему',\n",
              " 'провозили',\n",
              " 'это',\n",
              " 'время',\n",
              " 'улице',\n",
              " 'огромной',\n",
              " 'телеге',\n",
              " 'запряженной',\n",
              " 'огромною',\n",
              " 'ломовою',\n",
              " 'лошадью',\n",
              " 'крикнул',\n",
              " 'проезжая',\n",
              " 'эй',\n",
              " 'немецкий',\n",
              " 'шляпник',\n",
              " 'заорал',\n",
              " 'всё',\n",
              " 'горло',\n",
              " 'указывая',\n",
              " 'рукой',\n",
              " 'молодой',\n",
              " 'человек',\n",
              " 'остановился',\n",
              " 'судорожно',\n",
              " 'схватился',\n",
              " 'шляпу',\n",
              " 'шляпа',\n",
              " 'эта',\n",
              " 'высокая',\n",
              " 'круглая',\n",
              " 'циммермановская',\n",
              " 'вся',\n",
              " 'изношенная',\n",
              " 'рыжая',\n",
              " 'вся',\n",
              " 'дырах',\n",
              " 'пятнах',\n",
              " 'полей',\n",
              " 'самым',\n",
              " 'безобразнейшим',\n",
              " 'углом',\n",
              " 'заломившаяся',\n",
              " 'сторону',\n",
              " 'стыд',\n",
              " 'другое',\n",
              " 'чувство',\n",
              " 'похожее',\n",
              " 'испуг',\n",
              " 'охватило',\n",
              " 'знал',\n",
              " 'бормотал',\n",
              " 'смущении',\n",
              " 'думал',\n",
              " 'это',\n",
              " 'сквернее',\n",
              " 'эдакая',\n",
              " 'какая-нибудь',\n",
              " 'глупость',\n",
              " 'какая-нибудь',\n",
              " 'пошлейшая',\n",
              " 'мелочь',\n",
              " 'весь',\n",
              " 'замысел',\n",
              " 'испортить',\n",
              " 'слишком',\n",
              " 'приметная',\n",
              " 'шляпа',\n",
              " 'смешная',\n",
              " 'приметная',\n",
              " 'моим',\n",
              " 'лохмотьям',\n",
              " 'непременно',\n",
              " 'нужна',\n",
              " 'фуражка',\n",
              " 'хотя',\n",
              " 'старый',\n",
              " 'блин',\n",
              " 'какой-нибудь',\n",
              " 'урод',\n",
              " 'никто',\n",
              " 'таких',\n",
              " 'носит',\n",
              " 'версту',\n",
              " 'заметят',\n",
              " 'запомнят',\n",
              " 'главное',\n",
              " 'запомнят',\n",
              " 'ан',\n",
              " 'улика',\n",
              " 'нужно',\n",
              " 'неприметнее',\n",
              " 'мелочи',\n",
              " 'мелочи',\n",
              " 'главное',\n",
              " 'эти-то',\n",
              " 'мелочи',\n",
              " 'губят',\n",
              " 'всё',\n",
              " 'идти',\n",
              " 'немного',\n",
              " 'знал',\n",
              " 'сколько',\n",
              " 'шагов',\n",
              " 'ворот',\n",
              " 'дома',\n",
              " 'ровно',\n",
              " 'семьсот',\n",
              " 'тридцать',\n",
              " 'как-то',\n",
              " 'сосчитал',\n",
              " 'очень',\n",
              " 'размечтался',\n",
              " 'время',\n",
              " 'верил',\n",
              " 'этим',\n",
              " 'мечтам',\n",
              " 'своим',\n",
              " 'раздражал',\n",
              " 'безобразною',\n",
              " 'соблазнительною',\n",
              " 'дерзостью',\n",
              " 'месяц',\n",
              " 'спустя',\n",
              " 'начинал',\n",
              " 'смотреть',\n",
              " 'иначе',\n",
              " 'несмотря',\n",
              " 'поддразнивающие',\n",
              " 'монологи',\n",
              " 'собственном',\n",
              " 'бессилии',\n",
              " 'нерешимости',\n",
              " 'безобразную',\n",
              " 'мечту',\n",
              " 'как-то',\n",
              " 'поневоле',\n",
              " 'привык',\n",
              " 'считать',\n",
              " 'предприятием',\n",
              " 'хотя',\n",
              " 'всё',\n",
              " 'верил',\n",
              " 'шел',\n",
              " 'делать',\n",
              " 'пробу',\n",
              " 'своему',\n",
              " 'предприятию',\n",
              " 'каждым',\n",
              " 'шагом',\n",
              " 'волнение',\n",
              " 'возрастало',\n",
              " 'всё',\n",
              " 'сильнее',\n",
              " 'сильнее',\n",
              " 'замиранием',\n",
              " 'сердца',\n",
              " 'нервною',\n",
              " 'дрожью',\n",
              " 'подошел',\n",
              " 'преогромнейшему',\n",
              " 'дому',\n",
              " 'выходившему',\n",
              " 'одною',\n",
              " 'стеной',\n",
              " 'канаву',\n",
              " 'другою',\n",
              " 'ю',\n",
              " 'улицу',\n",
              " 'дом',\n",
              " 'стоял',\n",
              " 'весь',\n",
              " 'мелких',\n",
              " 'квартирах',\n",
              " 'заселен',\n",
              " 'всякими',\n",
              " 'промышленниками',\n",
              " 'портными',\n",
              " 'слесарями',\n",
              " 'кухарками',\n",
              " 'разными',\n",
              " 'немцами',\n",
              " 'девицами',\n",
              " 'живущими',\n",
              " 'мелким',\n",
              " 'чиновничеством',\n",
              " 'проч',\n",
              " 'входящие',\n",
              " 'выходящие',\n",
              " 'шмыгали',\n",
              " 'обоими',\n",
              " 'воротами',\n",
              " 'обоих',\n",
              " 'дворах',\n",
              " 'дома',\n",
              " 'служили',\n",
              " 'четыре',\n",
              " 'дворника',\n",
              " 'молодой',\n",
              " 'человек',\n",
              " 'очень',\n",
              " 'доволен',\n",
              " 'встретив',\n",
              " 'которого',\n",
              " 'неприметно',\n",
              " 'проскользнул',\n",
              " 'ворот',\n",
              " 'направо',\n",
              " 'лестницу',\n",
              " 'лестница',\n",
              " 'темная',\n",
              " 'узкая',\n",
              " 'черная',\n",
              " 'всё',\n",
              " 'это',\n",
              " 'знал',\n",
              " 'изучил',\n",
              " 'вся',\n",
              " 'эта',\n",
              " 'обстановка',\n",
              " 'нравилась',\n",
              " 'темноте',\n",
              " 'любопытный',\n",
              " 'взгляд',\n",
              " 'неопасен',\n",
              " 'сю',\n",
              " 'пору',\n",
              " 'боюсь',\n",
              " 'б',\n",
              " 'действительно',\n",
              " 'как-нибудь',\n",
              " 'случилось',\n",
              " 'самого',\n",
              " 'дела',\n",
              " 'дойти',\n",
              " 'подумал',\n",
              " 'невольно',\n",
              " 'проходя',\n",
              " 'четвертый',\n",
              " 'этаж',\n",
              " 'загородили',\n",
              " 'дорогу',\n",
              " 'отставные',\n",
              " 'солдаты-носильщики',\n",
              " 'выносившие',\n",
              " 'одной',\n",
              " 'квартиры',\n",
              " 'мебель',\n",
              " 'прежде',\n",
              " 'знал',\n",
              " 'квартире',\n",
              " 'жил',\n",
              " 'семейный',\n",
              " 'немец',\n",
              " 'чиновник',\n",
              " 'стало',\n",
              " 'немец',\n",
              " 'выезжает',\n",
              " 'стало',\n",
              " 'четвертом',\n",
              " 'этаже',\n",
              " 'лестнице',\n",
              " 'площадке',\n",
              " 'остается',\n",
              " 'некоторое',\n",
              " 'время',\n",
              " 'одна',\n",
              " 'старухина',\n",
              " 'квартира',\n",
              " 'занятая',\n",
              " 'это',\n",
              " 'всякой',\n",
              " 'случай',\n",
              " 'подумал',\n",
              " 'позвонил',\n",
              " 'старухину',\n",
              " 'квартиру',\n",
              " 'звонок',\n",
              " 'брякнул',\n",
              " 'слабо',\n",
              " 'сделан',\n",
              " 'жести',\n",
              " 'меди',\n",
              " 'подобных',\n",
              " 'мелких',\n",
              " 'квартирах',\n",
              " 'таких',\n",
              " 'домов',\n",
              " 'всё',\n",
              " 'такие',\n",
              " 'звонки',\n",
              " 'забыл',\n",
              " 'звон',\n",
              " 'колокольчика',\n",
              " 'особенный',\n",
              " 'звон',\n",
              " 'что-то',\n",
              " 'напомнил',\n",
              " 'ясно',\n",
              " 'представил',\n",
              " 'вздрогнул',\n",
              " 'слишком',\n",
              " 'ослабели',\n",
              " 'нервы',\n",
              " 'немного',\n",
              " 'спустя',\n",
              " 'дверь',\n",
              " 'приотворилась',\n",
              " 'крошечную',\n",
              " 'щелочку',\n",
              " 'жилица',\n",
              " 'оглядывала',\n",
              " 'щели',\n",
              " 'пришедшего',\n",
              " 'видимым',\n",
              " 'недоверием',\n",
              " 'виднелись',\n",
              " 'сверкавшие',\n",
              " 'темноты',\n",
              " 'глазки',\n",
              " 'увидав',\n",
              " 'площадке',\n",
              " 'народу',\n",
              " 'ободрилась',\n",
              " 'отворила',\n",
              " 'молодой',\n",
              " 'человек',\n",
              " 'переступил',\n",
              " 'порог',\n",
              " 'темную',\n",
              " 'прихожую',\n",
              " 'разгороженную',\n",
              " 'перегородкой',\n",
              " 'которою',\n",
              " 'крошечная',\n",
              " 'кухня',\n",
              " 'старуха',\n",
              " 'стояла',\n",
              " 'молча',\n",
              " 'вопросительно',\n",
              " 'глядела',\n",
              " 'это',\n",
              " 'крошечная',\n",
              " 'сухая',\n",
              " 'старушонка',\n",
              " 'лет',\n",
              " 'шестидесяти',\n",
              " 'вострыми',\n",
              " 'злыми',\n",
              " 'глазками',\n",
              " 'маленьким',\n",
              " 'вострым',\n",
              " 'носом',\n",
              " 'простоволосая',\n",
              " 'белобрысые',\n",
              " 'мало',\n",
              " 'поседевшие',\n",
              " 'волосы',\n",
              " 'жирно',\n",
              " 'смазаны',\n",
              " 'маслом',\n",
              " 'тонкой',\n",
              " 'длинной',\n",
              " 'шее',\n",
              " 'похожей',\n",
              " 'куриную',\n",
              " 'ногу',\n",
              " 'наверчено',\n",
              " 'какое-то',\n",
              " 'фланелевое',\n",
              " 'тряпье',\n",
              " 'плечах',\n",
              " 'несмотря',\n",
              " 'жару',\n",
              " 'болталась',\n",
              " 'вся',\n",
              " 'истрепанная',\n",
              " 'пожелтелая',\n",
              " 'меховая',\n",
              " 'кацавейка',\n",
              " 'старушонка',\n",
              " 'поминутно',\n",
              " 'кашляла',\n",
              " 'кряхтела',\n",
              " 'должно',\n",
              " 'молодой',\n",
              " 'человек',\n",
              " 'взглянул',\n",
              " 'каким-нибудь',\n",
              " 'особенным',\n",
              " 'взглядом',\n",
              " 'глазах',\n",
              " 'мелькнула',\n",
              " 'прежняя',\n",
              " 'недоверчивость',\n",
              " 'раскольников',\n",
              " 'студент',\n",
              " 'назад',\n",
              " 'тому',\n",
              " 'месяц',\n",
              " 'поспешил',\n",
              " 'пробормотать',\n",
              " 'молодой',\n",
              " 'человек',\n",
              " 'полупоклоном',\n",
              " 'вспомнив',\n",
              " 'любезнее',\n",
              " 'помню',\n",
              " 'батюшка',\n",
              " 'очень',\n",
              " 'помню',\n",
              " 'отчетливо',\n",
              " 'проговорила',\n",
              " 'старушка',\n",
              " 'по-прежнему',\n",
              " 'отводя',\n",
              " 'своих',\n",
              " 'вопрошающих',\n",
              " 'глаз',\n",
              " 'лица',\n",
              " 'вот-с',\n",
              " 'такому',\n",
              " 'дельцу',\n",
              " 'продолжал',\n",
              " 'раскольников',\n",
              " 'немного',\n",
              " 'смутившись',\n",
              " 'удивляясь',\n",
              " 'недоверчивости',\n",
              " 'старухи',\n",
              " 'такая',\n",
              " 'заметил',\n",
              " 'подумал',\n",
              " 'неприятным',\n",
              " 'чувством',\n",
              " 'старуха',\n",
              " 'помолчала',\n",
              " 'раздумье',\n",
              " 'отступила',\n",
              " 'сторону',\n",
              " 'указывая',\n",
              " 'дверь',\n",
              " 'комнату',\n",
              " 'произнесла',\n",
              " 'пропуская',\n",
              " 'гостя',\n",
              " 'вперед',\n",
              " 'пройдите',\n",
              " 'батюшка',\n",
              " 'небольшая',\n",
              " 'комната',\n",
              " 'которую',\n",
              " 'прошел',\n",
              " 'молодой',\n",
              " 'человек',\n",
              " 'желтыми',\n",
              " 'обоями',\n",
              " 'геранями',\n",
              " 'кисейными',\n",
              " 'занавесками',\n",
              " 'окнах',\n",
              " 'минуту',\n",
              " 'ярко',\n",
              " 'освещена',\n",
              " 'заходящим',\n",
              " 'солнцем',\n",
              " 'стало',\n",
              " 'солнце',\n",
              " 'светить',\n",
              " 'невзначай',\n",
              " 'мелькнуло',\n",
              " 'уме',\n",
              " 'раскольникова',\n",
              " 'быстрым',\n",
              " 'взглядом',\n",
              " 'окинул',\n",
              " 'всё',\n",
              " 'комнате',\n",
              " 'возможности',\n",
              " 'изучить',\n",
              " 'запомнить',\n",
              " 'расположение',\n",
              " 'комнате',\n",
              " 'особенного',\n",
              " 'мебель',\n",
              " 'вся',\n",
              " 'очень',\n",
              " 'старая',\n",
              " 'желтого',\n",
              " 'дерева',\n",
              " 'состояла',\n",
              " 'дивана',\n",
              " 'огромною',\n",
              " 'выгнутою',\n",
              " 'деревянною',\n",
              " 'спинкой',\n",
              " 'круглого',\n",
              " 'стола',\n",
              " 'овальной',\n",
              " 'формы',\n",
              " 'диваном',\n",
              " 'туалета',\n",
              " 'зеркальцем',\n",
              " 'простенке',\n",
              " 'стульев',\n",
              " 'стенам',\n",
              " 'двух-трех',\n",
              " 'грошовых',\n",
              " 'картинок',\n",
              " 'желтых',\n",
              " 'рамках',\n",
              " 'изображавших',\n",
              " 'немецких',\n",
              " 'барышень',\n",
              " 'птицами',\n",
              " 'руках',\n",
              " 'вся',\n",
              " 'мебель',\n",
              " 'углу',\n",
              " 'небольшим',\n",
              " 'образом',\n",
              " 'горела',\n",
              " 'лампада',\n",
              " 'всё',\n",
              " 'очень',\n",
              " 'чисто',\n",
              " 'мебель',\n",
              " 'полы',\n",
              " 'оттерты',\n",
              " 'лоск',\n",
              " 'всё',\n",
              " 'блестело',\n",
              " 'лизаветина',\n",
              " 'работа',\n",
              " 'подумал',\n",
              " 'молодой',\n",
              " 'человек',\n",
              " 'пылинки',\n",
              " 'найти',\n",
              " 'всей',\n",
              " 'квартире',\n",
              " 'это',\n",
              " 'злых',\n",
              " 'старых',\n",
              " 'вдовиц',\n",
              " 'бывает',\n",
              " 'такая',\n",
              " 'чистота',\n",
              " 'продолжал',\n",
              " 'раскольников',\n",
              " 'любопытством',\n",
              " 'покосился',\n",
              " 'ситцевую',\n",
              " 'занавеску',\n",
              " 'дверью',\n",
              " 'вторую',\n",
              " 'крошечную',\n",
              " 'комнатку',\n",
              " 'стояли',\n",
              " 'старухины',\n",
              " 'постель',\n",
              " 'комод',\n",
              " 'разу',\n",
              " 'заглядывал',\n",
              " 'вся',\n",
              " 'квартира',\n",
              " 'состояла',\n",
              " 'этих',\n",
              " 'двух',\n",
              " 'комнат',\n",
              " 'угодно',\n",
              " 'строго',\n",
              " 'произнесла',\n",
              " 'старушонка',\n",
              " 'войдя',\n",
              " 'комнату',\n",
              " 'по-прежнему',\n",
              " 'становясь',\n",
              " 'прямо',\n",
              " 'глядеть',\n",
              " 'прямо',\n",
              " 'лицо',\n",
              " 'заклад',\n",
              " 'принес',\n",
              " 'вот-с',\n",
              " 'вынул',\n",
              " 'кармана',\n",
              " 'старые',\n",
              " 'плоские',\n",
              " 'серебряные',\n",
              " 'часы',\n",
              " 'оборотной',\n",
              " 'дощечке',\n",
              " 'изображен',\n",
              " 'глобус',\n",
              " 'цепочка',\n",
              " 'стальная',\n",
              " ...]"
            ]
          },
          "metadata": {},
          "execution_count": 113
        }
      ]
    },
    {
      "cell_type": "code",
      "source": [
        "# другой вариант с пары\n",
        "def clean_tokens(text):\n",
        "  text2 = text.lower()\n",
        "  text3 = word_tokenize(text2)\n",
        "\n",
        "  text_no_punct = []\n",
        "  for word in text3:\n",
        "    if word[0].isalpha():\n",
        "      text_no_punct.append(word)\n",
        "\n",
        "  text_clean = []\n",
        "  for word in text_no_punct:\n",
        "    if word not in stop_words:\n",
        "      text_clean.append(word)\n",
        "\n",
        "  return text_clean"
      ],
      "metadata": {
        "id": "SQ9NJwFwADDC"
      },
      "execution_count": null,
      "outputs": []
    },
    {
      "cell_type": "code",
      "source": [
        "# другой вариант с пары\n",
        "def clean_tokens(text):\n",
        "  text = text.lower()\n",
        "  text_clean = word_tokenize(text) # токенизируем\n",
        "  text_clean = [word for word in text_clean if word[0].isalpha()] # убираем пунктуацию\n",
        "  text_clean = [word for word in text_clean if word not in stop_words] # убираем стоп-слова\n",
        "  return text_clean"
      ],
      "metadata": {
        "id": "0KvJUv6ZAuId"
      },
      "execution_count": null,
      "outputs": []
    },
    {
      "cell_type": "markdown",
      "source": [
        "2. давайте поизвлекаем текст из датасетов и поисследуем его, например, составив частотный список (с нормализацией, удалением пунктуации, токенизацией и удалением стоп-слов)\n",
        "\n",
        "Датасет [здесь](https://github.com/AnnSenina/Python_CL_2023/blob/main/data/elonmusk.csv)"
      ],
      "metadata": {
        "id": "-hx0FkoNP_MV"
      }
    },
    {
      "cell_type": "code",
      "source": [
        "!pip install pandas"
      ],
      "metadata": {
        "id": "-PzzJ2keC_1w"
      },
      "execution_count": null,
      "outputs": []
    },
    {
      "cell_type": "code",
      "source": [
        "import pandas as pd\n",
        "\n",
        "df = pd.read_csv('elonmusk.csv', encoding=\"utf-8\")\n",
        "df.head()"
      ],
      "metadata": {
        "id": "mqIfAEZNQKfd",
        "outputId": "00e9c41f-6fad-4707-de2d-3e8bc4213549",
        "colab": {
          "base_uri": "https://localhost:8080/",
          "height": 515
        }
      },
      "execution_count": 97,
      "outputs": [
        {
          "output_type": "execute_result",
          "data": {
            "text/plain": [
              "                    id      conversation_id     created_at        date  \\\n",
              "0  1282939902531796993  1282933079431151618  1594711683000  2020-07-14   \n",
              "1  1282844872571904000  1282801938111791104  1594689026000  2020-07-14   \n",
              "2  1282805559834492929  1282758532312584193  1594679653000  2020-07-13   \n",
              "3  1282800187308572672  1282671714657157120  1594678372000  2020-07-13   \n",
              "4  1282800078000803840  1282739486816964615  1594678346000  2020-07-13   \n",
              "\n",
              "       time timezone   user_id  username       name  place  ... geo source  \\\n",
              "0  07:28:03      UTC  44196397  elonmusk  Elon Musk    NaN  ... NaN    NaN   \n",
              "1  01:10:26      UTC  44196397  elonmusk  Elon Musk    NaN  ... NaN    NaN   \n",
              "2  22:34:13      UTC  44196397  elonmusk  Elon Musk    NaN  ... NaN    NaN   \n",
              "3  22:12:52      UTC  44196397  elonmusk  Elon Musk    NaN  ... NaN    NaN   \n",
              "4  22:12:26      UTC  44196397  elonmusk  Elon Musk    NaN  ... NaN    NaN   \n",
              "\n",
              "  user_rt_id user_rt  retweet_id  \\\n",
              "0        NaN     NaN         NaN   \n",
              "1        NaN     NaN         NaN   \n",
              "2        NaN     NaN         NaN   \n",
              "3        NaN     NaN         NaN   \n",
              "4        NaN     NaN         NaN   \n",
              "\n",
              "                                            reply_to  retweet_date translate  \\\n",
              "0  [{'user_id': '44196397', 'username': 'elonmusk...           NaN       NaN   \n",
              "1  [{'user_id': '44196397', 'username': 'elonmusk...           NaN       NaN   \n",
              "2  [{'user_id': '44196397', 'username': 'elonmusk...           NaN       NaN   \n",
              "3  [{'user_id': '44196397', 'username': 'elonmusk...           NaN       NaN   \n",
              "4  [{'user_id': '44196397', 'username': 'elonmusk...           NaN       NaN   \n",
              "\n",
              "  trans_src trans_dest  \n",
              "0       NaN        NaN  \n",
              "1       NaN        NaN  \n",
              "2       NaN        NaN  \n",
              "3       NaN        NaN  \n",
              "4       NaN        NaN  \n",
              "\n",
              "[5 rows x 34 columns]"
            ],
            "text/html": [
              "\n",
              "  <div id=\"df-840676a4-731e-44df-be7c-4195aaa36d9e\" class=\"colab-df-container\">\n",
              "    <div>\n",
              "<style scoped>\n",
              "    .dataframe tbody tr th:only-of-type {\n",
              "        vertical-align: middle;\n",
              "    }\n",
              "\n",
              "    .dataframe tbody tr th {\n",
              "        vertical-align: top;\n",
              "    }\n",
              "\n",
              "    .dataframe thead th {\n",
              "        text-align: right;\n",
              "    }\n",
              "</style>\n",
              "<table border=\"1\" class=\"dataframe\">\n",
              "  <thead>\n",
              "    <tr style=\"text-align: right;\">\n",
              "      <th></th>\n",
              "      <th>id</th>\n",
              "      <th>conversation_id</th>\n",
              "      <th>created_at</th>\n",
              "      <th>date</th>\n",
              "      <th>time</th>\n",
              "      <th>timezone</th>\n",
              "      <th>user_id</th>\n",
              "      <th>username</th>\n",
              "      <th>name</th>\n",
              "      <th>place</th>\n",
              "      <th>...</th>\n",
              "      <th>geo</th>\n",
              "      <th>source</th>\n",
              "      <th>user_rt_id</th>\n",
              "      <th>user_rt</th>\n",
              "      <th>retweet_id</th>\n",
              "      <th>reply_to</th>\n",
              "      <th>retweet_date</th>\n",
              "      <th>translate</th>\n",
              "      <th>trans_src</th>\n",
              "      <th>trans_dest</th>\n",
              "    </tr>\n",
              "  </thead>\n",
              "  <tbody>\n",
              "    <tr>\n",
              "      <th>0</th>\n",
              "      <td>1282939902531796993</td>\n",
              "      <td>1282933079431151618</td>\n",
              "      <td>1594711683000</td>\n",
              "      <td>2020-07-14</td>\n",
              "      <td>07:28:03</td>\n",
              "      <td>UTC</td>\n",
              "      <td>44196397</td>\n",
              "      <td>elonmusk</td>\n",
              "      <td>Elon Musk</td>\n",
              "      <td>NaN</td>\n",
              "      <td>...</td>\n",
              "      <td>NaN</td>\n",
              "      <td>NaN</td>\n",
              "      <td>NaN</td>\n",
              "      <td>NaN</td>\n",
              "      <td>NaN</td>\n",
              "      <td>[{'user_id': '44196397', 'username': 'elonmusk...</td>\n",
              "      <td>NaN</td>\n",
              "      <td>NaN</td>\n",
              "      <td>NaN</td>\n",
              "      <td>NaN</td>\n",
              "    </tr>\n",
              "    <tr>\n",
              "      <th>1</th>\n",
              "      <td>1282844872571904000</td>\n",
              "      <td>1282801938111791104</td>\n",
              "      <td>1594689026000</td>\n",
              "      <td>2020-07-14</td>\n",
              "      <td>01:10:26</td>\n",
              "      <td>UTC</td>\n",
              "      <td>44196397</td>\n",
              "      <td>elonmusk</td>\n",
              "      <td>Elon Musk</td>\n",
              "      <td>NaN</td>\n",
              "      <td>...</td>\n",
              "      <td>NaN</td>\n",
              "      <td>NaN</td>\n",
              "      <td>NaN</td>\n",
              "      <td>NaN</td>\n",
              "      <td>NaN</td>\n",
              "      <td>[{'user_id': '44196397', 'username': 'elonmusk...</td>\n",
              "      <td>NaN</td>\n",
              "      <td>NaN</td>\n",
              "      <td>NaN</td>\n",
              "      <td>NaN</td>\n",
              "    </tr>\n",
              "    <tr>\n",
              "      <th>2</th>\n",
              "      <td>1282805559834492929</td>\n",
              "      <td>1282758532312584193</td>\n",
              "      <td>1594679653000</td>\n",
              "      <td>2020-07-13</td>\n",
              "      <td>22:34:13</td>\n",
              "      <td>UTC</td>\n",
              "      <td>44196397</td>\n",
              "      <td>elonmusk</td>\n",
              "      <td>Elon Musk</td>\n",
              "      <td>NaN</td>\n",
              "      <td>...</td>\n",
              "      <td>NaN</td>\n",
              "      <td>NaN</td>\n",
              "      <td>NaN</td>\n",
              "      <td>NaN</td>\n",
              "      <td>NaN</td>\n",
              "      <td>[{'user_id': '44196397', 'username': 'elonmusk...</td>\n",
              "      <td>NaN</td>\n",
              "      <td>NaN</td>\n",
              "      <td>NaN</td>\n",
              "      <td>NaN</td>\n",
              "    </tr>\n",
              "    <tr>\n",
              "      <th>3</th>\n",
              "      <td>1282800187308572672</td>\n",
              "      <td>1282671714657157120</td>\n",
              "      <td>1594678372000</td>\n",
              "      <td>2020-07-13</td>\n",
              "      <td>22:12:52</td>\n",
              "      <td>UTC</td>\n",
              "      <td>44196397</td>\n",
              "      <td>elonmusk</td>\n",
              "      <td>Elon Musk</td>\n",
              "      <td>NaN</td>\n",
              "      <td>...</td>\n",
              "      <td>NaN</td>\n",
              "      <td>NaN</td>\n",
              "      <td>NaN</td>\n",
              "      <td>NaN</td>\n",
              "      <td>NaN</td>\n",
              "      <td>[{'user_id': '44196397', 'username': 'elonmusk...</td>\n",
              "      <td>NaN</td>\n",
              "      <td>NaN</td>\n",
              "      <td>NaN</td>\n",
              "      <td>NaN</td>\n",
              "    </tr>\n",
              "    <tr>\n",
              "      <th>4</th>\n",
              "      <td>1282800078000803840</td>\n",
              "      <td>1282739486816964615</td>\n",
              "      <td>1594678346000</td>\n",
              "      <td>2020-07-13</td>\n",
              "      <td>22:12:26</td>\n",
              "      <td>UTC</td>\n",
              "      <td>44196397</td>\n",
              "      <td>elonmusk</td>\n",
              "      <td>Elon Musk</td>\n",
              "      <td>NaN</td>\n",
              "      <td>...</td>\n",
              "      <td>NaN</td>\n",
              "      <td>NaN</td>\n",
              "      <td>NaN</td>\n",
              "      <td>NaN</td>\n",
              "      <td>NaN</td>\n",
              "      <td>[{'user_id': '44196397', 'username': 'elonmusk...</td>\n",
              "      <td>NaN</td>\n",
              "      <td>NaN</td>\n",
              "      <td>NaN</td>\n",
              "      <td>NaN</td>\n",
              "    </tr>\n",
              "  </tbody>\n",
              "</table>\n",
              "<p>5 rows × 34 columns</p>\n",
              "</div>\n",
              "    <div class=\"colab-df-buttons\">\n",
              "\n",
              "  <div class=\"colab-df-container\">\n",
              "    <button class=\"colab-df-convert\" onclick=\"convertToInteractive('df-840676a4-731e-44df-be7c-4195aaa36d9e')\"\n",
              "            title=\"Convert this dataframe to an interactive table.\"\n",
              "            style=\"display:none;\">\n",
              "\n",
              "  <svg xmlns=\"http://www.w3.org/2000/svg\" height=\"24px\" viewBox=\"0 -960 960 960\">\n",
              "    <path d=\"M120-120v-720h720v720H120Zm60-500h600v-160H180v160Zm220 220h160v-160H400v160Zm0 220h160v-160H400v160ZM180-400h160v-160H180v160Zm440 0h160v-160H620v160ZM180-180h160v-160H180v160Zm440 0h160v-160H620v160Z\"/>\n",
              "  </svg>\n",
              "    </button>\n",
              "\n",
              "  <style>\n",
              "    .colab-df-container {\n",
              "      display:flex;\n",
              "      gap: 12px;\n",
              "    }\n",
              "\n",
              "    .colab-df-convert {\n",
              "      background-color: #E8F0FE;\n",
              "      border: none;\n",
              "      border-radius: 50%;\n",
              "      cursor: pointer;\n",
              "      display: none;\n",
              "      fill: #1967D2;\n",
              "      height: 32px;\n",
              "      padding: 0 0 0 0;\n",
              "      width: 32px;\n",
              "    }\n",
              "\n",
              "    .colab-df-convert:hover {\n",
              "      background-color: #E2EBFA;\n",
              "      box-shadow: 0px 1px 2px rgba(60, 64, 67, 0.3), 0px 1px 3px 1px rgba(60, 64, 67, 0.15);\n",
              "      fill: #174EA6;\n",
              "    }\n",
              "\n",
              "    .colab-df-buttons div {\n",
              "      margin-bottom: 4px;\n",
              "    }\n",
              "\n",
              "    [theme=dark] .colab-df-convert {\n",
              "      background-color: #3B4455;\n",
              "      fill: #D2E3FC;\n",
              "    }\n",
              "\n",
              "    [theme=dark] .colab-df-convert:hover {\n",
              "      background-color: #434B5C;\n",
              "      box-shadow: 0px 1px 3px 1px rgba(0, 0, 0, 0.15);\n",
              "      filter: drop-shadow(0px 1px 2px rgba(0, 0, 0, 0.3));\n",
              "      fill: #FFFFFF;\n",
              "    }\n",
              "  </style>\n",
              "\n",
              "    <script>\n",
              "      const buttonEl =\n",
              "        document.querySelector('#df-840676a4-731e-44df-be7c-4195aaa36d9e button.colab-df-convert');\n",
              "      buttonEl.style.display =\n",
              "        google.colab.kernel.accessAllowed ? 'block' : 'none';\n",
              "\n",
              "      async function convertToInteractive(key) {\n",
              "        const element = document.querySelector('#df-840676a4-731e-44df-be7c-4195aaa36d9e');\n",
              "        const dataTable =\n",
              "          await google.colab.kernel.invokeFunction('convertToInteractive',\n",
              "                                                    [key], {});\n",
              "        if (!dataTable) return;\n",
              "\n",
              "        const docLinkHtml = 'Like what you see? Visit the ' +\n",
              "          '<a target=\"_blank\" href=https://colab.research.google.com/notebooks/data_table.ipynb>data table notebook</a>'\n",
              "          + ' to learn more about interactive tables.';\n",
              "        element.innerHTML = '';\n",
              "        dataTable['output_type'] = 'display_data';\n",
              "        await google.colab.output.renderOutput(dataTable, element);\n",
              "        const docLink = document.createElement('div');\n",
              "        docLink.innerHTML = docLinkHtml;\n",
              "        element.appendChild(docLink);\n",
              "      }\n",
              "    </script>\n",
              "  </div>\n",
              "\n",
              "\n",
              "<div id=\"df-6b987e1e-56c0-40ec-941c-e635fcfe01e2\">\n",
              "  <button class=\"colab-df-quickchart\" onclick=\"quickchart('df-6b987e1e-56c0-40ec-941c-e635fcfe01e2')\"\n",
              "            title=\"Suggest charts\"\n",
              "            style=\"display:none;\">\n",
              "\n",
              "<svg xmlns=\"http://www.w3.org/2000/svg\" height=\"24px\"viewBox=\"0 0 24 24\"\n",
              "     width=\"24px\">\n",
              "    <g>\n",
              "        <path d=\"M19 3H5c-1.1 0-2 .9-2 2v14c0 1.1.9 2 2 2h14c1.1 0 2-.9 2-2V5c0-1.1-.9-2-2-2zM9 17H7v-7h2v7zm4 0h-2V7h2v10zm4 0h-2v-4h2v4z\"/>\n",
              "    </g>\n",
              "</svg>\n",
              "  </button>\n",
              "\n",
              "<style>\n",
              "  .colab-df-quickchart {\n",
              "      --bg-color: #E8F0FE;\n",
              "      --fill-color: #1967D2;\n",
              "      --hover-bg-color: #E2EBFA;\n",
              "      --hover-fill-color: #174EA6;\n",
              "      --disabled-fill-color: #AAA;\n",
              "      --disabled-bg-color: #DDD;\n",
              "  }\n",
              "\n",
              "  [theme=dark] .colab-df-quickchart {\n",
              "      --bg-color: #3B4455;\n",
              "      --fill-color: #D2E3FC;\n",
              "      --hover-bg-color: #434B5C;\n",
              "      --hover-fill-color: #FFFFFF;\n",
              "      --disabled-bg-color: #3B4455;\n",
              "      --disabled-fill-color: #666;\n",
              "  }\n",
              "\n",
              "  .colab-df-quickchart {\n",
              "    background-color: var(--bg-color);\n",
              "    border: none;\n",
              "    border-radius: 50%;\n",
              "    cursor: pointer;\n",
              "    display: none;\n",
              "    fill: var(--fill-color);\n",
              "    height: 32px;\n",
              "    padding: 0;\n",
              "    width: 32px;\n",
              "  }\n",
              "\n",
              "  .colab-df-quickchart:hover {\n",
              "    background-color: var(--hover-bg-color);\n",
              "    box-shadow: 0 1px 2px rgba(60, 64, 67, 0.3), 0 1px 3px 1px rgba(60, 64, 67, 0.15);\n",
              "    fill: var(--button-hover-fill-color);\n",
              "  }\n",
              "\n",
              "  .colab-df-quickchart-complete:disabled,\n",
              "  .colab-df-quickchart-complete:disabled:hover {\n",
              "    background-color: var(--disabled-bg-color);\n",
              "    fill: var(--disabled-fill-color);\n",
              "    box-shadow: none;\n",
              "  }\n",
              "\n",
              "  .colab-df-spinner {\n",
              "    border: 2px solid var(--fill-color);\n",
              "    border-color: transparent;\n",
              "    border-bottom-color: var(--fill-color);\n",
              "    animation:\n",
              "      spin 1s steps(1) infinite;\n",
              "  }\n",
              "\n",
              "  @keyframes spin {\n",
              "    0% {\n",
              "      border-color: transparent;\n",
              "      border-bottom-color: var(--fill-color);\n",
              "      border-left-color: var(--fill-color);\n",
              "    }\n",
              "    20% {\n",
              "      border-color: transparent;\n",
              "      border-left-color: var(--fill-color);\n",
              "      border-top-color: var(--fill-color);\n",
              "    }\n",
              "    30% {\n",
              "      border-color: transparent;\n",
              "      border-left-color: var(--fill-color);\n",
              "      border-top-color: var(--fill-color);\n",
              "      border-right-color: var(--fill-color);\n",
              "    }\n",
              "    40% {\n",
              "      border-color: transparent;\n",
              "      border-right-color: var(--fill-color);\n",
              "      border-top-color: var(--fill-color);\n",
              "    }\n",
              "    60% {\n",
              "      border-color: transparent;\n",
              "      border-right-color: var(--fill-color);\n",
              "    }\n",
              "    80% {\n",
              "      border-color: transparent;\n",
              "      border-right-color: var(--fill-color);\n",
              "      border-bottom-color: var(--fill-color);\n",
              "    }\n",
              "    90% {\n",
              "      border-color: transparent;\n",
              "      border-bottom-color: var(--fill-color);\n",
              "    }\n",
              "  }\n",
              "</style>\n",
              "\n",
              "  <script>\n",
              "    async function quickchart(key) {\n",
              "      const quickchartButtonEl =\n",
              "        document.querySelector('#' + key + ' button');\n",
              "      quickchartButtonEl.disabled = true;  // To prevent multiple clicks.\n",
              "      quickchartButtonEl.classList.add('colab-df-spinner');\n",
              "      try {\n",
              "        const charts = await google.colab.kernel.invokeFunction(\n",
              "            'suggestCharts', [key], {});\n",
              "      } catch (error) {\n",
              "        console.error('Error during call to suggestCharts:', error);\n",
              "      }\n",
              "      quickchartButtonEl.classList.remove('colab-df-spinner');\n",
              "      quickchartButtonEl.classList.add('colab-df-quickchart-complete');\n",
              "    }\n",
              "    (() => {\n",
              "      let quickchartButtonEl =\n",
              "        document.querySelector('#df-6b987e1e-56c0-40ec-941c-e635fcfe01e2 button');\n",
              "      quickchartButtonEl.style.display =\n",
              "        google.colab.kernel.accessAllowed ? 'block' : 'none';\n",
              "    })();\n",
              "  </script>\n",
              "</div>\n",
              "    </div>\n",
              "  </div>\n"
            ]
          },
          "metadata": {},
          "execution_count": 97
        }
      ]
    },
    {
      "cell_type": "code",
      "source": [
        "df[\"tweet\"] # в этой колонке нужные нам данные"
      ],
      "metadata": {
        "id": "Getf_gdxRZLO",
        "outputId": "719c4e46-8c47-47ba-8076-8cf3c5274391",
        "colab": {
          "base_uri": "https://localhost:8080/"
        }
      },
      "execution_count": 98,
      "outputs": [
        {
          "output_type": "execute_result",
          "data": {
            "text/plain": [
              "0                                                    Cute\n",
              "1                                                     Wow\n",
              "2       Reusability is essential. A rocket that is sin...\n",
              "3                                             Wild times!\n",
              "4       We’re being extra paranoid. Maximizing probabi...\n",
              "                              ...                        \n",
              "9281    Prob good though. Will give us time to replace...\n",
              "9282    Air Force tracking radar went down. Launch pos...\n",
              "9283    Rocket reentry will be much tougher this time ...\n",
              "9284    Launching our 1st deep space mission today. He...\n",
              "9285    If you are curious about the P85D, you can sch...\n",
              "Name: tweet, Length: 9286, dtype: object"
            ]
          },
          "metadata": {},
          "execution_count": 98
        }
      ]
    },
    {
      "cell_type": "code",
      "source": [
        "# как достать текст из колонок датафрейма\n",
        "tweets = df[\"tweet\"].to_list()\n",
        "print(tweets[:10])"
      ],
      "metadata": {
        "id": "FVG3ZZwwRc1K",
        "outputId": "bcf61de4-8d78-4af6-c137-e465964b703c",
        "colab": {
          "base_uri": "https://localhost:8080/"
        }
      },
      "execution_count": 100,
      "outputs": [
        {
          "output_type": "stream",
          "name": "stdout",
          "text": [
            "['Cute', 'Wow', 'Reusability is essential. A rocket that is single use is just as absurd as a single use airplane. F9 engines already fire 3 times per flight.', 'Wild times!', 'We’re being extra paranoid. Maximizing probability of successful launch is paramount.', 'Welcome anytime', 'Well, I do care very much about sustainability of civilization, but there is some truth to the irony part haha', 'Yes, in plan. Superchargers and public high power wall connectors will keep growing exponentially every year.', '👀', 'I think so']\n"
          ]
        }
      ]
    },
    {
      "cell_type": "code",
      "source": [
        "# дальше работаем с переменной tweets\n",
        "# ваш код ниже"
      ],
      "metadata": {
        "id": "rsq1lJH5RjxM"
      },
      "execution_count": null,
      "outputs": []
    },
    {
      "cell_type": "code",
      "source": [
        "# научим функцию принимать тот список стоп-слов, который ей передают в качестве аргумента\n",
        "en_stop_words = stopwords.words('english')\n",
        "\n",
        "def clean_tokens(text, stop_words):\n",
        "  text = text.lower()\n",
        "  text_clean = word_tokenize(text) # токенизируем\n",
        "  text_clean = [word for word in text_clean if word[0].isalpha()] # убираем пунктуацию\n",
        "  text_clean = [word for word in text_clean if word not in stop_words] # убираем стоп-слова\n",
        "  return text_clean"
      ],
      "metadata": {
        "id": "5gTu9d18CGyh"
      },
      "execution_count": 115,
      "outputs": []
    },
    {
      "cell_type": "code",
      "source": [
        "tweets_str = (' '.join(tweets))\n",
        "tweets_clean = clean_tokens(tweets_str, en_stop_words) # не забудьте передать в функцию, что нам нужны стоп-слова на английском\n",
        "Counter(tweets_clean).most_common(50)"
      ],
      "metadata": {
        "id": "IKzJUNYvFnBA",
        "outputId": "9afc6276-608d-4107-8621-f2bc5ca2daa9",
        "colab": {
          "base_uri": "https://localhost:8080/"
        }
      },
      "execution_count": 116,
      "outputs": [
        {
          "output_type": "execute_result",
          "data": {
            "text/plain": [
              "[('https', 867),\n",
              " ('tesla', 822),\n",
              " ('yes', 463),\n",
              " ('good', 362),\n",
              " ('would', 304),\n",
              " ('model', 303),\n",
              " ('like', 301),\n",
              " ('car', 276),\n",
              " ('great', 271),\n",
              " ('much', 241),\n",
              " ('one', 230),\n",
              " ('spacex', 211),\n",
              " ('time', 209),\n",
              " ('http', 206),\n",
              " ('next', 204),\n",
              " ('high', 200),\n",
              " ('true', 200),\n",
              " ('also', 193),\n",
              " ('soon', 191),\n",
              " ('cars', 191),\n",
              " ('people', 190),\n",
              " ('yeah', 187),\n",
              " ('make', 181),\n",
              " ('sure', 176),\n",
              " ('get', 176),\n",
              " ('year', 175),\n",
              " ('exactly', 172),\n",
              " ('thanks', 171),\n",
              " ('even', 170),\n",
              " ('need', 165),\n",
              " ('probably', 165),\n",
              " ('better', 165),\n",
              " (\"n't\", 165),\n",
              " ('first', 164),\n",
              " ('right', 163),\n",
              " ('work', 162),\n",
              " ('team', 161),\n",
              " ('coming', 159),\n",
              " ('production', 159),\n",
              " ('many', 155),\n",
              " ('rocket', 154),\n",
              " ('new', 153),\n",
              " ('maybe', 147),\n",
              " ('us', 145),\n",
              " ('actually', 143),\n",
              " ('starship', 143),\n",
              " ('way', 142),\n",
              " ('falcon', 135),\n",
              " ('years', 129),\n",
              " ('mars', 127)]"
            ]
          },
          "metadata": {},
          "execution_count": 116
        }
      ]
    }
  ]
}