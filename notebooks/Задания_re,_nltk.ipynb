{
  "nbformat": 4,
  "nbformat_minor": 0,
  "metadata": {
    "colab": {
      "provenance": [],
      "authorship_tag": "ABX9TyMB9G23WJd8goPZDJkd7dkQ",
      "include_colab_link": true
    },
    "kernelspec": {
      "name": "python3",
      "display_name": "Python 3"
    },
    "language_info": {
      "name": "python"
    }
  },
  "cells": [
    {
      "cell_type": "markdown",
      "metadata": {
        "id": "view-in-github",
        "colab_type": "text"
      },
      "source": [
        "<a href=\"https://colab.research.google.com/github/AnnSenina/Python_CL_2023/blob/main/notebooks/%D0%97%D0%B0%D0%B4%D0%B0%D0%BD%D0%B8%D1%8F_re%2C_nltk.ipynb\" target=\"_parent\"><img src=\"https://colab.research.google.com/assets/colab-badge.svg\" alt=\"Open In Colab\"/></a>"
      ]
    },
    {
      "cell_type": "markdown",
      "source": [
        "Коллеги, первые 2 задания мне пришли от Светланы Юрьевны, они на регулярные выражения"
      ],
      "metadata": {
        "id": "6O-lbJmJBGcQ"
      }
    },
    {
      "cell_type": "markdown",
      "source": [
        "### Задание 1\n",
        "\n",
        "поработайте с файлом flats.txt\n",
        "\n",
        "- Достаньте из текста объявления, убрав textN. annN.\n",
        "- Достаньте из текста только станции и количество комнат (пример: Арбатская м. 1-комн. кв-ру)\n",
        "- Найдите только те объявления, где есть балкон или лоджия"
      ],
      "metadata": {
        "id": "OrKh-eA8BPDo"
      }
    },
    {
      "cell_type": "code",
      "source": [],
      "metadata": {
        "id": "xpuvd97IDyG-"
      },
      "execution_count": null,
      "outputs": []
    },
    {
      "cell_type": "code",
      "source": [],
      "metadata": {
        "id": "jBFhxaWVBGC8"
      },
      "execution_count": null,
      "outputs": []
    },
    {
      "cell_type": "code",
      "execution_count": null,
      "metadata": {
        "id": "GRty4pCuBDNj"
      },
      "outputs": [],
      "source": []
    },
    {
      "cell_type": "code",
      "source": [],
      "metadata": {
        "id": "QbXkIAeBCkEo"
      },
      "execution_count": null,
      "outputs": []
    },
    {
      "cell_type": "markdown",
      "source": [
        "### Задание 2"
      ],
      "metadata": {
        "id": "Q72W9VrXCHNw"
      }
    },
    {
      "cell_type": "markdown",
      "source": [
        "Работаем с файлом po_slovam.txt\n",
        "\n",
        "- Найдите только такие выражения, в которых вводится прямая речь в формате: По словам/мнению/... <Имя собственное>"
      ],
      "metadata": {
        "id": "AdD8z6JmC2Qa"
      }
    },
    {
      "cell_type": "code",
      "source": [],
      "metadata": {
        "id": "T1aFP-qYDxYk"
      },
      "execution_count": null,
      "outputs": []
    },
    {
      "cell_type": "code",
      "source": [],
      "metadata": {
        "id": "QI6IaY_HCxZK"
      },
      "execution_count": null,
      "outputs": []
    },
    {
      "cell_type": "markdown",
      "source": [
        "### Задание 3\n",
        "\n",
        "Уже от меня: продолжаем работать с этим файлом:\n",
        "- напишите функцию по предобработке текста с NLTK (со стеммером или без - на ваше усмотрение), найдите 30 самых частотных токенов\n",
        "- найдите 20 самых частотных биграмм\n",
        "- постройте облако слов"
      ],
      "metadata": {
        "id": "hMgxVUDFDZbj"
      }
    },
    {
      "cell_type": "code",
      "source": [],
      "metadata": {
        "id": "vuPoI8KRDY2T"
      },
      "execution_count": null,
      "outputs": []
    },
    {
      "cell_type": "code",
      "source": [],
      "metadata": {
        "id": "YdDz2HAHDvAt"
      },
      "execution_count": null,
      "outputs": []
    },
    {
      "cell_type": "code",
      "source": [],
      "metadata": {
        "id": "xcr-Qb9ZDxAQ"
      },
      "execution_count": null,
      "outputs": []
    },
    {
      "cell_type": "code",
      "source": [],
      "metadata": {
        "id": "x8jP3fw3ESlx"
      },
      "execution_count": null,
      "outputs": []
    },
    {
      "cell_type": "markdown",
      "source": [
        "### Задание 4\n",
        "\n",
        "Перед вами небольшой текст на итальянском. Токенизируйте его с помощью NLTK, удалите стоп-слова и найдите 10 самых частотных токенов"
      ],
      "metadata": {
        "id": "zGfsjMx_JM9B"
      }
    },
    {
      "cell_type": "code",
      "source": [
        "text = '''Maria è in vacanza a Napoli, e ammira il golfo del mare, e gli splendidi monumenti della città. Maria è in giro per Via Roma, arriva a Piazza Plebiscito, e pensa che è molto bella.\n",
        "Adesso vorrebbe tornare nella zona centrale, passando per Spaccanapoli, ma non sa come fare.\n",
        "Maria chiede indicazioni ad un signore, seduto a bere il caffè e mangiare una pizza - Mi scusi come posso arrivare in centro, passando per Spaccanapoli? - chiede Maria, il signore napoletano la guarda e risponde – Deve tornare indietro e percorrere tutta via Roma, e poi quando vede un vicolo che spacca la città a metà, quello è Spaccanapoli -.\n",
        "Maria a quel punto capisce che Spaccanapoli, si chiama così perché è una via che taglia tutta Napoli, come se la spaccasse in due.'''"
      ],
      "metadata": {
        "id": "e0THajkzGlfA"
      },
      "execution_count": 12,
      "outputs": []
    },
    {
      "cell_type": "code",
      "source": [],
      "metadata": {
        "id": "_u6nioehJrw7"
      },
      "execution_count": null,
      "outputs": []
    },
    {
      "cell_type": "code",
      "source": [],
      "metadata": {
        "id": "FBtOndb1JrrE"
      },
      "execution_count": null,
      "outputs": []
    },
    {
      "cell_type": "markdown",
      "source": [
        "### Бонус\n",
        "\n",
        "NLTK немного умеет токенизировать не-европейские языки. Давайте попробуем с японским\n",
        "\n",
        "Это не токенизатор в чистом виде - это больше похоже на подготовку текста, его сегментацию на предложения для дальнейшей токенизации"
      ],
      "metadata": {
        "id": "fdXVZNhVLEb9"
      }
    },
    {
      "cell_type": "code",
      "source": [
        "import nltk\n",
        "nltk.download('perluniprops')\n",
        "from nltk.tokenize.nist import NISTTokenizer\n",
        "nist = NISTTokenizer()"
      ],
      "metadata": {
        "id": "-RPRKuLYLDVj"
      },
      "execution_count": null,
      "outputs": []
    },
    {
      "cell_type": "code",
      "source": [
        "# кусочек текста о Мураками с японской википедии\n",
        "murakami = '村上 春樹（むらかみ はるき、1949年（昭和24年）1月12日 - ）は、日本の小説家・翻訳家。\\n京都府京都市伏見区に生まれ、兵庫県西宮市・芦屋市に育つ。早稲田大学在学中にジャズ喫茶を開く。1979年、『風の歌を聴け』で群像新人文学賞を受賞しデビュー。1987年発表の『ノルウェイの森』は2009年時点で上下巻1000万部を売るベストセラーとなり、これをきっかけに村上春樹ブームが起きる。代表作に『羊をめぐる冒険』、『世界の終りとハードボイルド・ワンダーランド』、『ねじまき鳥クロニクル』、『海辺のカフカ』、『1Q84』などがある。それらの作品は、50ヵ国語以上で翻訳されている。\\n日本国外でも人気が高く、柴田元幸は村上を現代アメリカでも大きな影響力をもつ作家の一人と評している。2006年、フランツ・カフカ賞をアジア圏で初めて受賞し、以後日本の作家の中でノーベル文学賞の最有力候補と見なされている[注 1]。精力的に、フィッツジェラルドやチャンドラーの作品などを翻訳。また、随筆・紀行文・ノンフィクション等も多く出版している。'"
      ],
      "metadata": {
        "id": "jE1D4_LrLRrr"
      },
      "execution_count": 25,
      "outputs": []
    },
    {
      "cell_type": "code",
      "source": [
        "nist.international_tokenize(murakami)"
      ],
      "metadata": {
        "id": "8kgbkc0DLXWO"
      },
      "execution_count": null,
      "outputs": []
    },
    {
      "cell_type": "markdown",
      "source": [
        "Подробнее [здесь](https://www.nltk.org/_modules/nltk/tokenize/nist.html) и [здесь](https://www.nltk.org/api/nltk.tokenize.nist.html)"
      ],
      "metadata": {
        "id": "x_d7YvC7MZZC"
      }
    }
  ]
}