{
  "nbformat": 4,
  "nbformat_minor": 0,
  "metadata": {
    "colab": {
      "provenance": [],
      "authorship_tag": "ABX9TyOCgn0AiDmbdX6y7wwndey7",
      "include_colab_link": true
    },
    "kernelspec": {
      "name": "python3",
      "display_name": "Python 3"
    },
    "language_info": {
      "name": "python"
    }
  },
  "cells": [
    {
      "cell_type": "markdown",
      "metadata": {
        "id": "view-in-github",
        "colab_type": "text"
      },
      "source": [
        "<a href=\"https://colab.research.google.com/github/AnnSenina/Python_CL_2023/blob/main/notebooks/%D0%9F%D0%B8%D0%BD%D0%B3%D0%B2%D0%B8%D0%BD%D1%8B_%D1%80%D0%B5%D1%88%D0%B5%D0%BD%D0%B8%D0%B5.ipynb\" target=\"_parent\"><img src=\"https://colab.research.google.com/assets/colab-badge.svg\" alt=\"Open In Colab\"/></a>"
      ]
    },
    {
      "cell_type": "markdown",
      "source": [
        "Работаем с файлом penguins.csv\n",
        "\n",
        "- Считайте его в список списков, аналогично примеру выше.\n",
        "\n",
        "- Затем узнайте, сколько в файле ***уникальных*** (!) видов пингвинов (вид пингвина находится на нулевом индексе каждого списка), напр.:\n",
        "\n",
        "['Adelie', 'Torgersen', '39.1', '18.7', '181', '3750', 'MALE'], где 'Adelie' - вид пингвина\n",
        "\n",
        "- Сколько раз в таблице встретился каждый вид пингвинов - используйте метод .count() ИЛИ словарь для подсчета"
      ],
      "metadata": {
        "id": "pQSWa-xLEVqH"
      }
    },
    {
      "cell_type": "code",
      "execution_count": 4,
      "metadata": {
        "colab": {
          "base_uri": "https://localhost:8080/"
        },
        "id": "RdKQOM1cDTbf",
        "outputId": "6b7bb0f5-af3e-43d7-ae0a-15f2c2519849"
      },
      "outputs": [
        {
          "output_type": "execute_result",
          "data": {
            "text/plain": [
              "[['species',\n",
              "  'island',\n",
              "  'bill_length_mm',\n",
              "  'bill_depth_mm',\n",
              "  'flipper_length_mm',\n",
              "  'body_mass_g',\n",
              "  'sex'],\n",
              " ['Adelie', 'Torgersen', '39.1', '18.7', '181', '3750', 'MALE'],\n",
              " ['Adelie', 'Torgersen', '39.5', '17.4', '186', '3800', 'FEMALE'],\n",
              " ['Adelie', 'Torgersen', '40.3', '18', '195', '3250', 'FEMALE'],\n",
              " ['Adelie', 'Torgersen', '', '', '', '', ''],\n",
              " ['Adelie', 'Torgersen', '36.7', '19.3', '193', '3450', 'FEMALE'],\n",
              " ['Adelie', 'Torgersen', '39.3', '20.6', '190', '3650', 'MALE'],\n",
              " ['Adelie', 'Torgersen', '38.9', '17.8', '181', '3625', 'FEMALE'],\n",
              " ['Adelie', 'Torgersen', '39.2', '19.6', '195', '4675', 'MALE'],\n",
              " ['Adelie', 'Torgersen', '34.1', '18.1', '193', '3475', '']]"
            ]
          },
          "metadata": {},
          "execution_count": 4
        }
      ],
      "source": [
        "peng = []\n",
        "with open(\"penguins.csv\", 'r') as f:\n",
        "  for i in f:\n",
        "    peng.append(i.strip().split(','))\n",
        "peng[:10] # посмотрим на первые 10 строк"
      ]
    },
    {
      "cell_type": "code",
      "source": [
        "peng = peng[1:] # пропустим строку с заголовками\n",
        "peng[:2] # проверим, что ее больше нет"
      ],
      "metadata": {
        "colab": {
          "base_uri": "https://localhost:8080/"
        },
        "id": "WuVWfxpAEcnO",
        "outputId": "617a9cac-d477-4c94-b733-f5d48b44f63b"
      },
      "execution_count": 5,
      "outputs": [
        {
          "output_type": "execute_result",
          "data": {
            "text/plain": [
              "[['Adelie', 'Torgersen', '39.1', '18.7', '181', '3750', 'MALE'],\n",
              " ['Adelie', 'Torgersen', '39.5', '17.4', '186', '3800', 'FEMALE']]"
            ]
          },
          "metadata": {},
          "execution_count": 5
        }
      ]
    },
    {
      "cell_type": "code",
      "source": [
        "species = []\n",
        "\n",
        "for i in peng:\n",
        "  species.append(i[0])\n",
        "\n",
        "print(len(set(species))) # уникальные виды пингвинов\n",
        "print(set(species))"
      ],
      "metadata": {
        "colab": {
          "base_uri": "https://localhost:8080/"
        },
        "id": "t_y6EWyjEisp",
        "outputId": "b35ffd63-797f-4a01-a94b-2e0a1d20094d"
      },
      "execution_count": 6,
      "outputs": [
        {
          "output_type": "stream",
          "name": "stdout",
          "text": [
            "3\n",
            "{'Chinstrap', 'Gentoo', 'Adelie'}\n"
          ]
        }
      ]
    },
    {
      "cell_type": "code",
      "source": [
        "for i in set(species): # берем только уникальных пингвинов\n",
        "  print(species.count(i), i) # считаем их количество в списке со всеми пингвинами"
      ],
      "metadata": {
        "colab": {
          "base_uri": "https://localhost:8080/"
        },
        "id": "NU2ps2pXEmPX",
        "outputId": "e81834f8-c997-4db2-a335-1daff0f9e37d"
      },
      "execution_count": 7,
      "outputs": [
        {
          "output_type": "stream",
          "name": "stdout",
          "text": [
            "68 Chinstrap\n",
            "124 Gentoo\n",
            "152 Adelie\n"
          ]
        }
      ]
    },
    {
      "cell_type": "code",
      "source": [
        "# ИЛИ:\n",
        "d = {}\n",
        "for i in species:\n",
        "  if i not in d:\n",
        "    d[i] = 1\n",
        "  else:\n",
        "    d[i] += 1\n",
        "\n",
        "print(d)"
      ],
      "metadata": {
        "colab": {
          "base_uri": "https://localhost:8080/"
        },
        "id": "vXVvy1vDEoIB",
        "outputId": "7e37c431-afa7-4b4b-9f6a-cb0c2744c6f9"
      },
      "execution_count": 8,
      "outputs": [
        {
          "output_type": "stream",
          "name": "stdout",
          "text": [
            "{'Adelie': 152, 'Chinstrap': 68, 'Gentoo': 124}\n"
          ]
        }
      ]
    }
  ]
}