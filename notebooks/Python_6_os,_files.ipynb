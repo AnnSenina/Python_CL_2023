{
  "cells": [
    {
      "cell_type": "markdown",
      "metadata": {
        "id": "view-in-github",
        "colab_type": "text"
      },
      "source": [
        "<a href=\"https://colab.research.google.com/github/AnnSenina/Python_CL_2023/blob/main/notebooks/Python_6_os%2C_files.ipynb\" target=\"_parent\"><img src=\"https://colab.research.google.com/assets/colab-badge.svg\" alt=\"Open In Colab\"/></a>"
      ]
    },
    {
      "cell_type": "markdown",
      "metadata": {
        "id": "VZl78AiF5wlr"
      },
      "source": [
        "# Работа с файлами и папками в Python; модуль os\n",
        "\n",
        "Другими словами: где хранятся файлы, открыть, создать, изменить и т.д.\n",
        "\n",
        "Часто, чтобы поработать над какой-то задачей, нам нужно работать с файлами, в которых хранятся данные, перемещаться среди папок и тд. Для решениях этих задач, в питоне существует [модуль os](https://pythonworld.ru/moduli/modul-os.html).\n",
        "\n",
        "\n",
        "1. Содержание папки\n",
        "1. Работа с путями к файлам и папкам\n",
        "1. Манипуляции с файлами и папками\n",
        "1. Загрузка на Google Диск\n",
        "1. Практика\n",
        "\n",
        "В блокноте использованы материалы курса \"Программирование и лингвистические данные\", \"Программирование на Python для Digital Humanities\" и тетрадка А. Хорошевой\n",
        "\n"
      ]
    },
    {
      "cell_type": "markdown",
      "source": [
        "# 1. Рабочая директория\n",
        "\n",
        "это текущая папка, в которой пользователь находится в данный момент при работе с файловой системой. Это место, где создаются, изменяются и хранятся файлы и папки, относящиеся к текущей задаче или проекту."
      ],
      "metadata": {
        "id": "SfErqmFZUghN"
      }
    },
    {
      "cell_type": "code",
      "source": [
        "import os"
      ],
      "metadata": {
        "id": "6KWqpb1YVFH7"
      },
      "execution_count": 7,
      "outputs": []
    },
    {
      "cell_type": "code",
      "source": [
        "# Посмотреть путь к папке, где сейчас работает наш питон:\n",
        "print(os.getcwd())"
      ],
      "metadata": {
        "id": "h4WTu3rVU-ig"
      },
      "execution_count": null,
      "outputs": []
    },
    {
      "cell_type": "markdown",
      "source": [
        "Коллеги, прежде, чем выполнять следующие шаги, запомните этот путь!"
      ],
      "metadata": {
        "id": "s5Kczg5kWMWq"
      }
    },
    {
      "cell_type": "code",
      "source": [
        "os.chdir(\"\") # впишите внутри путь до любой другой папки"
      ],
      "metadata": {
        "id": "jr_Q9fAvVMKu"
      },
      "execution_count": null,
      "outputs": []
    },
    {
      "cell_type": "code",
      "source": [
        "print(os.getcwd()) # убедитесь, что рабочая директория изменилась"
      ],
      "metadata": {
        "id": "DOpXh2c4VnSC"
      },
      "execution_count": null,
      "outputs": []
    },
    {
      "cell_type": "markdown",
      "source": [
        "не забудьте поменять обратно!)"
      ],
      "metadata": {
        "id": "pOmSQqv2WSvr"
      }
    },
    {
      "cell_type": "code",
      "source": [
        "os.chdir(\"\") # впишите изначальный путь\n",
        "\n",
        "# os.chdir('/content') # для Colab"
      ],
      "metadata": {
        "id": "cm2G2lEdV0KH"
      },
      "execution_count": null,
      "outputs": []
    },
    {
      "cell_type": "markdown",
      "source": [
        "# 2. Содержание папки\n"
      ],
      "metadata": {
        "id": "Skr0-SVIUdWY"
      }
    },
    {
      "cell_type": "code",
      "execution_count": null,
      "metadata": {
        "id": "bdXc52QT6Y_f"
      },
      "outputs": [],
      "source": [
        "print(os.listdir()) # список файлов и папок в директории, где запущена программа"
      ]
    },
    {
      "cell_type": "markdown",
      "source": [
        "Если внутри скобок вписать путо до нужной вам папки, увидите список файлов из нее:"
      ],
      "metadata": {
        "id": "3wAf_ZWtWaiX"
      }
    },
    {
      "cell_type": "code",
      "execution_count": null,
      "metadata": {
        "id": "m1sK32vS6bPp"
      },
      "outputs": [],
      "source": [
        "# print(os.listdir('ваша папка'))  # список имен файлов и папок в конкретной папке\n",
        "# print(os.listdir('sample_data')) # Для Colab"
      ]
    },
    {
      "cell_type": "markdown",
      "metadata": {
        "id": "VwL_8Dmv_KZi"
      },
      "source": [
        "# 3. Работа с путями к файлам и папкам"
      ]
    },
    {
      "cell_type": "markdown",
      "metadata": {
        "id": "CeaAUsTfFOu6"
      },
      "source": [
        "## Проверка типа файла\n",
        "Модуль `os.path` содержит функции для проверки существования файла и для определения его типа:\n"
      ]
    },
    {
      "cell_type": "code",
      "execution_count": null,
      "metadata": {
        "id": "8c7YrANUFBz3"
      },
      "outputs": [],
      "source": [
        "path = 'sample_data' # ваша папка, полный путь для другой среды программирования: /путь/.../папка\n",
        "# path = 'simple_data'\n",
        "\n",
        "if os.path.exists(path):\n",
        "    print(path, 'существует')\n",
        "    if os.path.isfile(path):\n",
        "        print(path, '— это файл')\n",
        "    elif os.path.isdir(path):\n",
        "        print(path, '— это папка')\n",
        "    else:\n",
        "        print(path, '— это не файл и не папка')\n",
        "else:\n",
        "    print(path, 'не существует')"
      ]
    },
    {
      "cell_type": "markdown",
      "source": [
        "path можно также использовать для соединения папки и файла в путь знаком /"
      ],
      "metadata": {
        "id": "XjiFpRRQW2ZE"
      }
    },
    {
      "cell_type": "code",
      "source": [
        "os.path.join('sample_data', 'california_housing_test.csv')"
      ],
      "metadata": {
        "id": "JNCmxmNJZ0dZ"
      },
      "execution_count": null,
      "outputs": []
    },
    {
      "cell_type": "code",
      "source": [
        "# аналогично:\n",
        "'sample_data' + '/' + 'california_housing_test.csv'"
      ],
      "metadata": {
        "id": "wwFEqm8HXG3y"
      },
      "execution_count": null,
      "outputs": []
    },
    {
      "cell_type": "markdown",
      "metadata": {
        "id": "-egpfPwRIJmJ"
      },
      "source": [
        "#  4. Манипуляции с файлами и папками\n",
        "Производите все манипуляции с файлами с осторожностью"
      ]
    },
    {
      "cell_type": "markdown",
      "metadata": {
        "id": "MrNZDeiLIXlV"
      },
      "source": [
        "## Создание файла\n",
        "Для создания пустого файла достаточно открыть несуществующий файл с флагом `'x'`:"
      ]
    },
    {
      "cell_type": "code",
      "execution_count": 14,
      "metadata": {
        "id": "fltQc9deFjPk"
      },
      "outputs": [],
      "source": [
        "with open('empty.txt', 'x'): # есть и другие режимы, но о них позднее: 'r', 'w', 'a'\n",
        "    pass # не делает ничего\n",
        "\n",
        "# try:\n",
        "#   действия\n",
        "# except:\n",
        "#   pass"
      ]
    },
    {
      "cell_type": "code",
      "execution_count": null,
      "metadata": {
        "id": "dZoncpuZIcdm"
      },
      "outputs": [],
      "source": [
        "print(os.listdir()) # проверим, что файл появился"
      ]
    },
    {
      "cell_type": "markdown",
      "metadata": {
        "id": "OzrBO23tJAJD"
      },
      "source": [
        "## Создание папки\n",
        "Для создания новой папки используйте `os.mkdir(name)`. Эта функция выдаст ошибку, если по указанному пути уже существует файл или папка с таким названием."
      ]
    },
    {
      "cell_type": "code",
      "execution_count": 15,
      "metadata": {
        "id": "boaoWXACI55C"
      },
      "outputs": [],
      "source": [
        "os.mkdir('nice new folder') # make directory в нашей рабочей директории"
      ]
    },
    {
      "cell_type": "code",
      "source": [
        "print(os.listdir())"
      ],
      "metadata": {
        "id": "kJSr_T0UEazr"
      },
      "execution_count": null,
      "outputs": []
    },
    {
      "cell_type": "markdown",
      "metadata": {
        "id": "85HJiTysTA1Q"
      },
      "source": [
        "Если вам нужно создать сразу несколько вложенных друг в друга папок, то смотрите функцию [`os.makedirs()`](https://docs.python.org/3/library/os.html#os.makedirs)."
      ]
    },
    {
      "cell_type": "code",
      "execution_count": 16,
      "metadata": {
        "id": "-Zb5abMFTCmR"
      },
      "outputs": [],
      "source": [
        "os.makedirs(os.path.join('some_folder_2','subfolder1','subfolder2', 'subfolder3'))"
      ]
    },
    {
      "cell_type": "code",
      "source": [
        "print(os.listdir()) # проверим, что папки появились"
      ],
      "metadata": {
        "id": "Vht2WXNqHF4_"
      },
      "execution_count": null,
      "outputs": []
    },
    {
      "cell_type": "code",
      "source": [
        "print(list(os.walk(\"some_folder_2\"))) # перечисляет все папки от топа вниз, в виде кортежа"
      ],
      "metadata": {
        "id": "J7kBNFtaKSll"
      },
      "execution_count": null,
      "outputs": []
    },
    {
      "cell_type": "markdown",
      "source": [
        "Для тетрадок: запустим в режиме display (без print)"
      ],
      "metadata": {
        "id": "Rif3ddx1X5Sw"
      }
    },
    {
      "cell_type": "code",
      "source": [
        "list(os.walk(\"some_folder_2\")) # перечисляет все папки от топа вниз, в виде кортежа"
      ],
      "metadata": {
        "id": "C1mLoSDzX99W"
      },
      "execution_count": null,
      "outputs": []
    },
    {
      "cell_type": "markdown",
      "metadata": {
        "id": "TrAW7SSIJUCN"
      },
      "source": [
        "## Перемещение и переименование\n",
        "Для удобной манипуляции с файлами и папками в стандартной библиотеке Python существует специальный модуль [`shutil`](https://pythonworld.ru/moduli/modul-shutil.html)."
      ]
    },
    {
      "cell_type": "code",
      "execution_count": 6,
      "metadata": {
        "id": "EusmD-VlJj22"
      },
      "outputs": [],
      "source": [
        "# import os\n",
        "import shutil"
      ]
    },
    {
      "cell_type": "markdown",
      "metadata": {
        "id": "nR1z_Is7JiiF"
      },
      "source": [
        "Функция `shutil.move(source, destination)` позволяет вам переместить любой файл или папку (даже непустую). Обратите внимание, что если `destination` — это уже существующая папка, то файл/папка будет перемещена внутрь неё, в остальных случаях файл/папка будут скопированы точно по нужному адресу. В случае успеха, функция вернёт новое местоположение файла. Если `destination` существует и не является папкой, то будет выброшена ошибка."
      ]
    },
    {
      "cell_type": "code",
      "execution_count": null,
      "metadata": {
        "id": "tGZI3_70JM8r"
      },
      "outputs": [],
      "source": [
        "shutil.move('empty.txt', 'nice new folder')"
      ]
    },
    {
      "cell_type": "code",
      "source": [
        "print(os.listdir()) # проверим, что файл исчез из рабочей директории\n",
        "print(os.listdir('nice new folder')) # проверим, что файл появился"
      ],
      "metadata": {
        "id": "46MIZ7uqHQuX"
      },
      "execution_count": null,
      "outputs": []
    },
    {
      "cell_type": "markdown",
      "metadata": {
        "id": "I3gHd0qZKD2v"
      },
      "source": [
        "Перенесем файл обратно"
      ]
    },
    {
      "cell_type": "code",
      "execution_count": null,
      "metadata": {
        "id": "JOa3YECqKEMh"
      },
      "outputs": [],
      "source": [
        "shutil.move(os.path.join('nice new folder', 'empty.txt'), '.') # '.' - помести на уровень выше\n",
        "# '..' - помести на 2 уровня выше\n",
        "\n",
        "# можно также записать как:\n",
        "# shutil.move('nice new folder/empty.txt', 'empty.txt')"
      ]
    },
    {
      "cell_type": "code",
      "source": [
        "print(os.listdir()) # проверим, что файл появился"
      ],
      "metadata": {
        "id": "295b10tD8xOm"
      },
      "execution_count": null,
      "outputs": []
    },
    {
      "cell_type": "markdown",
      "source": [
        "!!! Не указываем полный путь до папки в том случае, **если файлы, папки лежат в рабочей директории**\n",
        "\n",
        "Если мы выходим за пределы папки со средой (питоном), тогда **указываем полный путь**"
      ],
      "metadata": {
        "id": "OMILb5adPliy"
      }
    },
    {
      "cell_type": "markdown",
      "metadata": {
        "id": "V4a6O9i0Lpes"
      },
      "source": [
        "### Переименовать файл"
      ]
    },
    {
      "cell_type": "code",
      "execution_count": null,
      "metadata": {
        "id": "QhmFCMC8LvBn"
      },
      "outputs": [],
      "source": [
        "shutil.move('empty.txt', 'full.txt') # такое перемещение - и есть переименование\n",
        "print(os.listdir()) # проверим"
      ]
    },
    {
      "cell_type": "code",
      "execution_count": null,
      "metadata": {
        "id": "en8U_XvEL43R"
      },
      "outputs": [],
      "source": [
        "os.rename('full.txt', 'empty.txt') # то же самое другим способом\n",
        "print(os.listdir()) # переименовали обратно"
      ]
    },
    {
      "cell_type": "markdown",
      "metadata": {
        "id": "f3BDiN24MM7q"
      },
      "source": [
        "## Копирование\n",
        "Скопировать файл можно с помощью функции `shutil.copy(source, destination)`."
      ]
    },
    {
      "cell_type": "code",
      "execution_count": null,
      "metadata": {
        "id": "3IvZJzeSMCDc"
      },
      "outputs": [],
      "source": [
        "shutil.copy('empty.txt', 'nice new folder/empty.txt')"
      ]
    },
    {
      "cell_type": "markdown",
      "metadata": {
        "id": "I6dEm5hxOqVr"
      },
      "source": [
        "Скопировать папку для операционной системы сложнее, ведь мы всегда хотим скопировать не только папку, но и её содержимое. Для копирования папок используйте `shutil.copytree(source, destination)`. Обратите внимание, что для этой функции `destination` всегда должно быть путём конечного расположения файлов и не может быть уже существующей папкой."
      ]
    },
    {
      "cell_type": "code",
      "execution_count": null,
      "metadata": {
        "id": "w9CWbhK9OqyO"
      },
      "outputs": [],
      "source": [
        "shutil.copytree('nice new folder', 'nicer newer folder')"
      ]
    },
    {
      "cell_type": "code",
      "execution_count": null,
      "metadata": {
        "id": "DkBCWzyi6E74"
      },
      "outputs": [],
      "source": [
        "print(os.listdir('nicer newer folder'))"
      ]
    },
    {
      "cell_type": "markdown",
      "metadata": {
        "id": "dirqlclnPH44"
      },
      "source": [
        "## Удаление\n",
        "Удалить файл можно с помощью функции `os.remove`, а пустую папку с помощью функции `os.rmdir`.\n",
        "\n",
        "А вот для удаления папки с содержимым вновь понадобится `shutil`. Для удаления такой папки используйте `shutil.rmtree`.\n",
        "\n",
        "Будьте осторожны, команды удаления стирают файл, а не перемещают его в корзину, вне зависимости от операционной системы! После такого удаления восстановить файл может быть сложно или вовсе невозможно.\n",
        "\n"
      ]
    },
    {
      "cell_type": "code",
      "execution_count": 21,
      "metadata": {
        "id": "TDSfTzATPzn8"
      },
      "outputs": [],
      "source": [
        "os.remove('empty.txt')\n",
        "# команда запустится только один раз!\n",
        "# запустить дважды нельзя, файл УЖЕ удален"
      ]
    },
    {
      "cell_type": "code",
      "source": [
        "os.remove('nice new folder/empty.txt') # удаляем файл из папки nice new folder\n",
        "# os.remove('nice new folder') # не сработает, команда удаляет только файлы\n",
        "\n",
        "os.rmdir('nice new folder') # удаляем пустую папку nice new folder"
      ],
      "metadata": {
        "id": "lEQR-dczbAmt"
      },
      "execution_count": 22,
      "outputs": []
    },
    {
      "cell_type": "code",
      "execution_count": 24,
      "metadata": {
        "id": "RmkBAO7g7n0l"
      },
      "outputs": [],
      "source": [
        "# os.rmdir('nicer newer folder') # не сработает, в папке есть соедржимое!\n",
        "shutil.rmtree('nicer newer folder') # разом удалить, со всеми вложенными файлами и папками"
      ]
    },
    {
      "cell_type": "code",
      "source": [
        "shutil.rmtree('some_folder_2') # разом удалить, со всеми вложенными файлами и папками"
      ],
      "metadata": {
        "id": "OqhMRFJCbbZB"
      },
      "execution_count": 23,
      "outputs": []
    },
    {
      "cell_type": "code",
      "source": [
        "print(os.listdir())"
      ],
      "metadata": {
        "id": "mrAVg6IG_wr6"
      },
      "execution_count": null,
      "outputs": []
    },
    {
      "cell_type": "markdown",
      "metadata": {
        "id": "mBdS-5uveiwO"
      },
      "source": [
        "## Подключить папки со своего Google Диск (только Colab)"
      ]
    },
    {
      "cell_type": "code",
      "execution_count": null,
      "metadata": {
        "id": "qELh_h4mYlwO"
      },
      "outputs": [],
      "source": [
        "from google.colab import drive\n",
        "drive.mount('/content/drive')"
      ]
    },
    {
      "cell_type": "code",
      "execution_count": null,
      "metadata": {
        "id": "eqg8ATHhkU16"
      },
      "outputs": [],
      "source": [
        "os.listdir('drive/MyDrive') # посмотрим на Google Диск!\n",
        "\n",
        "# теперь файлы с Диска можно открывать так: drive/MyDrive/ваш_файл.расширение\n",
        "\n",
        "# можно также наш диск объявить рабочей директорией\n",
        "# os.chdir('drive/MyDrive')"
      ]
    },
    {
      "cell_type": "markdown",
      "source": [
        "# Работа с файлами"
      ],
      "metadata": {
        "id": "Ll3kY-ylXyik"
      }
    },
    {
      "cell_type": "code",
      "source": [
        "with open(\"city_smells.txt\", 'r') as file: # воспользуемся встроенной функцией open()\n",
        "    pass"
      ],
      "metadata": {
        "id": "VvCaJDZcX1f4"
      },
      "execution_count": 69,
      "outputs": []
    },
    {
      "cell_type": "markdown",
      "source": [
        "давайте посмотрим на аргументы функции:\n",
        "* первый = путь к файлу, который хотим открыть.\n",
        "\n",
        "* второй аргумент - необязательный, это режим открытия файла: для чтения, записи, дозаписи, все вместе и тд. (по умолчанию - чтение, 'r')\n",
        "\n",
        "\n",
        "<div class=\"table-wrapper\"><table border=\"1\" class=\"docutils\"><tbody valign=\"top\"><tr><td>Режим</td><td>Обозначение</td></tr><tr><td>'r'</td><td>открытие на чтение (является значением по умолчанию).</td></tr><tr><td>'w'</td><td>открытие на запись, содержимое файла удаляется, если файла не существует, создается новый.</td></tr><tr><td>'x'</td><td>открытие на запись, если файла не существует, иначе исключение.</td></tr><tr><td>'a'</td><td>открытие на дозапись, информация добавляется в конец файла.</td></tr><tr><td>'b'</td><td>открытие в двоичном режиме.</td></tr><tr><td>'t'</td><td>открытие в текстовом режиме (является значением по умолчанию).</td></tr><tr><td>'+'</td><td>открытие на чтение и запись</td></tr></tbody></table></div>\n",
        "\n",
        "\n",
        "Режимы могут быть объединены: например, 'ra' - открытие для чтения и  дозаписи.\n",
        "\n",
        "Последний аргумент (опциональный, его можно не указывать), encoding, нужен только в текстовом режиме чтения файла. Этот аргумент задает кодировку. Чтобы стандантные .txt-файлы читались без проблем, ставим ```encoding = utf-8```\n",
        "\n",
        "\n",
        "Мы открыли файл с режимом для чтения (пока еще не читали его), сохранили в переменную значение. Давайте прочтем содержимое. Читать тоже можно несколькими методами:\n",
        "* .read()\n",
        "* .readline()\n",
        "* .readlines()\n",
        "\n",
        "\n"
      ],
      "metadata": {
        "id": "5tIAfpQ8Xxve"
      }
    },
    {
      "cell_type": "code",
      "source": [
        "with open(\"city_smells.txt\", \"r\", encoding='utf-8') as file:\n",
        "    print(file.read())\n",
        "    # print(file.readline())\n",
        "    # print(file.readlines())"
      ],
      "metadata": {
        "id": "U9sq8eKCZ2-n"
      },
      "execution_count": null,
      "outputs": []
    },
    {
      "cell_type": "code",
      "source": [
        "with open(\"city_smells.txt\", \"r\", encoding='utf-8') as file:\n",
        "    text = file.read() # можно сразу сохранить текст в переменную\n",
        "    # файл закроется, но все данные уже есть в переменной!\n",
        "\n",
        "print(text)"
      ],
      "metadata": {
        "id": "Jq7a4_aiY5hN"
      },
      "execution_count": null,
      "outputs": []
    },
    {
      "cell_type": "markdown",
      "source": [
        "Теперь попробуем создать файл и записать в него что-то:"
      ],
      "metadata": {
        "id": "UyXh6-mtZS8R"
      }
    },
    {
      "cell_type": "code",
      "source": [
        "with open('new_text.txt', 'w') as file:\n",
        "    file.write(\"hi this is a test\\n\")\n",
        "\n",
        "# если такого файла не существовало, он создастся автоматически"
      ],
      "metadata": {
        "id": "QSnd0tBkY3cc"
      },
      "execution_count": 82,
      "outputs": []
    },
    {
      "cell_type": "markdown",
      "source": [
        "Чтобы предыдущая информация не стиралась из файла при записи, откроем с режимом \"а\"\n"
      ],
      "metadata": {
        "id": "kAhWHolAZQNM"
      }
    },
    {
      "cell_type": "code",
      "source": [
        "with open(\"new_text.txt\", 'a') as file:\n",
        "    file.write(\"new line\\n\")"
      ],
      "metadata": {
        "id": "YK1B9S_pZNO4"
      },
      "execution_count": 83,
      "outputs": []
    },
    {
      "cell_type": "code",
      "source": [
        "with open(\"new_text.txt\",'r') as file: # читаем, что получилось\n",
        "    print(file.read())"
      ],
      "metadata": {
        "id": "E4zxXYc8c5er"
      },
      "execution_count": null,
      "outputs": []
    },
    {
      "cell_type": "markdown",
      "source": [
        "# Практика"
      ],
      "metadata": {
        "id": "S2kPte4SVb2q"
      }
    },
    {
      "cell_type": "markdown",
      "source": [
        "Задание 1"
      ],
      "metadata": {
        "id": "QZMTLYp4fKiP"
      }
    },
    {
      "cell_type": "markdown",
      "source": [
        "Запустите код ниже без изменений (вы скачаете архив в гитхаба моего коллеги и распакуете его в вашу рабочую директорию)"
      ],
      "metadata": {
        "id": "Swka96UdfYkq"
      }
    },
    {
      "cell_type": "code",
      "source": [
        "!wget https://github.com/dhhse/dh2020/raw/master/topic_modeling/LEMMATIZED_KNIFE.zip\n",
        "!unzip LEMMATIZED_KNIFE.zip"
      ],
      "metadata": {
        "id": "DcQXAjRjfMgT"
      },
      "execution_count": null,
      "outputs": []
    },
    {
      "cell_type": "markdown",
      "source": [
        "Сложите все тексты из файлов в один список с текстами:\n",
        "\n",
        "создайте пустой список full_texts\n",
        "\n",
        "\n",
        "переберите ***список файлов*** в папке 'LEMMATIZED_KNIFE' циклом for\n",
        "\n",
        "\n",
        "внутри цикла:\n",
        "*  открывайте каждый файл с помощью with open(название_очередного_файла)\n",
        "\n",
        "* сохраните текст в переменную\n",
        "* добавьте переменную в конец списка full_texts\n",
        "\n"
      ],
      "metadata": {
        "id": "fWkiSG-Bfa4c"
      }
    },
    {
      "cell_type": "code",
      "source": [],
      "metadata": {
        "id": "_3A-N64_hOmH"
      },
      "execution_count": null,
      "outputs": []
    },
    {
      "cell_type": "code",
      "source": [],
      "metadata": {
        "id": "fTL7jtwmfffV"
      },
      "execution_count": null,
      "outputs": []
    },
    {
      "cell_type": "code",
      "source": [],
      "metadata": {
        "id": "lDKiKHpfffKP"
      },
      "execution_count": null,
      "outputs": []
    },
    {
      "cell_type": "markdown",
      "source": [
        "Задание 2\n",
        "\n",
        "В файле result.txt - список участников олимпиады\n",
        "\n",
        "Откроем файл, сохраним данные в виде списка списков и отсортируем их несколькими способами (по фамилиям, именам, баллам и т.д.)\n",
        "\n",
        "Идеально превратить его в такой объект:\n",
        "\n",
        "[\n",
        "\n",
        "  ['Петров', 'Василий', '3', '99'],\n",
        "\n",
        " ['Андреев', 'Роман', '14', '75'],\n",
        "\n",
        " ['Сергеев', 'Петр', '23', '74'],\n",
        "\n",
        " ['Романов', 'Иван', '27', '68'],\n",
        "\n",
        " ['Иванов', 'Сергей', '14', '56'],\n",
        "\n",
        " ['Васильев', 'Андрей', '3', '56']\n",
        "\n",
        " ]"
      ],
      "metadata": {
        "id": "vIkqNo8BYEeK"
      }
    },
    {
      "cell_type": "code",
      "source": [],
      "metadata": {
        "id": "uufNEZhkdr0K"
      },
      "execution_count": null,
      "outputs": []
    },
    {
      "cell_type": "code",
      "source": [],
      "metadata": {
        "id": "iNCpWGSI_UHi"
      },
      "execution_count": null,
      "outputs": []
    },
    {
      "cell_type": "code",
      "source": [],
      "metadata": {
        "id": "_1XdiNUF_U1y"
      },
      "execution_count": null,
      "outputs": []
    },
    {
      "cell_type": "markdown",
      "source": [
        "Задание 3\n",
        "\n",
        "Работаем с файлом penguins.csv\n",
        "\n",
        "- Считайте его в список списков, аналогично примеру выше.\n",
        "\n",
        "- Затем узнайте, сколько в файле ***уникальных*** (!) видов пингвинов (вид пингвина находится на нулевом индексе каждого списка), напр.:\n",
        "\n",
        "['Adelie', 'Torgersen', '39.1', '18.7', '181', '3750', 'MALE'], где 'Adelie' - вид пингвина\n",
        "\n",
        "- Сколько раз в таблице встретился каждый вид пингвинов - используйте метод .count() ИЛИ словарь для подсчета"
      ],
      "metadata": {
        "id": "PBpMcrX2dQ-q"
      }
    },
    {
      "cell_type": "code",
      "source": [],
      "metadata": {
        "id": "BbdQxrxTfCrd"
      },
      "execution_count": null,
      "outputs": []
    },
    {
      "cell_type": "code",
      "source": [],
      "metadata": {
        "id": "BJt3em8RfCoY"
      },
      "execution_count": null,
      "outputs": []
    },
    {
      "cell_type": "code",
      "source": [],
      "metadata": {
        "id": "tg5_6ychfCl7"
      },
      "execution_count": null,
      "outputs": []
    },
    {
      "cell_type": "markdown",
      "source": [
        "### Бонус"
      ],
      "metadata": {
        "id": "KNd3mNotdLTh"
      }
    },
    {
      "cell_type": "markdown",
      "source": [
        "Любимый пример на input'ы с первых встреч: давайте спрашивать что-то о людях и затем построчно заполнять файл информацией"
      ],
      "metadata": {
        "id": "aC7Y5RTmYL3B"
      }
    },
    {
      "cell_type": "code",
      "source": [
        "def survey():\n",
        "  name = input('Введите ваше имя: ')\n",
        "  age = input('Введите ваш возраст: ')\n",
        "  gender = input('Введите ваш гендер: ')\n",
        "  city = input('Введите ваш город: ')\n",
        "  work = input('Введите ваше место работы: ')\n",
        "  position = input('Введите вашу должность: ')\n",
        "  return name, age, gender, city, work, position\n",
        "\n",
        "n = int(input('Сколько людей будет заполнять анкету? '))\n",
        "with open('survey.csv', 'a', encoding='utf-8') as f2:\n",
        "  for i in range(n):\n",
        "    print(*survey(), sep=';', file=f2)"
      ],
      "metadata": {
        "id": "hxUc-M58aABa"
      },
      "execution_count": null,
      "outputs": []
    }
  ],
  "metadata": {
    "colab": {
      "provenance": [],
      "include_colab_link": true
    },
    "kernelspec": {
      "display_name": "Python 3",
      "name": "python3"
    },
    "language_info": {
      "name": "python"
    }
  },
  "nbformat": 4,
  "nbformat_minor": 0
}