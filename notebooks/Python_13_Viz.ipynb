{
  "nbformat": 4,
  "nbformat_minor": 0,
  "metadata": {
    "colab": {
      "provenance": [],
      "include_colab_link": true
    },
    "kernelspec": {
      "name": "python3",
      "display_name": "Python 3"
    },
    "language_info": {
      "name": "python"
    }
  },
  "cells": [
    {
      "cell_type": "markdown",
      "metadata": {
        "id": "view-in-github",
        "colab_type": "text"
      },
      "source": [
        "<a href=\"https://colab.research.google.com/github/AnnSenina/Python_CL_2023/blob/main/notebooks/Python_13_Viz.ipynb\" target=\"_parent\"><img src=\"https://colab.research.google.com/assets/colab-badge.svg\" alt=\"Open In Colab\"/></a>"
      ]
    },
    {
      "cell_type": "markdown",
      "source": [
        "#Matplotlib, seaborn и др."
      ],
      "metadata": {
        "id": "F797-kz5_wPK"
      }
    },
    {
      "cell_type": "code",
      "source": [
        "# все библиотеки и импорты разом:\n",
        "!pip install matplotlib\n",
        "!pip install seaborn\n",
        "\n",
        "import pandas as pd\n",
        "import matplotlib.pyplot as plt # традиционное сокращение\n",
        "from matplotlib import cm\n",
        "import matplotlib.ticker as ticker\n",
        "import seaborn as sns"
      ],
      "metadata": {
        "id": "q9DvGC8H4_Dl"
      },
      "execution_count": null,
      "outputs": []
    },
    {
      "cell_type": "markdown",
      "source": [
        "## Matplotlib"
      ],
      "metadata": {
        "id": "KwwJQYJed7WL"
      }
    },
    {
      "cell_type": "markdown",
      "source": [
        "Matplotlib -- это одна из классических библиотек для визуализации данных в Python\n"
      ],
      "metadata": {
        "id": "gugGrkKPAOCz"
      }
    },
    {
      "cell_type": "code",
      "execution_count": null,
      "metadata": {
        "id": "PHyBaqs5YV_N"
      },
      "outputs": [],
      "source": [
        "!pip install matplotlib # ячейка установки библиотеки в первый раз"
      ]
    },
    {
      "cell_type": "markdown",
      "source": [
        "Визуализации в MatPlotLib обычно делают с помощью `pyplot`\n",
        "— специального объекта, методы которого позволяют создавать и изменять графики. Импортируем его:"
      ],
      "metadata": {
        "id": "FYwXg03dAaY-"
      }
    },
    {
      "cell_type": "code",
      "source": [
        "import matplotlib.pyplot as plt # традиционное сокращение\n",
        "import pandas as pd"
      ],
      "metadata": {
        "id": "j-yqDoObAYw5"
      },
      "execution_count": null,
      "outputs": []
    },
    {
      "cell_type": "markdown",
      "source": [
        "## Датасет"
      ],
      "metadata": {
        "id": "vv7N8QfkBf6W"
      }
    },
    {
      "cell_type": "code",
      "source": [
        "covid = pd.read_csv('https://raw.githubusercontent.com/AnnSenina/Python_CL_2023/main/data/cases_regions_2022-02-03.csv', sep=';')\n",
        "covid\n",
        "#print(covid)"
      ],
      "metadata": {
        "id": "CTQ-jHuIQSxw"
      },
      "execution_count": null,
      "outputs": []
    },
    {
      "cell_type": "code",
      "source": [
        "covid['Москва'][660:691] #январь"
      ],
      "metadata": {
        "id": "nNHINK3BQthN"
      },
      "execution_count": null,
      "outputs": []
    },
    {
      "cell_type": "code",
      "source": [
        "plt.plot(covid['Москва'][660:691]) #plot - линейный график\n",
        "plt.show()"
      ],
      "metadata": {
        "id": "Chh_lVQaRJQV"
      },
      "execution_count": null,
      "outputs": []
    },
    {
      "cell_type": "code",
      "source": [
        "plt.plot(covid['Москва'][660:691]); # ; == plt.show()\n",
        "# можно не писать plt.show(), а сразу заканчивать график знаком ;"
      ],
      "metadata": {
        "id": "C0iFgpsvJQZQ"
      },
      "execution_count": null,
      "outputs": []
    },
    {
      "cell_type": "code",
      "source": [
        "plt.plot(covid['Москва'][660:691]) #plot - линейный график\n",
        "plt.savefig('my_covid_plot') # создаст png"
      ],
      "metadata": {
        "id": "vmyD0vP6Rnol"
      },
      "execution_count": null,
      "outputs": []
    },
    {
      "cell_type": "markdown",
      "source": [
        "Внимание! Вопрос: что на графике обозначают числа 660-690?"
      ],
      "metadata": {
        "id": "xwYdimZgTl9V"
      }
    },
    {
      "cell_type": "code",
      "source": [
        "plt.plot(\n",
        "    [f'{i}' for i in range(1, 32)], # сгенерируем подписи по оси x\n",
        "    covid['Москва'][660:691] # ось Y\n",
        "    )\n",
        "plt.show()"
      ],
      "metadata": {
        "id": "KhIGVpAhTAIo"
      },
      "execution_count": null,
      "outputs": []
    },
    {
      "cell_type": "markdown",
      "source": [
        "Данные расположились по оси y\n",
        "\n",
        "Добавим красивые подписи по оси х: отобразить подписи вертикально внутри .plot нельзя. Для этого есть отдельный метод под названием xticks:"
      ],
      "metadata": {
        "id": "kRStui0XStFN"
      }
    },
    {
      "cell_type": "code",
      "source": [
        "plt.plot(\n",
        "    [f'{i} янв' for i in range(1, 32)], # ось X с подписями\n",
        "    covid['Москва'][660:691] # ось Y\n",
        "    )\n",
        "plt.xticks(rotation=90) # показать подписи вертикально = под углом 90 градусов\n",
        "plt.show()"
      ],
      "metadata": {
        "id": "pyHEosuiR25X"
      },
      "execution_count": null,
      "outputs": []
    },
    {
      "cell_type": "code",
      "source": [
        "plt.plot(\n",
        "    [f'{i} января' for i in range(1, 32)], # ось X\n",
        "    covid['Москва'][660:691] # ось Y\n",
        "    )\n",
        "plt.xticks(rotation=45)\n",
        "plt.show()"
      ],
      "metadata": {
        "id": "NiP4CtHNBqsA"
      },
      "execution_count": null,
      "outputs": []
    },
    {
      "cell_type": "code",
      "source": [
        "# вместо подписей по оси x можно задать координаты\n",
        "plt.plot(\n",
        "    [f'{i} янв' for i in range(1, 32)], # ось X\n",
        "    covid['Москва'][660:691], # ось Y\n",
        "    marker='o' # через запятую добавлели маркеры - точки\n",
        "    )\n",
        "plt.xticks(rotation=90)\n",
        "plt.show()"
      ],
      "metadata": {
        "id": "YGejdxH6Tg8l"
      },
      "execution_count": null,
      "outputs": []
    },
    {
      "cell_type": "code",
      "source": [
        "# запись можно сократить и упростить\n",
        "\n",
        "x = [f'{i} янв' for i in range(1, 32)]\n",
        "y = covid['Москва'][660:691]\n",
        "\n",
        "plt.plot(x, y, marker='o') # короткая форма\n",
        "plt.xticks(rotation=90)\n",
        "plt.show()"
      ],
      "metadata": {
        "id": "3MBqbTSxU9Y4"
      },
      "execution_count": null,
      "outputs": []
    },
    {
      "cell_type": "code",
      "source": [
        "# сравним:\n",
        "\n",
        "x = [f'{i} янв' for i in range(1, 32)]\n",
        "y = covid['Москва'][660:691]\n",
        "\n",
        "plt.plot(x, y, 'o') # точки, без линии\n",
        "plt.xticks(rotation=90)\n",
        "plt.show()"
      ],
      "metadata": {
        "id": "AOoCqZchVJe4"
      },
      "execution_count": null,
      "outputs": []
    },
    {
      "cell_type": "code",
      "source": [
        "x = [f'{i} янв' for i in range(1, 32)]\n",
        "y = covid['Москва'][660:691]\n",
        "\n",
        "plt.plot(x, y, 'ro') # угадайте, что значит ro?\n",
        "plt.xticks(rotation=90)\n",
        "plt.show()"
      ],
      "metadata": {
        "id": "0upPrCTJUfBK"
      },
      "execution_count": null,
      "outputs": []
    },
    {
      "cell_type": "code",
      "source": [
        "x = [f'{i} янв' for i in range(1, 32)]\n",
        "y = covid['Москва'][660:691]\n",
        "\n",
        "plt.plot(x, y, 'g^')\n",
        "plt.xticks(rotation=90)\n",
        "plt.show()"
      ],
      "metadata": {
        "id": "xwPxzLTPVS4V"
      },
      "execution_count": null,
      "outputs": []
    },
    {
      "cell_type": "code",
      "source": [
        "x = [f'{i} янв' for i in range(1, 32)]\n",
        "y = covid['Москва'][660:691]\n",
        "\n",
        "plt.plot(x, y, marker = 's', linestyle = ':', color = 'orange')\n",
        "plt.xticks(rotation=90)\n",
        "plt.show()"
      ],
      "metadata": {
        "id": "TXBqlwR_Vqyi"
      },
      "execution_count": null,
      "outputs": []
    },
    {
      "cell_type": "code",
      "source": [
        "import matplotlib.ticker as ticker\n",
        "# здесь: https://matplotlib.org/stable/api/ticker_api.html\n",
        "\n",
        "x = [f'{i} янв' for i in range(1, 32)]\n",
        "y = covid['Москва'][660:691]\n",
        "\n",
        "fig, ax = plt.subplots()\n",
        "ax.plot(x, y, color = 'r', linewidth = 3)\n",
        "ax.xaxis.set_major_locator(ticker.MultipleLocator(3)) # Код для установки размера тиков (шагов)\n",
        "plt.xticks(rotation=45)\n",
        "plt.show()"
      ],
      "metadata": {
        "id": "Y8x_x70xOdnE"
      },
      "execution_count": null,
      "outputs": []
    },
    {
      "cell_type": "markdown",
      "source": [
        "Вот [здесь](https://matplotlib.org/stable/api/_as_gen/matplotlib.pyplot.plot.html) описаны все варианты задания цветов, точек и формы штриха."
      ],
      "metadata": {
        "id": "RNMfL4C2VjI0"
      }
    },
    {
      "cell_type": "markdown",
      "source": [
        "### Размер холста через pyplot\n",
        "\n",
        "можно вызвать метод figure и задать размер через него:"
      ],
      "metadata": {
        "id": "kDeslAVjV4TV"
      }
    },
    {
      "cell_type": "code",
      "source": [
        "x = [f'{i} янв' for i in range(1, 32)]\n",
        "y = covid['Москва'][660:691]\n",
        "\n",
        "plt.figure(figsize=(10, 5)) # указываем размер в дюймах\n",
        "plt.plot(x, y, marker = 's', linestyle = ':', color = 'orange')\n",
        "plt.xticks(rotation=90)\n",
        "plt.show()\n",
        "# https://matplotlib.org/stable/api/_as_gen/matplotlib.pyplot.figure.html"
      ],
      "metadata": {
        "id": "MzATMDvPVmz0"
      },
      "execution_count": null,
      "outputs": []
    },
    {
      "cell_type": "markdown",
      "source": [
        "## Отобразим несколько показателей"
      ],
      "metadata": {
        "id": "ubCN-wDMWbUY"
      }
    },
    {
      "cell_type": "code",
      "source": [
        "x = [f'{i} янв' for i in range(1, 32)]\n",
        "\n",
        "y1 = covid['Москва'][660:691]\n",
        "y2 = covid['Санкт-Петербург'][660:691]\n",
        "y3 = covid['Пермский край'][660:691]\n",
        "\n",
        "plt.figure(figsize=(12,8))\n",
        "plt.plot(x, y1, '.') # Москва\n",
        "plt.plot(x, y2, '^')\n",
        "plt.plot(x, y3, 's')\n",
        "plt.xticks(rotation=90)\n",
        "plt.show()"
      ],
      "metadata": {
        "id": "k3No26lOWFm5"
      },
      "execution_count": null,
      "outputs": []
    },
    {
      "cell_type": "code",
      "source": [
        "# можно использовать короткую запись\n",
        "\n",
        "x = [f'{i} янв' for i in range(1, 32)]\n",
        "\n",
        "y1 = covid['Москва'][660:691]\n",
        "y2 = covid['Санкт-Петербург'][660:691]\n",
        "y3 = covid['Пермский край'][660:691]\n",
        "\n",
        "plt.figure(figsize=(12,8))\n",
        "plt.plot(x, y1, '.',\n",
        "         x, y2, '^',\n",
        "         x, y3, 's') # легко запутаться\n",
        "plt.xticks(rotation=90)\n",
        "plt.show()"
      ],
      "metadata": {
        "id": "JTagjwcbXPS5"
      },
      "execution_count": null,
      "outputs": []
    },
    {
      "cell_type": "code",
      "source": [
        "# можно использовать короткую запись\n",
        "\n",
        "x = [f'{i} янв' for i in range(1, 32)]\n",
        "\n",
        "y1 = covid['Москва'][660:691]\n",
        "y2 = covid['Санкт-Петербург'][660:691]\n",
        "y3 = covid['Пермский край'][660:691]\n",
        "\n",
        "plt.figure(figsize=(12,8))\n",
        "plt.plot(x, y1, '.', x, y2, '^', x, y3, 's')\n",
        "plt.xticks(rotation=90)\n",
        "plt.grid() # задает сетку на графике: сетка привязана к тикам по оси x и y\n",
        "plt.show()"
      ],
      "metadata": {
        "id": "mDaeMfHyXgd1"
      },
      "execution_count": null,
      "outputs": []
    },
    {
      "cell_type": "markdown",
      "source": [
        "Добавим легенду"
      ],
      "metadata": {
        "id": "rlbIOQaPXzrJ"
      }
    },
    {
      "cell_type": "code",
      "source": [
        "# можно использовать короткую запись\n",
        "\n",
        "x = [f'{i} янв' for i in range(1, 32)]\n",
        "\n",
        "y1 = covid['Москва'][660:691]\n",
        "y2 = covid['Санкт-Петербург'][660:691]\n",
        "y3 = covid['Пермский край'][660:691]\n",
        "\n",
        "plt.figure(figsize=(12,8))\n",
        "plt.plot(x, y1, '.', x, y2, '^', x, y3, 's')\n",
        "plt.xticks(rotation=90)\n",
        "plt.grid()\n",
        "plt.legend(['Москва', 'Санкт-Петербург', 'Пермь']) # но создатели библиотеки рекомендуют другой способ\n",
        "plt.show()\n",
        "\n",
        "# можно почитать здесь https://matplotlib.org/stable/api/_as_gen/matplotlib.pyplot.legend.html#matplotlib.pyplot.legend"
      ],
      "metadata": {
        "id": "0D_LRqfUXwSP"
      },
      "execution_count": null,
      "outputs": []
    },
    {
      "cell_type": "code",
      "source": [
        "x = [f'{i} янв' for i in range(1, 32)]\n",
        "\n",
        "y1 = covid['Москва'][660:691]\n",
        "y2 = covid['Санкт-Петербург'][660:691]\n",
        "y3 = covid['Пермский край'][660:691]\n",
        "\n",
        "plt.figure(figsize=(10,6))\n",
        "plt.plot(x, y1, '.', label='Москва')\n",
        "plt.plot(x, y2, '^', label='Санкт-Петербург')\n",
        "plt.plot(x, y3, 's', label='Пермь')\n",
        "plt.xticks(rotation=90)\n",
        "plt.grid()\n",
        "plt.legend() # legend сама добавит значения из label\n",
        "plt.show()"
      ],
      "metadata": {
        "id": "6b4O7CFAY71_"
      },
      "execution_count": null,
      "outputs": []
    },
    {
      "cell_type": "code",
      "source": [
        "x = [f'{i} янв' for i in range(1, 32)]\n",
        "\n",
        "y1 = covid['Москва'][660:691]\n",
        "y2 = covid['Санкт-Петербург'][660:691]\n",
        "y3 = covid['Пермский край'][660:691]\n",
        "\n",
        "plt.figure(figsize=(10,6))\n",
        "\n",
        "# заголовок и его стили\n",
        "plt.title('Статистика по ковиду для Москвы и Санкт-Петербурга и Перми', fontsize=16, color='green', fontstyle='italic', fontfamily='serif')\n",
        "\n",
        "plt.plot(x, y1, '.', label='Москва')\n",
        "plt.plot(x, y2, '^', label='Санкт-Петербург')\n",
        "plt.plot(x, y3, 's', label='Пермь')\n",
        "\n",
        "# подписи осей\n",
        "plt.xticks(rotation=90, fontsize=16) # вертикально\n",
        "plt.xlabel('Дни', fontsize=16)\n",
        "plt.ylabel('Заражения в день', fontsize=16)\n",
        "\n",
        "plt.legend(fontsize=16)\n",
        "plt.grid()\n",
        "plt.show()"
      ],
      "metadata": {
        "id": "9BGA8eH-ZSK4"
      },
      "execution_count": null,
      "outputs": []
    },
    {
      "cell_type": "markdown",
      "source": [
        "Методы пайплота, которые отвечают за текст на графиках ([см.тут](https://matplotlib.org/stable/api/text_api.html#matplotlib.text.Text))"
      ],
      "metadata": {
        "id": "0csX8zNAaiCG"
      }
    },
    {
      "cell_type": "code",
      "source": [
        "# построим финальный график, со всеми подписями и шагом для обеих осей\n",
        "# import matplotlib.ticker as ticker\n",
        "\n",
        "fig, ax = plt.subplots(figsize=(12,8))\n",
        "plt.title('Статистика по ковиду для Москвы и Санкт-Петербурга и Перми', fontsize=16, color='green', fontstyle='italic', fontfamily='serif')\n",
        "plt.plot(x, y1, '.', x, y2, '^', x, y3, 's')\n",
        "ax.plot([f'{i} янв' for i in range(1, 32)], covid['Москва'][660:691], '.', label='Москва')\n",
        "ax.plot([f'{i} янв' for i in range(1, 32)], covid['Санкт-Петербург'][660:691], '^', label='Санкт-Петербург')\n",
        "ax.plot([f'{i} янв' for i in range(1, 32)], covid['Пермский край'][660:691], 's', label='Пермский край')\n",
        "ax.xaxis.set_major_locator(ticker.MultipleLocator(2)) # шаг на оси x - 2\n",
        "ax.yaxis.set_major_locator(ticker.MultipleLocator(6000)) # шаг на оси x - 6000\n",
        "\n",
        "# подписи осей\n",
        "plt.xticks(rotation=90, fontsize=16) # вертикально\n",
        "plt.yticks(fontsize=16)\n",
        "plt.xlabel('Дни', fontsize=16)\n",
        "plt.ylabel('Заражения в день', fontsize=16)\n",
        "\n",
        "plt.legend(fontsize=16)\n",
        "\n",
        "plt.grid() # задает сетку на графике (сетка привязана к интервалу на осях!)\n",
        "# меняем шаг -> изменится и сетка\n",
        "plt.show()\n",
        "\n",
        "# https://matplotlib.org/stable/api/gridspec_api.html"
      ],
      "metadata": {
        "id": "VMlrBE_GRU8W"
      },
      "execution_count": null,
      "outputs": []
    },
    {
      "cell_type": "markdown",
      "source": [
        "# Задание\n",
        "\n",
        "Постройте график для любых 2 субъектов (кроме Москвы, Санкт-Петербурга и Пермского края)\n",
        "\n",
        "Можно выбрать из датафрейма не январь\n",
        "\n",
        "У графика должны быть заголовок, подписи, названия осей и легенда"
      ],
      "metadata": {
        "id": "YgRTYNHkaqaI"
      }
    },
    {
      "cell_type": "code",
      "source": [
        "# ваш код\n",
        "\n"
      ],
      "metadata": {
        "id": "O7ppvwPoLMlN"
      },
      "execution_count": null,
      "outputs": []
    },
    {
      "cell_type": "markdown",
      "source": [
        "## Другие типы графиков matplotlib"
      ],
      "metadata": {
        "id": "bnuKRZUIgcOY"
      }
    },
    {
      "cell_type": "code",
      "source": [
        "x = [f'{i} янв' for i in range(1, 32)]\n",
        "y1 = covid['Москва'][660:691]\n",
        "\n",
        "plt.bar(x, y1) # бар-чарт, столбики\n",
        "plt.xticks(rotation=90)\n",
        "plt.show()"
      ],
      "metadata": {
        "id": "b40-V90ngbGI"
      },
      "execution_count": null,
      "outputs": []
    },
    {
      "cell_type": "code",
      "source": [
        "# с текстом тоже может быть интересно\n",
        "\n",
        "from collections import Counter\n",
        "\n",
        "text = 'системный блок искать смысл как сделать тематический моделирование корпус текст тематический моделирование легкий способ понимать смысловой состав большой коллекция текст который невозможно быстро прочитывать глаз пользоваться инструмент тематический моделирование мочь каждый а научиться можно в тьюториал здесь вы находить пошаговый руководство с решение основной технический трудность как работать тематический моделирование тематический моделирование topic modeling это способ научить машина выделять в текст содержательный тема например проанализировать массив новостной и публицистический текст о протестный митинг машина мочь выделить там тема топик полицейский насилие география москва требование и лозунг и др естественно компьютер не мочь понимать смысл статья напрямую но если быть большой коллекция текст с разный тема то вероятность совместный употребление слово позволять мы выделять отдельный тематический пласт примерно как химик разделять нефть на фракция бензин керосин солярка мазут асфальт'\n",
        "freqs_list = Counter(text.split()).most_common(3)\n",
        "print(freqs_list)\n",
        "\n",
        "values = [pair[1] for pair in freqs_list] # создаем список с частотами\n",
        "labels = [pair[0] for pair in freqs_list] # создаем список слов в том же порядке\n",
        "\n",
        "plt.bar(labels, values) # передаем данные в отрисовщик бар-чартов\n",
        "plt.show()"
      ],
      "metadata": {
        "id": "uRuAzgYMAcq1"
      },
      "execution_count": null,
      "outputs": []
    },
    {
      "cell_type": "code",
      "source": [
        "y1 = covid['Москва'][660:690] # заражения в Москве за январь 2022\n",
        "y1"
      ],
      "metadata": {
        "id": "8infVtypanfU"
      },
      "execution_count": null,
      "outputs": []
    },
    {
      "cell_type": "code",
      "source": [
        "plt.hist(covid['Москва'][660:691]) # гистограмма, ось x\n",
        "plt.show()"
      ],
      "metadata": {
        "id": "IysaHUKGjme0"
      },
      "execution_count": null,
      "outputs": []
    },
    {
      "cell_type": "code",
      "source": [
        "plt.hist(covid['Москва'][660:691], bins=20) # количество столбцов (=диапазонов) можно задать\n",
        "plt.show()\n",
        "# y - частоты"
      ],
      "metadata": {
        "id": "DovXQxchhp67"
      },
      "execution_count": null,
      "outputs": []
    },
    {
      "cell_type": "code",
      "source": [
        "# pie - круговая диаграмма, на наших данных в таком виде - полная ерунда\n",
        "plt.pie(covid['Москва'][660:691], labels=[f'{i} янв' for i in range(1, 32)])\n",
        "plt.show()"
      ],
      "metadata": {
        "id": "y8zNiludg3rC"
      },
      "execution_count": null,
      "outputs": []
    },
    {
      "cell_type": "code",
      "source": [
        "# сделаем прилично: переведем дату в правильный пандасовский формат\n",
        "covid['DateTime'] = pd.to_datetime(covid['DateTime'], format='%Y-%m-%d %H:%M:%S')\n",
        "\n",
        "# посмотрим на годы:\n",
        "covid['DateTime'].dt.year"
      ],
      "metadata": {
        "id": "Uc_K_Kp0MekL"
      },
      "execution_count": null,
      "outputs": []
    },
    {
      "cell_type": "code",
      "source": [
        "# посчитаем, за какие годы у нас есть данные\n",
        "print(covid['DateTime'].dt.year.value_counts())\n",
        "print(covid['DateTime'].dt.year.value_counts().index)"
      ],
      "metadata": {
        "id": "pvYuwfwgO0df"
      },
      "execution_count": null,
      "outputs": []
    },
    {
      "cell_type": "code",
      "source": [
        "plt.pie(covid['DateTime'].dt.year.value_counts(),\n",
        "        labels=covid['DateTime'].dt.year.value_counts().index)\n",
        "plt.show()"
      ],
      "metadata": {
        "id": "b17CxosVO6jz"
      },
      "execution_count": null,
      "outputs": []
    },
    {
      "cell_type": "code",
      "source": [
        "# другой пример\n",
        "plt.pie([0.55, 0.20, 0.15, 0.05, 0.05], labels=['Chrome', 'Safari', 'Firefox', 'Edge', 'Other'])\n",
        "plt.show()"
      ],
      "metadata": {
        "id": "f-zDjF3LhN0o"
      },
      "execution_count": null,
      "outputs": []
    },
    {
      "cell_type": "markdown",
      "source": [
        "Датавиз-сообщества считают, что pie-chart'ы устарели! :)\n",
        "\n",
        "![мем.jpg](https://qph.cf2.quoracdn.net/main-qimg-6ade42a13909e5488b4474dc150c0701-lq)\n",
        "\n",
        "За картинку спасибо @Andre_Orlov!)\n",
        "\n",
        "[Веселое обсуждение](https://medium.com/@eolay13/визуализируем-кофе-молоко-и-сахар-68fc7079868c) в тему - это Medium, откроется только с vpn\n"
      ],
      "metadata": {
        "id": "S5M2KD74AQ_M"
      }
    },
    {
      "cell_type": "markdown",
      "source": [
        "А теперь давайте попробуем рисовать при помощи функции scatter, которая работает несколько медленнее, но обладает большей функциональностью ([см. здесь](https://matplotlib.org/api/_as_gen/matplotlib.pyplot.scatter.html#matplotlib.pyplot.scatter)).\n",
        "\n",
        "Так как scatter по определению - это набор точек, которые не должны соединяться между собой, а просто бросаются на плоскость, то отрисовать линию с его помощью не получится.\n",
        "Также в scatter нельзя передать сразу цвет и вид точки/штриха, поэтому используем параметры color и marker.\n",
        "\n",
        "Параметр alpha можно применять почти везде. Он показывает степень прозрачности графика, легенды (0 = полностью прозрачен; 1 = абсолютно непрозрачен)\n",
        "\n",
        "Помимо этого для каждой из точек можно задавать размер маркера (параметр s, size) и его цвет (параметр c, colour)."
      ],
      "metadata": {
        "id": "Gt-EA77AkpIP"
      }
    },
    {
      "cell_type": "code",
      "source": [
        "x = [f'{i} янв' for i in range(1, 32)]\n",
        "y = covid['Москва'][660:691]\n",
        "\n",
        "c = 'green'\n",
        "\n",
        "s = [i * 0.1 for i in y] # 0.1 - просто чтобы красиво отобразить именно эти данные, у нас достаточно большие числа\n",
        "#s = 100 # размер можно сделать статичным\n",
        "\n",
        "plt.scatter(x, y, c = c, s = s, alpha = 0.3) # попробуйте поменять параметр alpha\n",
        "\n",
        "plt.xticks(rotation=90)\n",
        "plt.show()"
      ],
      "metadata": {
        "id": "6uTAGeGTkwwp"
      },
      "execution_count": null,
      "outputs": []
    },
    {
      "cell_type": "markdown",
      "source": [
        "Цвет графика можно задать при помощи цветовой карты. Для использования стандартных цветовых карт необходимо загрузить их из matplotlib:\n",
        "from matplotlib import cm\n",
        "\n",
        "Ту, что больше нравится, стоит присвоить в параметр cmap\n",
        "\n",
        "А здесь [ссылка с описанием и названиями цветовых карт](https://matplotlib.org/3.1.0/tutorials/colors/colormaps.html)"
      ],
      "metadata": {
        "id": "b3HQ6kLsmUWF"
      }
    },
    {
      "cell_type": "code",
      "source": [
        "from matplotlib import cm\n",
        "\n",
        "x = [f'{i} янв' for i in range(1, 32)]\n",
        "y = covid['Москва'][660:691]\n",
        "\n",
        "c = y # нужен список, чтобы для разных точек сгенерировать разные цвета!\n",
        "s = [i * 0.1 for i in y]\n",
        "\n",
        "plt.scatter(x, y, c = c, s = s, alpha=0.5, cmap=cm.magma)\n",
        "\n",
        "plt.xticks(rotation=90)\n",
        "plt.show()"
      ],
      "metadata": {
        "id": "LFiskDH-myoE"
      },
      "execution_count": null,
      "outputs": []
    },
    {
      "cell_type": "code",
      "source": [
        "# можно также строить облако точек для поиска зависимости между разными показателями\n",
        "plt.scatter(x = covid['Москва'], y = covid['Санкт-Петербург'])\n",
        "plt.show()\n",
        "# для наших данных - не очень интересно, хотя смысл все же есть:\n",
        "# заболеваемость в Москве и Петербурге связаны - общие волны ковида, очевидно, сильно прокатились по крупным городам"
      ],
      "metadata": {
        "id": "nxC-sVQry08e"
      },
      "execution_count": null,
      "outputs": []
    },
    {
      "cell_type": "markdown",
      "source": [
        "## А если наши данные - категориальные?"
      ],
      "metadata": {
        "id": "DyXAKz4Bo8nH"
      }
    },
    {
      "cell_type": "markdown",
      "source": [
        "Иногда мы имеем дело с данными, которые выражены не числами.\n",
        "\n",
        "Предположим, имя и возраст человека:"
      ],
      "metadata": {
        "id": "JJS49RXnpE0y"
      }
    },
    {
      "cell_type": "code",
      "source": [
        "data = {'Paul' : 68, 'Jane' : 25, \"Diana\" : 102}\n",
        "names = list(data.keys())\n",
        "values = list(data.values())\n",
        "\n",
        "fig, axs = plt.subplots(1,3, figsize=(10, 3)) # subplots - позволяет строить несколько графиков рядом, в т.ч. графики разных типов\n",
        "\n",
        "axs[0].plot(names, values, \"b--\")\n",
        "axs[1].scatter(names, values, s = [i * 10 for i in values], alpha=0.5, color = \"green\")\n",
        "axs[2].bar(names, values, color = \"pink\")\n",
        "\n",
        "fig.suptitle('Categorical Plotting')\n",
        "plt.show()"
      ],
      "metadata": {
        "id": "D0hYN1MIpAtH"
      },
      "execution_count": null,
      "outputs": []
    },
    {
      "cell_type": "markdown",
      "source": [
        "См.разные типы графиков [здесь](https://matplotlib.org/stable/plot_types/index.html)\n",
        "\n",
        "Также от моих коллег - подборка разных ресурсов для вдохновения:\n",
        "\n",
        "- https://www.data-to-viz.com/ (+ Python / R)\n",
        "\n",
        "- https://datavizproject.com/\n",
        "\n",
        "- https://datavizcatalogue.com/RU/"
      ],
      "metadata": {
        "id": "fG16UlEZrn3g"
      }
    },
    {
      "cell_type": "markdown",
      "source": [
        "# Seaborn"
      ],
      "metadata": {
        "id": "DZ8R-J0_q_MX"
      }
    },
    {
      "cell_type": "markdown",
      "source": [
        "Простые графики можно строить в matplotlib (а еще он отлично интергрирован с pandas), но работать категориальными данными удобнее в seaborn\n",
        "\n",
        "Seaborn — это более новая надстройка над matplotlib, которая заметно проще и \"сразу делает красиво\". Документация [здесь](https://seaborn.pydata.org)\n"
      ],
      "metadata": {
        "id": "4-7-Crl8rLMF"
      }
    },
    {
      "cell_type": "code",
      "source": [
        "!pip install seaborn"
      ],
      "metadata": {
        "id": "nWqFf0f4rDuu"
      },
      "execution_count": null,
      "outputs": []
    },
    {
      "cell_type": "code",
      "source": [
        "import seaborn as sns"
      ],
      "metadata": {
        "id": "yDkpivN1shtT"
      },
      "execution_count": null,
      "outputs": []
    },
    {
      "cell_type": "markdown",
      "source": [
        "### Важно!\n",
        "Seaborn очень любит датафреймы - просто список ``x = [f'{i} янв' for i in range(1, 32)]`` он больше не ест\n"
      ],
      "metadata": {
        "id": "9jOwNVN9Uhv7"
      }
    },
    {
      "cell_type": "code",
      "source": [
        "# сделаем мини-датафрейм\n",
        "x = [f'{i} янв' for i in range(1, 32)]\n",
        "y = covid['Москва'][660:691]\n",
        "\n",
        "df = pd.DataFrame([x, y]).T\n",
        "df.columns=['Date', 'Number of cases']\n",
        "df # print(df)"
      ],
      "metadata": {
        "id": "gjAw7CGAirTP"
      },
      "execution_count": null,
      "outputs": []
    },
    {
      "cell_type": "code",
      "source": [
        "sns.lineplot(x = 'Date', y = 'Number of cases', data=df);"
      ],
      "metadata": {
        "id": "cHpMsmaDUD9l"
      },
      "execution_count": null,
      "outputs": []
    },
    {
      "cell_type": "code",
      "source": [
        "sns.lineplot(x = 'Date', y = 'Number of cases', data=df)\n",
        "plt.xticks(rotation=90)\n",
        "plt.show() # матплотлибовские настройки тоже обычно работают"
      ],
      "metadata": {
        "id": "ur-Xu425s11q"
      },
      "execution_count": null,
      "outputs": []
    },
    {
      "cell_type": "code",
      "source": [
        "city = covid[['Москва','Санкт-Петербург']] # возьмем все данные по ковиду в М и СПб\n",
        "city"
      ],
      "metadata": {
        "id": "vMg52NOct523"
      },
      "execution_count": null,
      "outputs": []
    },
    {
      "cell_type": "code",
      "source": [
        "sns.lineplot(data = city)\n",
        "plt.show()\n",
        "# выглядит просто и красиво! Но мы теряем подписи оси x - у нашем датасете нет готовых"
      ],
      "metadata": {
        "id": "4ghg6pBftH71"
      },
      "execution_count": null,
      "outputs": []
    },
    {
      "cell_type": "markdown",
      "source": [
        "В seaborn есть несколько датасетов от создателей библиотеки. Можно скачать [отсюда](https://github.com/mwaskom/seaborn-data), если не откроются через load_dataset(), встроенный в библиотеку"
      ],
      "metadata": {
        "id": "mX_h283iv7d0"
      }
    },
    {
      "cell_type": "code",
      "source": [
        "tips = sns.load_dataset(\"tips\")"
      ],
      "metadata": {
        "id": "Mt4Dchlfu64I"
      },
      "execution_count": null,
      "outputs": []
    },
    {
      "cell_type": "code",
      "source": [
        "tips.head()\n",
        "# print(tips.head())"
      ],
      "metadata": {
        "id": "BEJz88fowMwQ"
      },
      "execution_count": null,
      "outputs": []
    },
    {
      "cell_type": "code",
      "source": [
        "# если команды выше не сработали\n",
        "# датасеты можно передать в pandas прямо с гитхаба по raw-ссылке:\n",
        "tips = pd.read_csv('https://raw.githubusercontent.com/mwaskom/seaborn-data/master/tips.csv')\n",
        "tips"
      ],
      "metadata": {
        "id": "OiYAySZUwb8r"
      },
      "execution_count": null,
      "outputs": []
    },
    {
      "cell_type": "markdown",
      "source": [
        "Давайте визуализируем распределения общего счета по дням недели. Для визуализации потребуется метод .catplot() Заголовки соответвующих ячеек присвоим аргументам x и y.\n",
        "\n",
        "Тип отображения (параметр kind) тоже можно менять (попробуйте \"point\", \"bar\", \"strip\", \"swarm\", \"box\", \"violin\" или \"boxen\")"
      ],
      "metadata": {
        "id": "Y2bX3IJTxek1"
      }
    },
    {
      "cell_type": "code",
      "source": [
        "sns.catplot(x = \"day\", y = \"total_bill\", kind= \"violin\", data = tips)\n",
        "plt.show()"
      ],
      "metadata": {
        "id": "eBpGsE0IlzlC"
      },
      "execution_count": null,
      "outputs": []
    },
    {
      "cell_type": "markdown",
      "source": [
        "Можно достаточно легко и быстро отобразить на графике несколько показателей:\n",
        "\n",
        "Ниже - распределение значений итогового счета(ось y) в зависимости от пола (ось x). Дополнительно цветом (параметр hue) можно закодировать еще одно значение с помощью цвета. Например,является ли посетитель курильщиком"
      ],
      "metadata": {
        "id": "O1GUmMbTx0Vn"
      }
    },
    {
      "cell_type": "code",
      "source": [
        "sns.catplot(x = \"sex\", y = \"total_bill\", hue = \"smoker\", kind = \"bar\", data = tips)\n",
        "plt.show()"
      ],
      "metadata": {
        "id": "fLjqdFo9xUXV"
      },
      "execution_count": null,
      "outputs": []
    },
    {
      "cell_type": "code",
      "source": [
        "# так выглядит распределение размера счета и чаевых\n",
        "sns.catplot(x = \"total_bill\", y = \"tip\", kind = \"strip\", hue='sex', data=tips)\n",
        "plt.show()\n",
        "# не самая удачная визуализация, еще и долго строится - есть решение лучше"
      ],
      "metadata": {
        "id": "Cm3zurjxygXw"
      },
      "execution_count": null,
      "outputs": []
    },
    {
      "cell_type": "code",
      "source": [
        "# jointplot - показывает распределение по 2 переменным + в hue можно добавить категориальные данные\n",
        "sns.jointplot(x ='total_bill', y = 'tip', hue = 'sex', data = tips)\n",
        "plt.show()"
      ],
      "metadata": {
        "id": "JrWcG5AV7Jkb"
      },
      "execution_count": null,
      "outputs": []
    },
    {
      "cell_type": "code",
      "source": [
        "# можно строить линейную регрессию (для определения зависимости двух показателей, рассчитывается функция линейной зависимости)\n",
        "sns.lmplot(x ='total_bill', y = 'tip', data = tips)\n",
        "plt.show()"
      ],
      "metadata": {
        "id": "CN9b1PmI7-uy"
      },
      "execution_count": null,
      "outputs": []
    },
    {
      "cell_type": "code",
      "source": [
        "# заодно проверим, меняются ли счет / чаевые в связи со временем посещения - в обед или ужин\n",
        "sns.lmplot(x ='total_bill', y = 'tip', hue = 'time', data = tips)\n",
        "plt.show()"
      ],
      "metadata": {
        "id": "xuUK9Zvr817e"
      },
      "execution_count": null,
      "outputs": []
    },
    {
      "cell_type": "markdown",
      "source": [
        "### бонус: два графика, которые я очень люблю - но только для количественных* данных"
      ],
      "metadata": {
        "id": "oSQJBxH-1jP5"
      }
    },
    {
      "cell_type": "code",
      "source": [
        "sns.heatmap(tips.corr(), cmap='RdYlGn', center=0, annot=True)\n",
        "plt.title('Correlogram', fontsize=22)\n",
        "plt.show()"
      ],
      "metadata": {
        "id": "T0sJWE0z1NLP"
      },
      "execution_count": null,
      "outputs": []
    },
    {
      "cell_type": "code",
      "source": [
        "sns.pairplot(tips)\n",
        "plt.show()"
      ],
      "metadata": {
        "id": "_xqrKedf09za"
      },
      "execution_count": null,
      "outputs": []
    },
    {
      "cell_type": "code",
      "source": [
        "sns.pairplot(tips, hue='sex')\n",
        "plt.show()"
      ],
      "metadata": {
        "id": "aC5uAqLEWVmy"
      },
      "execution_count": null,
      "outputs": []
    },
    {
      "cell_type": "markdown",
      "source": [
        "### Доп. задание 1:\n",
        "\n",
        "Ниже - загрузка датасета по уровню счастья в мире\n",
        "\n",
        "Визуализируйте:\n",
        "\n",
        "- уровень счастья в мире в виде гистограммы\n",
        "- зависимость уровня счастья от любого другого показателя в датасете (облако точек, scatter)"
      ],
      "metadata": {
        "id": "78bD9Kr_20TO"
      }
    },
    {
      "cell_type": "code",
      "source": [
        "import pandas as pd\n",
        "data = pd.read_csv('https://raw.githubusercontent.com/AnnSenina/AnnSenina/main/2022.csv', decimal=',') # внимательно посмотрите на данные, в начале семинара аргумента decimal не было\n",
        "data.head()"
      ],
      "metadata": {
        "id": "oqIGK1nW222H"
      },
      "execution_count": null,
      "outputs": []
    },
    {
      "cell_type": "code",
      "source": [],
      "metadata": {
        "id": "-114miV63eiY"
      },
      "execution_count": null,
      "outputs": []
    },
    {
      "cell_type": "code",
      "source": [],
      "metadata": {
        "id": "YJ-jk3Qb3fSK"
      },
      "execution_count": null,
      "outputs": []
    },
    {
      "cell_type": "markdown",
      "source": [
        "Решение есть [здесь](https://colab.research.google.com/drive/1umwecXbNBmfZRW60XGBBo-ltw5bK6ac_?usp=sharing) (это был мой открытый мини-семинар по Python на 60 минут)\n",
        "\n",
        "Там еще много забавного: как к названиям стран быстро добавить географические координаты или (совсем бонус) как отредактировать изображение - на память))"
      ],
      "metadata": {
        "id": "PWW892Rf3fik"
      }
    },
    {
      "cell_type": "markdown",
      "source": [
        "### Доп. задание 2:\n",
        "\n",
        "Ниже - загрузка датасета про пингвинов из seaborn (можно найти на гитхабе создателей библиотеки или нашем гитхабе курса)\n",
        "\n",
        "Постройте:\n",
        "- catplot\n",
        "- jointplot\n",
        "- lmplot"
      ],
      "metadata": {
        "id": "hwEq1qXB6UBb"
      }
    },
    {
      "cell_type": "code",
      "source": [
        "peng_data = sns.load_dataset('penguins')\n",
        "peng_data"
      ],
      "metadata": {
        "id": "WFjamp9b6CKs"
      },
      "execution_count": null,
      "outputs": []
    },
    {
      "cell_type": "code",
      "source": [],
      "metadata": {
        "id": "HkLUC6xXWl_j"
      },
      "execution_count": null,
      "outputs": []
    },
    {
      "cell_type": "code",
      "source": [],
      "metadata": {
        "id": "1sw6TapNWl6d"
      },
      "execution_count": null,
      "outputs": []
    },
    {
      "cell_type": "code",
      "source": [],
      "metadata": {
        "id": "PR9NbREsWl1S"
      },
      "execution_count": null,
      "outputs": []
    },
    {
      "cell_type": "markdown",
      "source": [
        "### Несколько примеров работы с текстами:\n",
        "1. Визуализация данных [с помощью matplotlib и NLTK](https://python-bloggers.com/2023/04/visualizing-text-data/) (вы можете улучшить! как минимум, на этапе очистки текста)\n",
        "\n",
        "2. Topic Modeling от Д. Скоринкина: [тетрадка](https://colab.research.google.com/drive/1Ufz87uIPkLh6njJRNafYcG1B50fREi4_?usp=sharing)\n",
        "3. Прекрасная библиотека scattertext: [гитхаб](https://github.com/JasonKessler/scattertext) авторов проекта"
      ],
      "metadata": {
        "id": "jhulEtBdtC3O"
      }
    },
    {
      "cell_type": "markdown",
      "source": [
        "### Дополнительно:\n",
        "\n",
        "Список телеграм-каналов по анализу данных и датавизу, которые читаю я, здесь:\n",
        "\n",
        "https://t.me/chartomojka\n",
        "\n",
        "https://t.me/nastengraph\n",
        "\n",
        "https://t.me/data_publication\n",
        "\n",
        "https://t.me/dashboardets\n",
        "\n",
        "https://t.me/callmedata\n",
        "\n",
        "https://t.me/designing_numbers\n",
        "\n",
        "https://t.me/weekly_charts\n"
      ],
      "metadata": {
        "id": "JdhQ6rxAD8BN"
      }
    }
  ]
}
