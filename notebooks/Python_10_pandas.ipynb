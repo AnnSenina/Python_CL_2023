{
  "cells": [
    {
      "cell_type": "markdown",
      "metadata": {
        "id": "view-in-github",
        "colab_type": "text"
      },
      "source": [
        "<a href=\"https://colab.research.google.com/github/AnnSenina/Python_CL_2023/blob/main/notebooks/Python_10_pandas.ipynb\" target=\"_parent\"><img src=\"https://colab.research.google.com/assets/colab-badge.svg\" alt=\"Open In Colab\"/></a>"
      ]
    },
    {
      "cell_type": "code",
      "source": [
        "# еще до pandas - важная вещь про вычисления на Python\n",
        "l1 = [1, 2, 3, 6, 10]\n",
        "l2 = [6, 2, 4, 5, 55]\n",
        "\n",
        "# что будет, если сложить l1 + l2?\n",
        "# для программистов на R: а что было бы в R?\n",
        "\n",
        "print(l1 + l2)"
      ],
      "metadata": {
        "id": "13hi_oDyZFjD"
      },
      "execution_count": null,
      "outputs": []
    },
    {
      "cell_type": "code",
      "source": [
        "!pip install numpy # скорее всего, у вас установлены numpy и pandas - но вдруг\n",
        "import numpy as np\n",
        "\n",
        "l1 = np.array(l1) # вектор, доступно больше вычислений\n",
        "l2 = np.array(l2)\n",
        "print(l1 + l2)"
      ],
      "metadata": {
        "id": "RqTm1C96ZXDc"
      },
      "execution_count": null,
      "outputs": []
    },
    {
      "cell_type": "markdown",
      "metadata": {
        "id": "LchzhkUv1OnX"
      },
      "source": [
        "#pandas\n",
        "pandas - библиотека, которая позволяет работать с табличными данными"
      ]
    },
    {
      "cell_type": "code",
      "execution_count": null,
      "metadata": {
        "id": "dy_UDg8kL5Vc"
      },
      "outputs": [],
      "source": [
        "!pip install pandas # если pandas не установлен, следует запустить эту ячейку"
      ]
    },
    {
      "cell_type": "code",
      "execution_count": 1,
      "metadata": {
        "id": "mu_R9WN2MFeQ"
      },
      "outputs": [],
      "source": [
        "import pandas as pd # теперь импортируем pandas в тетрадку / .py файл с кодом"
      ]
    },
    {
      "cell_type": "markdown",
      "metadata": {
        "id": "dDSmXeLaTh4U"
      },
      "source": [
        "документация для pandas [лежит здесь](https://pandas.pydata.org/pandas-docs/stable/getting_started/tutorials.html)\n",
        "\n",
        "Основные элементы \"табличек в pandas\" - это Series и Dataframe\n",
        "\n",
        "Series - это объект, похожий на одномерный массив (как обычный список в питоне) с элементами и  индексами вдоль каждого элемента из списка.\n",
        "\n",
        "DataFrame \"собирается\" из таких Series"
      ]
    },
    {
      "cell_type": "markdown",
      "metadata": {
        "id": "YwQGRoCkO4y1"
      },
      "source": [
        "<img alt=\"Series vs DataFrame\" height=\"300\" width=\"700\" src=\"https://storage.googleapis.com/lds-media/images/series-and-dataframe.width-1200.png\" >"
      ]
    },
    {
      "cell_type": "markdown",
      "metadata": {
        "tags": [],
        "id": "LpTdm4gfELXK"
      },
      "source": [
        "# Создание датафрейма"
      ]
    },
    {
      "cell_type": "markdown",
      "metadata": {
        "id": "-58DzZXTELXL"
      },
      "source": [
        "Создать датафрейм можно двумя способами:\n",
        "- из словаря методом pd.DataFrame.from_dict()\n",
        "- прочитав .csv файл\n",
        "\n",
        "попробуем оба способа\n",
        "\n",
        "### Первый способ"
      ]
    },
    {
      "cell_type": "code",
      "source": [
        "b = [[1, 2.1], [3, 4.444, 5]] # самый удобный вариант\n",
        "b_df = pd.DataFrame(b) # краткий способ\n",
        "b_df\n",
        "# pd.DataFrame - обращение к библиотеке, создай таблицу (датафрейм)\n",
        "# b_df, df, data - любые названия, ваша таблица с данными"
      ],
      "metadata": {
        "id": "995oUceid5eq"
      },
      "execution_count": null,
      "outputs": []
    },
    {
      "cell_type": "code",
      "source": [
        "# в PyChram - пишем print(b_df)\n",
        "# в тетрадках - лучше без - в режиме display()\n",
        "\n",
        "print(b_df)\n",
        "b_df"
      ],
      "metadata": {
        "id": "_A36LX4oE5RQ"
      },
      "execution_count": null,
      "outputs": []
    },
    {
      "cell_type": "code",
      "execution_count": null,
      "metadata": {
        "id": "6Vy_M6tPMQCE"
      },
      "outputs": [],
      "source": [
        "# можно создать датафрейм не только из списка списков, а например, напрямую из словаря\n",
        "\n",
        "data = {\n",
        "    \"Maria\":[\"London\", 37],\n",
        "    \"Lorenzo\":[\"Milan\", 28],\n",
        "    \"Oleg\":[\"Canberra\", 31],\n",
        "    \"Hans\":[\"Calgary\", 80],\n",
        "    \"Mark\":[\"Milan\", 55],\n",
        "    \"Alex\":[\"Krakow\", 35],\n",
        "    \"Julia\":[\"Murmansk\", 43]\n",
        "}\n",
        "\n",
        "# шаг 2 используем метод pd.DataFrame.from_dict()\n",
        "# аргументом подадим созданный словарь\n",
        "\n",
        "postcards = pd.DataFrame.from_dict(data).T.rename(columns={0:\"city\", 1:\"age\"})\n",
        "postcards\n",
        "# print(postcards)"
      ]
    },
    {
      "cell_type": "code",
      "source": [
        "pd.DataFrame.from_dict(data)\n",
        "# print(pd.DataFrame.from_dict(data))"
      ],
      "metadata": {
        "id": "7OLrdYYfEmtB"
      },
      "execution_count": null,
      "outputs": []
    },
    {
      "cell_type": "code",
      "source": [
        "pd.DataFrame.from_dict(data).T # T - транспонировать (как в Excel!)\n",
        "# print(pd.DataFrame.from_dict(data).T)"
      ],
      "metadata": {
        "id": "kJgQwbjWFenN"
      },
      "execution_count": null,
      "outputs": []
    },
    {
      "cell_type": "code",
      "source": [
        "# еще один вариант с помощью from_dict\n",
        "# вместо .T указываем orient=\"index\" внутри from_dict\n",
        "\n",
        "postcards = pd.DataFrame.from_dict(data, orient=\"index\").rename(columns={0:\"city\", 1:\"age\"})\n",
        "\n",
        "postcards\n",
        "# print(postcards)"
      ],
      "metadata": {
        "id": "EXRHCOzfL7xr"
      },
      "execution_count": null,
      "outputs": []
    },
    {
      "cell_type": "markdown",
      "source": [
        "Альтернативный вариант"
      ],
      "metadata": {
        "id": "5BzBaKavmk25"
      }
    },
    {
      "cell_type": "code",
      "source": [
        "data = {\n",
        "    \"Maria\":[\"London\", 37],\n",
        "    \"Lorenzo\":[\"Milan\", 28],\n",
        "    \"Oleg\":[\"Canberra\", 31],\n",
        "    \"Hans\":[\"Calgary\", 80],\n",
        "    \"Mark\":[\"Milan\", 55],\n",
        "    \"Alex\":[\"Krakow\", 35],\n",
        "    \"Julia\":[\"Murmansk\", 43]\n",
        "}\n",
        "\n",
        "list(data.values())\n",
        "# print(list(data.values()))"
      ],
      "metadata": {
        "id": "yuLPXGrKeEWj"
      },
      "execution_count": null,
      "outputs": []
    },
    {
      "cell_type": "code",
      "source": [
        "names = list(data.keys()) # ключи = индекс таблицы\n",
        "v = list(data.values()) # значения = содержимое таблицы\n",
        "\n",
        "postcards = pd.DataFrame(v, index=names, columns=['city', 'age'])\n",
        "# postcards = pd.DataFrame(v) - основа таблицы\n",
        "# аргумент index - задает индекс датафрейма (имя строки)\n",
        "# аргумент columns - задает названия столбцов"
      ],
      "metadata": {
        "id": "I3QsKTaEWEo0"
      },
      "execution_count": 99,
      "outputs": []
    },
    {
      "cell_type": "code",
      "source": [
        "postcards\n",
        "\n",
        "# print(postcards)"
      ],
      "metadata": {
        "id": "L6ZKfy5pE2Gt"
      },
      "execution_count": null,
      "outputs": []
    },
    {
      "cell_type": "markdown",
      "metadata": {
        "id": "fTRO_rdtELXN"
      },
      "source": [
        "### Второй способ"
      ]
    },
    {
      "cell_type": "code",
      "execution_count": null,
      "metadata": {
        "tags": [],
        "id": "uvwnZBw2ELXO"
      },
      "outputs": [],
      "source": [
        "# прочитаем .csv файл методом pd.read_csv()\n",
        "# Важно! Чтобы этот способ сработал, нужно указать путь до файла!\n",
        "\n",
        "recipes = pd.read_csv(\"christmas_recipes.csv\", sep=',') # есть другие аргументы: sep, decimal и др.\n",
        "recipes\n",
        "\n",
        "# print(recipes)"
      ]
    },
    {
      "cell_type": "code",
      "source": [
        "# Важно!\n",
        "# С гитхаба csv читаются почти напрямую\n",
        "# Для этого нужна raw-ссылка\n",
        "\n",
        "recipes = pd.read_csv(\"https://raw.githubusercontent.com/AnnSenina/Python_CL_2023/main/data/christmas_recipes.csv\", sep=',')\n",
        "recipes\n",
        "\n",
        "# print(recipes)"
      ],
      "metadata": {
        "id": "Gmop1z-HGcH9"
      },
      "execution_count": null,
      "outputs": []
    },
    {
      "cell_type": "markdown",
      "metadata": {
        "id": "7kh4dxn5ELXO"
      },
      "source": [
        "### Как посмотреть на часть датафрейма\n",
        "\n",
        "понадобятся методы ```.head()```, ```.tail()``` или индексация"
      ]
    },
    {
      "cell_type": "code",
      "source": [
        "recipes.head(3) # по умолчанию показывает первые 5 строк"
      ],
      "metadata": {
        "id": "4TSZ4B2XHahR"
      },
      "execution_count": null,
      "outputs": []
    },
    {
      "cell_type": "code",
      "execution_count": null,
      "metadata": {
        "tags": [],
        "id": "zxFC4nNwELXP"
      },
      "outputs": [],
      "source": [
        "recipes.tail(2) # последние строки (по умолчанию их тоже 5)"
      ]
    },
    {
      "cell_type": "code",
      "execution_count": null,
      "metadata": {
        "tags": [],
        "id": "zLqLEkEtELXQ"
      },
      "outputs": [],
      "source": [
        "recipes[15:18] # часть датафрейма по индексам строчек"
      ]
    },
    {
      "cell_type": "markdown",
      "metadata": {
        "tags": [],
        "id": "TEXAEugSELXQ"
      },
      "source": [
        "# Характеристики датафрейма"
      ]
    },
    {
      "cell_type": "code",
      "execution_count": null,
      "metadata": {
        "id": "JdqZWwligQB8"
      },
      "outputs": [],
      "source": [
        "#размеры датафрейма\n",
        "\n",
        "print(postcards.shape)\n",
        "print(recipes.shape)"
      ]
    },
    {
      "cell_type": "code",
      "execution_count": null,
      "metadata": {
        "id": "4JCmo6dkELXR"
      },
      "outputs": [],
      "source": [
        "# описание датафрейма\n",
        "\n",
        "print(postcards.info())\n",
        "print(recipes.info())"
      ]
    },
    {
      "cell_type": "code",
      "execution_count": null,
      "metadata": {
        "id": "HowifKqZELXR"
      },
      "outputs": [],
      "source": [
        "# .astype() позволяет изменить тип колонки, если нужно\n",
        "\n",
        "postcards[\"age\"] = postcards[\"age\"].astype(\"int64\")\n",
        "print(postcards.info())"
      ]
    },
    {
      "cell_type": "markdown",
      "metadata": {
        "id": "e0hLMEflELXS"
      },
      "source": [
        "### Как посмотреть, где живет конкретный человек?\n",
        "\n",
        "Чтобы найти нужную строку, нам нужны индексы.\n",
        "Посмотрим на примере датасета с людьми и городами. У нашего датафрейма есть две оси: по строкам(нулевая, она же  index) и столбцам(первая, она же columns)\n"
      ]
    },
    {
      "cell_type": "code",
      "execution_count": null,
      "metadata": {
        "tags": [],
        "id": "8phBy7ExELXS"
      },
      "outputs": [],
      "source": [
        "print(postcards.index) # смотрим на индексы = имена строк (если они есть)"
      ]
    },
    {
      "cell_type": "code",
      "execution_count": null,
      "metadata": {
        "id": "brXnQmZ9q4Bo"
      },
      "outputs": [],
      "source": [
        "print(postcards.columns) # смотрим на столбцы"
      ]
    },
    {
      "cell_type": "code",
      "execution_count": null,
      "metadata": {
        "id": "eIGCunCwro1O"
      },
      "outputs": [],
      "source": [
        "# пересечение индексов выдаст конкретную ячейку: ищем где живет Мария\n",
        "\n",
        "print(postcards.loc['Maria'][\"city\"])"
      ]
    },
    {
      "cell_type": "markdown",
      "metadata": {
        "id": "ccIqghWAELXU"
      },
      "source": [
        "**Получить строку по индексу** можно двумя способами:\n",
        "\n",
        "- именной индекс, по \"названию\" строки в колонке \"Index\", (первая колонка датафрейма, у нас это имена людей)\n",
        "- порядковый индекс, по номеру строки в датафрейме (нумерация с 0)\n",
        "\n",
        "Для именного поиска понадобится метод ```.loc[]```, для порядкового -- ```.iloc[]```"
      ]
    },
    {
      "cell_type": "code",
      "execution_count": null,
      "metadata": {
        "id": "EOs3jobBELXU"
      },
      "outputs": [],
      "source": [
        "print(postcards.iloc[3])\n",
        "\n",
        "print(postcards.loc[\"Hans\"]) # только если индексы в датасете есть!"
      ]
    },
    {
      "cell_type": "markdown",
      "metadata": {
        "id": "QbKG3Ka5ELXV"
      },
      "source": [
        "**Указав название колонки**,  можно аналогично посмотреть все значения в ней"
      ]
    },
    {
      "cell_type": "code",
      "execution_count": null,
      "metadata": {
        "id": "r8uPANSTELXV"
      },
      "outputs": [],
      "source": [
        "postcards[\"age\"] # очень похоже на получение значения по ключу словаря\n",
        "\n",
        "# print(postcards[\"age\"])"
      ]
    },
    {
      "cell_type": "code",
      "source": [
        "# посмотрите на все города\n",
        "postcards['city'] # универсальный вариант\n",
        "\n",
        "# postcards.city # краткая запись\n",
        "# Только тогда, когда наш столбец назвается одним словом без пробелов латинскими буквами"
      ],
      "metadata": {
        "id": "rhXfxoOSJDDK"
      },
      "execution_count": null,
      "outputs": []
    },
    {
      "cell_type": "markdown",
      "metadata": {
        "tags": [],
        "id": "y-gg8AMjELXV"
      },
      "source": [
        "# Операции с датафреймами"
      ]
    },
    {
      "cell_type": "markdown",
      "metadata": {
        "tags": [],
        "id": "QpdAt5-hELXV"
      },
      "source": [
        "### Добавление колонок и строк в датафрейм"
      ]
    },
    {
      "cell_type": "markdown",
      "metadata": {
        "id": "6xG3z4Vov0Lq"
      },
      "source": [
        "В датафрейм можно добавить новые колонки: понадобится метод ```.assign()```"
      ]
    },
    {
      "cell_type": "code",
      "execution_count": null,
      "metadata": {
        "id": "q68INlyOv3wA"
      },
      "outputs": [],
      "source": [
        "postcards = postcards.assign(job=['Artist', \"Teacher\", \"Chef\", \"Artist\", \"Manager\", \"Chef\", \"Engineer\"])\n",
        "postcards\n",
        "\n",
        "# print(postcards)"
      ]
    },
    {
      "cell_type": "code",
      "source": [
        "# 2 способ - похож на добавление новой пары ключ-значение в словарь\n",
        "degrees = ['BA', 'MA', 'MA', 'PhD', 'Postdoc', 'BA', 'PhD']\n",
        "postcards[\"degree\"] = degrees\n",
        "\n",
        "postcards\n",
        "\n",
        "# print(postcards)"
      ],
      "metadata": {
        "id": "cWSJ-WVnJNtj"
      },
      "execution_count": null,
      "outputs": []
    },
    {
      "cell_type": "code",
      "source": [
        "# это очень похоже на добавление нового ключа в словарь\n",
        "d = {'Ann' : 27, 'Iliana' : 27}\n",
        "d['Daniil'] = 26\n",
        "d"
      ],
      "metadata": {
        "id": "uTjNKv4klOoV"
      },
      "execution_count": null,
      "outputs": []
    },
    {
      "cell_type": "markdown",
      "metadata": {
        "id": "8wI7nnyOx8kt"
      },
      "source": [
        "Добавить строки тоже можно:\n",
        "\n",
        "ранее метод назывался ```.append()```\n",
        "\n",
        "но скоро его удалят из библиотеки, так что сразу пробуем ```.concat()```"
      ]
    },
    {
      "cell_type": "code",
      "execution_count": null,
      "metadata": {
        "id": "nWBEDV_X0rVB"
      },
      "outputs": [],
      "source": [
        "df = pd.DataFrame.from_dict({\"Alice\": [\"NY\", 36, \"Engineer\", \"MA\"]},\n",
        "                           orient = \"index\",\n",
        "                           columns = postcards.columns)\n",
        "\n",
        "df # создали датафрейм с одной строкой\n",
        "\n",
        "# print(df)"
      ]
    },
    {
      "cell_type": "code",
      "source": [
        "df = pd.DataFrame([\"NY\", 36, \"Engineer\", \"MA\"]).T\n",
        "df.index = [\"Alice\"]\n",
        "df.columns = postcards.columns\n",
        "df\n",
        "\n",
        "# print(df)"
      ],
      "metadata": {
        "id": "S9dSadDvLFAF"
      },
      "execution_count": null,
      "outputs": []
    },
    {
      "cell_type": "code",
      "execution_count": null,
      "metadata": {
        "tags": [],
        "id": "QecwxyvRELXX"
      },
      "outputs": [],
      "source": [
        "# соединяем два df\n",
        "# сначала посмотрим\n",
        "\n",
        "pd.concat([postcards, df])\n",
        "# print(pd.concat([postcards, df]))"
      ]
    },
    {
      "cell_type": "code",
      "source": [
        "# все отлично, перезапишем перемнную postcards\n",
        "\n",
        "postcards = pd.concat([postcards, df])"
      ],
      "metadata": {
        "id": "w7UL41cNNY3K"
      },
      "execution_count": null,
      "outputs": []
    },
    {
      "cell_type": "markdown",
      "source": [
        "а теперь запустите ячейку выше несколько раз..."
      ],
      "metadata": {
        "id": "A2msr5vqNoZ3"
      }
    },
    {
      "cell_type": "markdown",
      "metadata": {
        "id": "ZESKs95y71Wy"
      },
      "source": [
        "### что делать, если добавились ненужные строки?"
      ]
    },
    {
      "cell_type": "markdown",
      "metadata": {
        "id": "EAH5dF12ELXX"
      },
      "source": [
        "Если есть дубликаты уже существующих строк, понадобится метод ```.drop_duplicates()```"
      ]
    },
    {
      "cell_type": "code",
      "execution_count": null,
      "metadata": {
        "id": "WB8VMk5P6Kmy",
        "tags": []
      },
      "outputs": [],
      "source": [
        "postcards.drop_duplicates(inplace=True)\n",
        "# postcards.drop_duplicates() только покажет, что случится, если удалить дубликаты\n",
        "# inplace=True приведет удаление в действие\n",
        "postcards\n",
        "\n",
        "# print(postcards)"
      ]
    },
    {
      "cell_type": "markdown",
      "metadata": {
        "id": "HINGxpZCELXY"
      },
      "source": [
        "Если удалить нужно любую строку или столбец, понадобится метод ```.drop()```\n",
        "- axis=0 если нужно удалить строку\n",
        "- axis=1 если нужно удалить колонку"
      ]
    },
    {
      "cell_type": "code",
      "execution_count": null,
      "metadata": {
        "tags": [],
        "id": "w7hXOdTIELXY"
      },
      "outputs": [],
      "source": [
        "postcards.drop(\"Mark\", axis=0)"
      ]
    },
    {
      "cell_type": "code",
      "execution_count": null,
      "metadata": {
        "id": "KCEHqP3SELXY"
      },
      "outputs": [],
      "source": [
        "postcards.drop(\"city\", axis=1)"
      ]
    },
    {
      "cell_type": "markdown",
      "metadata": {
        "id": "d_6VoflXELXZ"
      },
      "source": [
        "Аналогично, чтобы изменения вступили в силу, реультат выражения нужно сохранить в переменную, либо добавить аргумент inplace=True"
      ]
    },
    {
      "cell_type": "code",
      "execution_count": null,
      "metadata": {
        "id": "zXrYYFBwELXZ"
      },
      "outputs": [],
      "source": [
        "postcards.drop(\"city\", axis=1, inplace=True)\n",
        "# в этой ячейке можете попробовать"
      ]
    },
    {
      "cell_type": "code",
      "source": [
        "# часто используют также:\n",
        "# postcards.dropna() - для удаления пропущенных\n",
        "# postcards.fillna(0) - для заполнения пропущенных, напр., нулями\n",
        "# postcards.isna() - для проверки, есть ли пропуски в данных\n",
        "# postcards.isna().sum() - количество пропусков по столбцам"
      ],
      "metadata": {
        "id": "y083AqAYQWH_"
      },
      "execution_count": null,
      "outputs": []
    },
    {
      "cell_type": "markdown",
      "metadata": {
        "id": "ZDTCdrD6uhXl"
      },
      "source": [
        "### Сохранение датафрейма в файл"
      ]
    },
    {
      "cell_type": "code",
      "source": [
        "# df = pd.read_csv('название файла', sep=',')\n",
        "# открытие\n",
        "\n",
        "# df.to_csv('название.csv', sep=',', encoding='utf-8')"
      ],
      "metadata": {
        "id": "6TAl5jb8n-Rl"
      },
      "execution_count": null,
      "outputs": []
    },
    {
      "cell_type": "code",
      "execution_count": null,
      "metadata": {
        "id": "u-tvDza7T8ad"
      },
      "outputs": [],
      "source": [
        "# сохраним в .csv файл\n",
        "\n",
        "postcards.to_csv('postcards.csv', encoding='utf-8')\n",
        "\n",
        "postcards.to_excel('postcards.xlsx')"
      ]
    },
    {
      "cell_type": "markdown",
      "metadata": {
        "id": "IgtDJfqPKYiu"
      },
      "source": [
        "### Фильтры и прочие манипуляции"
      ]
    },
    {
      "cell_type": "code",
      "source": [
        "# посмотрим, кто работает шеф-поваром\n",
        "\n",
        "print(postcards[\"job\"] == \"Chef\")"
      ],
      "metadata": {
        "id": "OAhooQSrO0hk"
      },
      "execution_count": null,
      "outputs": []
    },
    {
      "cell_type": "code",
      "execution_count": null,
      "metadata": {
        "id": "9dQc2idIELXa"
      },
      "outputs": [],
      "source": [
        "# квадратные скобки создают подвыборку из датасета, удовлетворяющую условиям\n",
        "\n",
        "postcards[   postcards[\"job\"] == \"Chef\"  ]"
      ]
    },
    {
      "cell_type": "code",
      "execution_count": null,
      "metadata": {
        "id": "IZas6n3v3KOH",
        "tags": []
      },
      "outputs": [],
      "source": [
        "# поищем всех людей старше 40\n",
        "\n",
        "age_40 = postcards[   postcards[\"age\"] > 40  ]\n",
        "age_40\n",
        "\n",
        "# print(age_40)"
      ]
    },
    {
      "cell_type": "code",
      "execution_count": null,
      "metadata": {
        "id": "hGKBGJL13r_K"
      },
      "outputs": [],
      "source": [
        "# условия можно компоновать логическими операторами, но каждое отдельное условие берем в скобки ()\n",
        "# синтаксис: df[ (условие1) оператор (условие2) ]\n",
        "\n",
        "# ищем, кто старше 30 и не работает шеф-поваром\n",
        "\n",
        "postcards[  (postcards[\"age\"] > 30)  &  (postcards[\"job\"] != \"Chef\")  ]\n",
        "\n",
        "# & | из темы множества\n",
        "# обычные and, or, not не работают"
      ]
    },
    {
      "cell_type": "markdown",
      "metadata": {
        "id": "3oz0IY2oELXa"
      },
      "source": [
        "Над значениями в колонках можно производить различные операции:\n",
        "* например, арифметические (если данные количественные):"
      ]
    },
    {
      "cell_type": "code",
      "source": [
        "print(postcards[\"age\"].sum()) # работает всегда\n",
        "print(postcards.age.sum()) # краткая запись, работает с простыми названиями из 1 слова латиницей без пробелов"
      ],
      "metadata": {
        "id": "xkQ_qCTfbU_q"
      },
      "execution_count": null,
      "outputs": []
    },
    {
      "cell_type": "code",
      "execution_count": null,
      "metadata": {
        "id": "pqvjgc9-4c5G"
      },
      "outputs": [],
      "source": [
        "print(postcards.age.sum())\n",
        "print(postcards.age.mean())\n",
        "print(postcards.age.min())\n",
        "print(postcards.age.max())"
      ]
    },
    {
      "cell_type": "code",
      "source": [
        "postcards.describe()\n",
        "\n",
        "# print(postcards.describe())"
      ],
      "metadata": {
        "id": "EJkl-AYsPjlO"
      },
      "execution_count": null,
      "outputs": []
    },
    {
      "cell_type": "markdown",
      "metadata": {
        "id": "589isE_EELXb"
      },
      "source": [
        "Если данные категориальные, можно искать уникальные значения, упорядочивать по алфавиту и тд"
      ]
    },
    {
      "cell_type": "code",
      "execution_count": null,
      "metadata": {
        "id": "EtS4vzvcELXb"
      },
      "outputs": [],
      "source": [
        "print(postcards.job.values) # все значения\n",
        "print(postcards.job.unique()) # все уникальные в колонке\n",
        "print(postcards.job.nunique()) # сколько уникальных в колонке"
      ]
    },
    {
      "cell_type": "code",
      "source": [
        "print(postcards.job.value_counts()) # число повторов"
      ],
      "metadata": {
        "id": "mCPs82GNP2Vh"
      },
      "execution_count": null,
      "outputs": []
    },
    {
      "cell_type": "code",
      "source": [
        "print(postcards.job.sort_values()) # сортировка"
      ],
      "metadata": {
        "id": "n0xij4ADP4O_"
      },
      "execution_count": null,
      "outputs": []
    },
    {
      "cell_type": "markdown",
      "source": [
        "### Зачем работать с pandas на курсе:\n",
        "\n",
        "* данные могут прийти к вам в табличном формате\n",
        "* свои данные часто удобно собирать в таблицы с текстовым столбцом, а не в txt\n",
        "* иногда для ваших расчетов удобно в один столбец сохранять токены / предложения / абзацы, в другой - какой-нибудь показатель или коэффициент"
      ],
      "metadata": {
        "id": "kTU1GZWCR78P"
      }
    },
    {
      "cell_type": "code",
      "source": [
        "# то, что мы видели в твитах Илона Маска\n",
        "print(postcards.job.to_list())"
      ],
      "metadata": {
        "id": "kmyssXk5R6XQ"
      },
      "execution_count": null,
      "outputs": []
    },
    {
      "cell_type": "markdown",
      "source": [
        "### Задание 1: пингвины\n",
        "\n",
        "Помните задание на пингвинчиков, где нужно было перебрать их виды по индексу, оставить уникальные, а затем посчитать частоты?\n",
        "\n",
        "Сделайте с pandas в одну строку!)"
      ],
      "metadata": {
        "id": "cHEnTv6SUBvy"
      }
    },
    {
      "cell_type": "code",
      "source": [
        "df = pd.read_csv('https://raw.githubusercontent.com/AnnSenina/Python_CL_2023/main/data/penguins.csv')\n",
        "df # print(df)"
      ],
      "metadata": {
        "id": "KlexyNKlUBAQ"
      },
      "execution_count": null,
      "outputs": []
    },
    {
      "cell_type": "code",
      "source": [
        "# ваш код здесь\n"
      ],
      "metadata": {
        "id": "kpxmg4AgUdPG"
      },
      "execution_count": null,
      "outputs": []
    },
    {
      "cell_type": "markdown",
      "source": [
        "### Задание 2: колонии\n",
        "\n",
        "Вы работаете с датасетом от Гарвардского университета, в котором хранится информация о государствах - бывших колониях. Посчитайте:\n",
        "* количество этих государств (Country Name)\n",
        "* среднюю продолжительность колониального периода (COLYEARS)\n",
        "* максимальную продолжительность зависимости (COLYEARS)\n",
        "* количество государств, в которых деколонизация была длительной ('decolonization' - 'long')\n",
        "\n",
        "Скачать данные можно здесь: https://raw.githubusercontent.com/AnnSenina/Python_CL_2023/main/data/Colonial.csv"
      ],
      "metadata": {
        "id": "EAMUkgzxOW7V"
      }
    },
    {
      "cell_type": "code",
      "source": [
        "# ваш код здесь\n",
        "df = pd.read_csv('https://raw.githubusercontent.com/AnnSenina/Python_CL_2023/main/data/Colonial.csv', sep=';')\n",
        "df # print(df)\n"
      ],
      "metadata": {
        "id": "dPEtW7NRQV-E"
      },
      "execution_count": null,
      "outputs": []
    },
    {
      "cell_type": "code",
      "source": [],
      "metadata": {
        "id": "QbxMhdIcqOTx"
      },
      "execution_count": null,
      "outputs": []
    },
    {
      "cell_type": "code",
      "source": [],
      "metadata": {
        "id": "59aS4UOkqOI_"
      },
      "execution_count": null,
      "outputs": []
    },
    {
      "cell_type": "code",
      "source": [],
      "metadata": {
        "id": "fX3gacewqOFe"
      },
      "execution_count": null,
      "outputs": []
    },
    {
      "cell_type": "markdown",
      "source": [
        "### Задание 3: тревожность и телевидение\n",
        "\n",
        "Вы изучаете взаимосвязь тревожности и просмотра телевиденья. Вам необходимо расчитать следующие характеристики:\n",
        "\n",
        "* Сколько человек приняло участие в исследовании?\n",
        "* Каков минимальный и максимальный возраст участников?\n",
        "* Сколько в выборке женщин?\n",
        "* Какое среднее значение тревожности наблюдается в данных?\n",
        "\n",
        "Скачать данные можно здесь: https://raw.githubusercontent.com/AnnSenina/Python_CL_2023/main/data/socio.csv"
      ],
      "metadata": {
        "id": "9bUqPFz9QXYz"
      }
    },
    {
      "cell_type": "code",
      "source": [
        "# ваш код здесь\n",
        "df = pd.read_csv('https://raw.githubusercontent.com/AnnSenina/Python_CL_2023/main/data/socio.csv')\n",
        "df # print(df)\n"
      ],
      "metadata": {
        "id": "z7mbp3iFVwTK"
      },
      "execution_count": null,
      "outputs": []
    },
    {
      "cell_type": "code",
      "source": [],
      "metadata": {
        "id": "qytaCfh2n5To"
      },
      "execution_count": null,
      "outputs": []
    },
    {
      "cell_type": "code",
      "source": [],
      "metadata": {
        "id": "P_W8CN3qn5OC"
      },
      "execution_count": null,
      "outputs": []
    },
    {
      "cell_type": "code",
      "source": [],
      "metadata": {
        "id": "6wuFemiIn5IM"
      },
      "execution_count": null,
      "outputs": []
    },
    {
      "cell_type": "markdown",
      "source": [
        "### Задание 4: пропавшие мигранты\n",
        "\n",
        "Набор данных собран и подготовлен в рамках проекта «Пропавшие мигранты» — инициативы, реализуемой International Organization for Migration (IOM) с 2014 года. Документируются случаи смертей и исчезновений, произошедших с мигрантами во время международных поездок\n",
        "\n",
        "* Постройте частотную таблицу (метод .value_counts()) по столбцу \"Incident year\". Что можно сказать о данных за 2023 год? Количество происшествий уменьшилось по сравнению с прошлым годом?\n",
        "* В каких регионах (Region of Incident) происходит больше всего происшествий?\n",
        "* В каком регионе (Region of Incident) больше всего происшествий с неизвестной причиной смерти (Cause of Death - Mixed or unknown)?\n",
        "\n",
        "Скачать данные можно здесь: https://raw.githubusercontent.com/AnnSenina/Python_CL_2023/main/data/Migrants.csv"
      ],
      "metadata": {
        "id": "OKN3dL3iVfJa"
      }
    },
    {
      "cell_type": "code",
      "source": [
        "# ваш код здесь\n",
        "df = pd.read_csv('https://raw.githubusercontent.com/AnnSenina/Python_CL_2023/main/data/Migrants.csv')\n",
        "df # print(df)"
      ],
      "metadata": {
        "id": "leLKBWs7VeVd"
      },
      "execution_count": null,
      "outputs": []
    },
    {
      "cell_type": "code",
      "source": [],
      "metadata": {
        "id": "BN6dftw0ZCio"
      },
      "execution_count": null,
      "outputs": []
    },
    {
      "cell_type": "code",
      "source": [],
      "metadata": {
        "id": "NZ4bAWg4ZCgX"
      },
      "execution_count": null,
      "outputs": []
    },
    {
      "cell_type": "code",
      "source": [],
      "metadata": {
        "id": "Wl_CbH0dZCdP"
      },
      "execution_count": null,
      "outputs": []
    },
    {
      "cell_type": "markdown",
      "source": [
        "### Задание 5: твиты Трампа\n",
        "\n",
        "* предобработайте твиты\n",
        "* найдите самое частотные биграммы (напр., 30)\n",
        "* постройте облако слов\n",
        "\n",
        "Данные можно скачать здесь: https://raw.githubusercontent.com/AnnSenina/Python_CL_2023/main/data/trump.csv"
      ],
      "metadata": {
        "id": "WgSjI1JoXD5Y"
      }
    },
    {
      "cell_type": "code",
      "source": [
        "df = pd.read_csv('https://raw.githubusercontent.com/AnnSenina/Python_CL_2023/main/data/trump.csv')\n",
        "df # print(df)\n"
      ],
      "metadata": {
        "id": "3RwLZUkmYa5N"
      },
      "execution_count": null,
      "outputs": []
    },
    {
      "cell_type": "code",
      "source": [],
      "metadata": {
        "id": "Bm9M2DghZBJh"
      },
      "execution_count": null,
      "outputs": []
    },
    {
      "cell_type": "code",
      "source": [],
      "metadata": {
        "id": "ILZ2f675ZBGD"
      },
      "execution_count": null,
      "outputs": []
    },
    {
      "cell_type": "code",
      "source": [],
      "metadata": {
        "id": "vWH6XGg4ZBCp"
      },
      "execution_count": null,
      "outputs": []
    }
  ],
  "metadata": {
    "colab": {
      "provenance": [],
      "include_colab_link": true
    },
    "kernelspec": {
      "display_name": "Python 3 (ipykernel)",
      "language": "python",
      "name": "python3"
    },
    "language_info": {
      "codemirror_mode": {
        "name": "ipython",
        "version": 3
      },
      "file_extension": ".py",
      "mimetype": "text/x-python",
      "name": "python",
      "nbconvert_exporter": "python",
      "pygments_lexer": "ipython3",
      "version": "3.10.0"
    }
  },
  "nbformat": 4,
  "nbformat_minor": 0
}
