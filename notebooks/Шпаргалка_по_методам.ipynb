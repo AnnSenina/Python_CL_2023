{
  "nbformat": 4,
  "nbformat_minor": 0,
  "metadata": {
    "colab": {
      "provenance": [],
      "collapsed_sections": [
        "RzLo1HJbWRn8",
        "4kkjHEddXY8M",
        "6guegya6a5Zy",
        "FmKZ2T58hIhm"
      ],
      "authorship_tag": "ABX9TyPU4nBF+R1ZUQH1kzDL3mHD",
      "include_colab_link": true
    },
    "kernelspec": {
      "name": "python3",
      "display_name": "Python 3"
    },
    "language_info": {
      "name": "python"
    }
  },
  "cells": [
    {
      "cell_type": "markdown",
      "metadata": {
        "id": "view-in-github",
        "colab_type": "text"
      },
      "source": [
        "<a href=\"https://colab.research.google.com/github/AnnSenina/Python_CL_2023/blob/main/notebooks/%D0%A8%D0%BF%D0%B0%D1%80%D0%B3%D0%B0%D0%BB%D0%BA%D0%B0_%D0%BF%D0%BE_%D0%BC%D0%B5%D1%82%D0%BE%D0%B4%D0%B0%D0%BC.ipynb\" target=\"_parent\"><img src=\"https://colab.research.google.com/assets/colab-badge.svg\" alt=\"Open In Colab\"/></a>"
      ]
    },
    {
      "cell_type": "markdown",
      "source": [
        "# Методы\n",
        "\n",
        "Метод - это такая функция, которая вызывается к переменной через точку. Метод позволяет применить какую-либо операцию к переменной\n",
        "\n",
        "###строка.сделайчто-то(аргументы)\n",
        "\n",
        "###переменная.метод(аргументы)"
      ],
      "metadata": {
        "id": "f434282YV7_t"
      }
    },
    {
      "cell_type": "markdown",
      "source": [
        "## Методы строк"
      ],
      "metadata": {
        "id": "RzLo1HJbWRn8"
      }
    },
    {
      "cell_type": "markdown",
      "source": [
        "методы поиска и подсчета подстроки в строке"
      ],
      "metadata": {
        "id": "Wy4f2_aFWXBR"
      }
    },
    {
      "cell_type": "code",
      "execution_count": null,
      "metadata": {
        "colab": {
          "base_uri": "https://localhost:8080/"
        },
        "id": "99ywr1GDV5Z5",
        "outputId": "e467c82c-1aa5-40fe-f175-98570ce863a3"
      },
      "outputs": [
        {
          "output_type": "stream",
          "name": "stdout",
          "text": [
            "27\n",
            "124\n",
            "2\n"
          ]
        }
      ],
      "source": [
        "text = 'This is an introduction to Python for the Digital Humanities. Today we have our second meeting. Topic: Simple data types in Python'\n",
        "print(text.find('Python')) # индекс первого вхождения слова Python от начала строки\n",
        "print(text.rfind('Python')) # индекс последнего вхождения слова Python, с конца строки (индекс считается от 0)\n",
        "print(text.count('Python')) # сколько раз Python встречается в строке"
      ]
    },
    {
      "cell_type": "markdown",
      "source": [
        "заменяем символы в строке"
      ],
      "metadata": {
        "id": "CVpEz7RxTa5P"
      }
    },
    {
      "cell_type": "code",
      "source": [
        "text = 'This is an introduction to Python for the Digital Humanities. Today we have our second meeting. Topic: Simple data types in Python'\n",
        "print(text.replace('Digital Humanities', 'Computational Linguistics')) # замена подстроки"
      ],
      "metadata": {
        "colab": {
          "base_uri": "https://localhost:8080/"
        },
        "id": "tDP62yWHTaNb",
        "outputId": "6fb52a5b-9914-47f1-fb12-3810866aa0b0"
      },
      "execution_count": 1,
      "outputs": [
        {
          "output_type": "stream",
          "name": "stdout",
          "text": [
            "This is an introduction to Python for the Computational Linguistics. Today we have our second meeting. Topic: Simple data types in Python\n"
          ]
        }
      ]
    },
    {
      "cell_type": "markdown",
      "source": [
        "меняем регистр\n"
      ],
      "metadata": {
        "id": "dDDiQO9JWqNq"
      }
    },
    {
      "cell_type": "code",
      "source": [
        "x = \"Mr Johnson, do you live in London?\"\n",
        "print(x.upper()) # Преобразование строки к верхнему регистру\n",
        "print(x.lower()) # Преобразование строки к нижнему регистру\n",
        "print(x.capitalize()) # Переводит первый символ строки в верхний регистр, а все остальные в нижний\n",
        "print(x.swapcase()) # Переводит символы нижнего регистра в верхний, а верхнего – в нижний\n",
        "print(x.title()) # Первую букву каждого слова переводит в верхний регистр, а все остальные в нижний"
      ],
      "metadata": {
        "colab": {
          "base_uri": "https://localhost:8080/"
        },
        "id": "iO1-irRiWqrh",
        "outputId": "37132c53-613c-4694-9abd-b597d78bf02a"
      },
      "execution_count": null,
      "outputs": [
        {
          "output_type": "stream",
          "name": "stdout",
          "text": [
            "MR JOHNSON, DO YOU LIVE IN LONDON?\n",
            "mr johnson, do you live in london?\n",
            "Mr johnson, do you live in london?\n",
            "mR jOHNSON, DO YOU LIVE IN lONDON?\n",
            "Mr Johnson, Do You Live In London?\n"
          ]
        }
      ]
    },
    {
      "cell_type": "markdown",
      "source": [
        "состоит ли строка из.. (каждый из методов возвращает True или False, в зависимости от того, выполняется ли условие)\n"
      ],
      "metadata": {
        "id": "RUHs-PAIXOyy"
      }
    },
    {
      "cell_type": "code",
      "source": [
        "x = \"Hello\"\n",
        "print(x.isdigit())\t# Состоит ли строка из цифр\n",
        "print(x.isalpha())\t# Состоит ли строка из букв\n",
        "print(x.isalnum())\t# Состоит ли строка из цифр или букв\n",
        "print(x.islower())\t# Состоит ли строка из символов в нижнем регистре\n",
        "print(x.isupper())\t# Состоит ли строка из символов в верхнем регистре\n",
        "print(x.isspace())\t# Состоит ли строка из неотображаемых символов (пробел, символ перевода страницы ('\\f'), \"новая строка\" ('\\n'), \"перевод каретки\" ('\\r'), \"горизонтальная табуляция\" ('\\t') и \"вертикальная табуляция\" ('\\v'))\n",
        "print(x.istitle())\t# Начинаются ли слова в строке с заглавной буквы"
      ],
      "metadata": {
        "colab": {
          "base_uri": "https://localhost:8080/"
        },
        "id": "hsaSm6DfXPUg",
        "outputId": "ad804719-da94-4674-92a4-bdd6bb286241"
      },
      "execution_count": null,
      "outputs": [
        {
          "output_type": "stream",
          "name": "stdout",
          "text": [
            "False\n",
            "True\n",
            "True\n",
            "False\n",
            "False\n",
            "False\n",
            "True\n"
          ]
        }
      ]
    },
    {
      "cell_type": "markdown",
      "source": [
        "проверяем, с чего начинается / чем заканчивается строка (возвращает True или False, в зависимости от того, выполняется ли условие)"
      ],
      "metadata": {
        "id": "DKs-uqNVXfML"
      }
    },
    {
      "cell_type": "code",
      "source": [
        "x = 'This is an introduction to Python for the Digital Humanities'\n",
        "print(x.startswith('This'))\n",
        "print(x.startswith('Python'))\n",
        "print(x.endswith('Humanities'))\n",
        "print(x.endswith('Python'))"
      ],
      "metadata": {
        "colab": {
          "base_uri": "https://localhost:8080/"
        },
        "id": "O5DZCtrBXqmZ",
        "outputId": "fa6005f4-098e-476d-a251-af66499bf69a"
      },
      "execution_count": null,
      "outputs": [
        {
          "output_type": "stream",
          "name": "stdout",
          "text": [
            "True\n",
            "False\n",
            "True\n",
            "False\n"
          ]
        }
      ]
    },
    {
      "cell_type": "markdown",
      "source": [
        "удаляем пробельные (или другие лишние) символы\n"
      ],
      "metadata": {
        "id": "PjUJHZY5WvGH"
      }
    },
    {
      "cell_type": "code",
      "source": [
        "x = \"    В этой строке было слишком много пробелов    \"\n",
        "print(x.lstrip())\t# Удаление пробельных символов в начале строки\n",
        "print(x.rstrip())\t# Удаление пробельных символов в конце строки\n",
        "print(x.strip())\t# Удаление пробельных символов в начале и в конце строки\n",
        "\n",
        "x = \" !   В этой строке было слишком много пробелов  !!!  \"\n",
        "print('\\n' + x.strip('! '))\t# Удаление конкретных символов в начале и в конце строки"
      ],
      "metadata": {
        "colab": {
          "base_uri": "https://localhost:8080/"
        },
        "id": "7qtcdPzhWwkJ",
        "outputId": "e9991684-8be3-48db-f573-fdea4cee0c2b"
      },
      "execution_count": null,
      "outputs": [
        {
          "output_type": "stream",
          "name": "stdout",
          "text": [
            "В этой строке было слишком много пробелов    \n",
            "    В этой строке было слишком много пробелов\n",
            "В этой строке было слишком много пробелов\n",
            "\n",
            "В этой строке было слишком много пробелов\n"
          ]
        }
      ]
    },
    {
      "cell_type": "markdown",
      "source": [
        "делим строку на список методом split()\n"
      ],
      "metadata": {
        "id": "YvK9OnCGWj0B"
      }
    },
    {
      "cell_type": "code",
      "source": [
        "x = \"Mr Johnson, you never stay in Paris, do you?\"\n",
        "print(x.split()) # если в скобках не задан разделитель, то разбивает по пробелам\n",
        "print(x.split(',')) # сделаем разделителем запятую"
      ],
      "metadata": {
        "id": "NxMUBMNeWaPu"
      },
      "execution_count": null,
      "outputs": []
    },
    {
      "cell_type": "markdown",
      "source": [
        "## Методы списков"
      ],
      "metadata": {
        "id": "4kkjHEddXY8M"
      }
    },
    {
      "cell_type": "markdown",
      "source": [
        "список можно преобразовать в строку (дейтсвие, обратное split)"
      ],
      "metadata": {
        "id": "rnPV591sZSVq"
      }
    },
    {
      "cell_type": "code",
      "source": [
        "x = \"Mr Johnson, you never stay in Paris, do you?\".split()\n",
        "print(x)\n",
        "\n",
        "s = ' '.join(x) # внутри кавычек указываем разделитель (то, чем склеиваем кусочки)\n",
        "print(s)\n",
        "s2 = ' % '.join(x)\n",
        "print(s2)"
      ],
      "metadata": {
        "colab": {
          "base_uri": "https://localhost:8080/"
        },
        "id": "3H84oIjqZYF1",
        "outputId": "0c077677-b2d7-425c-d621-a177525a1cc9"
      },
      "execution_count": null,
      "outputs": [
        {
          "output_type": "stream",
          "name": "stdout",
          "text": [
            "['Mr', 'Johnson,', 'you', 'never', 'stay', 'in', 'Paris,', 'do', 'you?']\n",
            "Mr Johnson, you never stay in Paris, do you?\n",
            "Mr % Johnson, % you % never % stay % in % Paris, % do % you?\n"
          ]
        }
      ]
    },
    {
      "cell_type": "markdown",
      "source": [
        "добавление элементов в список"
      ],
      "metadata": {
        "id": "3hMjpN2JYs6B"
      }
    },
    {
      "cell_type": "code",
      "source": [
        "books = ['Блок М. Короли-чудотворцы', 'Гинзбург К. Сыр и черви']\n",
        "books.append('Земон-Девис Н. Дамы на обочине') #добавить 1 элемент в конец списка\n",
        "print(books)\n",
        "\n",
        "books.extend([\"Веселовский. История земства за 40 лет\", \"Ле Руа Ладюри Э. Монтайю, окситанская деревня\"]) # расширить список\n",
        "# добавить в конец все элементы, написанные в скобках метода extend\n",
        "print(books)\n",
        "\n",
        "books.insert(2, 'Арьес Ф. «Человек перед лицом смерти»') # метод, позволяющий добавить объект на конкретное место (индекс)\n",
        "print(books)"
      ],
      "metadata": {
        "colab": {
          "base_uri": "https://localhost:8080/"
        },
        "id": "c9L3Xzg-YHlr",
        "outputId": "43bd7059-e08f-4422-b3df-facbe9b83cdc"
      },
      "execution_count": null,
      "outputs": [
        {
          "output_type": "stream",
          "name": "stdout",
          "text": [
            "['Блок М. Короли-чудотворцы', 'Гинзбург К. Сыр и черви', 'Земон-Девис Н. Дамы на обочине']\n",
            "['Блок М. Короли-чудотворцы', 'Гинзбург К. Сыр и черви', 'Земон-Девис Н. Дамы на обочине', 'Веселовский. История земства за 40 лет', 'Ле Руа Ладюри Э. Монтайю, окситанская деревня']\n",
            "['Блок М. Короли-чудотворцы', 'Гинзбург К. Сыр и черви', 'Арьес Ф. «Человек перед лицом смерти»', 'Земон-Девис Н. Дамы на обочине', 'Веселовский. История земства за 40 лет', 'Ле Руа Ладюри Э. Монтайю, окситанская деревня']\n"
          ]
        }
      ]
    },
    {
      "cell_type": "markdown",
      "source": [
        "поиск и подсчет количества вхождений"
      ],
      "metadata": {
        "id": "l7oDSiLYZC7e"
      }
    },
    {
      "cell_type": "code",
      "source": [
        "# аналогично методу .find для строк\n",
        "print(books.index('Арьес Ф. «Человек перед лицом смерти»')) # посмотрим, на каком месте (считая от нуля) элемент\n",
        "print(books.count(\"Веселовский. История земства за 40 лет\")) # посмотрим, сколько раз встречается нужный элемент в списке"
      ],
      "metadata": {
        "colab": {
          "base_uri": "https://localhost:8080/"
        },
        "id": "IWEkyOJZY-NZ",
        "outputId": "f4f39d4d-d709-4b95-808b-a40111c37dd3"
      },
      "execution_count": null,
      "outputs": [
        {
          "output_type": "stream",
          "name": "stdout",
          "text": [
            "2\n",
            "1\n"
          ]
        }
      ]
    },
    {
      "cell_type": "markdown",
      "source": [
        "удаление из списка"
      ],
      "metadata": {
        "id": "x7x6Kwd-ZPrf"
      }
    },
    {
      "cell_type": "code",
      "source": [
        "books.remove('Блок М. Короли-чудотворцы') # удаление элемента из списка, если знаем его значение\n",
        "print(books)\n",
        "\n",
        "del books[2] # удаляем второй (считая с нуля) элемент из списка, по индексу\n",
        "print(books)\n",
        "\n",
        "# не рассказывала, но есть еще pop\n",
        "# возвращает элемент [на указанной позиции], удаляя его из списка\n",
        "print(books.pop(-2)) # = напечатай -2 элемент И удали его из списка\n",
        "print(books)"
      ],
      "metadata": {
        "colab": {
          "base_uri": "https://localhost:8080/"
        },
        "id": "D16ZvhWbZ5Wi",
        "outputId": "f680faa6-8c85-41f5-8dc6-fdc9e056d2f7"
      },
      "execution_count": null,
      "outputs": [
        {
          "output_type": "stream",
          "name": "stdout",
          "text": [
            "['Гинзбург К. Сыр и черви', 'Арьес Ф. «Человек перед лицом смерти»', 'Земон-Девис Н. Дамы на обочине', 'Веселовский. История земства за 40 лет', 'Ле Руа Ладюри Э. Монтайю, окситанская деревня']\n",
            "['Гинзбург К. Сыр и черви', 'Арьес Ф. «Человек перед лицом смерти»', 'Веселовский. История земства за 40 лет', 'Ле Руа Ладюри Э. Монтайю, окситанская деревня']\n",
            "Веселовский. История земства за 40 лет\n",
            "['Гинзбург К. Сыр и черви', 'Арьес Ф. «Человек перед лицом смерти»', 'Ле Руа Ладюри Э. Монтайю, окситанская деревня']\n"
          ]
        }
      ]
    },
    {
      "cell_type": "markdown",
      "source": [
        "очищение списка"
      ],
      "metadata": {
        "id": "o29GYTwZayWC"
      }
    },
    {
      "cell_type": "code",
      "source": [
        "books.clear() # очистим список от всех элементов\n",
        "print(books, \"\\nдлина списка = \", len(books)) # напечатаем список и его длину"
      ],
      "metadata": {
        "colab": {
          "base_uri": "https://localhost:8080/"
        },
        "id": "D27_Ofoya1SM",
        "outputId": "3ea706c1-9ea8-4036-b467-4e96cc8e2fcc"
      },
      "execution_count": null,
      "outputs": [
        {
          "output_type": "stream",
          "name": "stdout",
          "text": [
            "[] \n",
            "длина списка =  0\n"
          ]
        }
      ]
    },
    {
      "cell_type": "markdown",
      "source": [
        "### К кортежам можно применять только те методы, которые не изменяют содержимое кортежа"
      ],
      "metadata": {
        "id": "QoF3pcYTbKkY"
      }
    },
    {
      "cell_type": "code",
      "source": [
        "t = ('Mr', 'Johnson,', 'you', 'never', 'stay', 'in', 'Paris,', 'do', 'you?')\n",
        "print(' '.join(t))\n",
        "print(t) # исходный кортеж не изменился\n",
        "\n",
        "# вхождения\n",
        "# аналогично методу .find для строк\n",
        "print(t.index('never')) # посмотрим, на каком месте (считая от нуля) элемент\n",
        "print(t.count(\"never\")) # посмотрим, сколько раз встречается нужный элемент в списке"
      ],
      "metadata": {
        "colab": {
          "base_uri": "https://localhost:8080/"
        },
        "id": "DbGTRvU3bQi5",
        "outputId": "5e505892-5806-4480-9687-d3fda88d75fb"
      },
      "execution_count": null,
      "outputs": [
        {
          "output_type": "stream",
          "name": "stdout",
          "text": [
            "Mr Johnson, you never stay in Paris, do you?\n",
            "('Mr', 'Johnson,', 'you', 'never', 'stay', 'in', 'Paris,', 'do', 'you?')\n",
            "3\n",
            "1\n"
          ]
        }
      ]
    },
    {
      "cell_type": "markdown",
      "source": [
        "## Методы множеств"
      ],
      "metadata": {
        "id": "6guegya6a5Zy"
      }
    },
    {
      "cell_type": "markdown",
      "source": [
        "добавление элемента"
      ],
      "metadata": {
        "id": "OazGd_xTcSEN"
      }
    },
    {
      "cell_type": "code",
      "source": [
        "cars = {\"BMW\", \"Toyota\", \"Bentley\", \"Jeep\"}\n",
        "\n",
        "#добавляем 1 элемент в множество\n",
        "cars.add('Hyundai') # без порядкового номера, индексы не работают\n",
        "print(cars)\n",
        "\n",
        "# добавляем множество во множество\n",
        "french_cars = {\"Peugeot\", \"Citroën\", \"Renault\"}\n",
        "cars.update(french_cars) # обновить первое множество, включив все элементы из нового множества\n",
        "print(cars)"
      ],
      "metadata": {
        "colab": {
          "base_uri": "https://localhost:8080/"
        },
        "id": "YdEgGnTyb-7l",
        "outputId": "c4c659fd-e76e-497f-db9e-1b788239b74c"
      },
      "execution_count": null,
      "outputs": [
        {
          "output_type": "stream",
          "name": "stdout",
          "text": [
            "{'Jeep', 'Toyota', 'Bentley', 'BMW', 'Hyundai'}\n",
            "{'Citroën', 'Jeep', 'Toyota', 'Renault', 'Bentley', 'BMW', 'Hyundai', 'Peugeot'}\n"
          ]
        }
      ]
    },
    {
      "cell_type": "markdown",
      "source": [
        "удаление элемента"
      ],
      "metadata": {
        "id": "ShlW2-I7c7JQ"
      }
    },
    {
      "cell_type": "code",
      "source": [
        "# удаляем элемент из множества\n",
        "cars.remove(\"Jeep\")\n",
        "print(cars)\n",
        "# если такого элемента нет, метод вызовет ошибку\n",
        "\n",
        "cars.discard(\"Lamborgini\")\n",
        "# удаляет элемент, если он находится в множестве. Если элемента нет - ничего не происходит\n",
        "# в отличие от remove, не вызывает ошибку\n",
        "print(cars)\n",
        "\n",
        "# удаляет \"первый\" элемент (на самом деле, индексы не работают, поэтому как бы удаляет произвольный элемент)\n",
        "print(cars.pop()) # вернется удаленный элемент\n",
        "print(cars) # множество изменилось, элемент удален"
      ],
      "metadata": {
        "colab": {
          "base_uri": "https://localhost:8080/"
        },
        "id": "B3FESQHTciJD",
        "outputId": "125aaa59-977e-4dc3-ce8d-c23b3a3939fe"
      },
      "execution_count": null,
      "outputs": [
        {
          "output_type": "stream",
          "name": "stdout",
          "text": [
            "{'Citroën', 'Toyota', 'Renault', 'Bentley', 'BMW', 'Hyundai', 'Peugeot'}\n",
            "{'Citroën', 'Toyota', 'Renault', 'Bentley', 'BMW', 'Hyundai', 'Peugeot'}\n",
            "Citroën\n",
            "{'Toyota', 'Renault', 'Bentley', 'BMW', 'Hyundai', 'Peugeot'}\n"
          ]
        }
      ]
    },
    {
      "cell_type": "markdown",
      "source": [
        "очищение множества"
      ],
      "metadata": {
        "id": "lQVLZCmseA59"
      }
    },
    {
      "cell_type": "code",
      "source": [
        "# очищаем множество\n",
        "cars.clear()\n",
        "print(len(cars), \"\\n\", cars)"
      ],
      "metadata": {
        "id": "Gec0DwNJdQ_B"
      },
      "execution_count": null,
      "outputs": []
    },
    {
      "cell_type": "markdown",
      "source": [
        "### Уникальные свойства множеств"
      ],
      "metadata": {
        "id": "o8mRoUS_eFau"
      }
    },
    {
      "cell_type": "markdown",
      "source": [
        "совпадение, подмножества"
      ],
      "metadata": {
        "id": "JvTjgpanfL7f"
      }
    },
    {
      "cell_type": "code",
      "source": [
        "fruits = {'apples', 'cherries', 'oranges', 'peaches', 'pears', 'persimmons'}\n",
        "fruits2 = {'apples', 'cherries', 'oranges', 'peaches', 'pears'} # по сравнению с тетрадкой с пары, внесла изменения\n",
        "\n",
        "print(fruits == fruits2) # полное совпадение\n",
        "\n",
        "print(fruits2 <= fruits)\n",
        "print(fruits2.issubset(fruits)) # аналогично <=\n",
        "\n",
        "print(fruits >= fruits2)\n",
        "print(fruits.issuperset(fruits2)) # аналогично >="
      ],
      "metadata": {
        "colab": {
          "base_uri": "https://localhost:8080/"
        },
        "id": "C91TIVHyeW9z",
        "outputId": "ff7240e6-27dc-4a6b-d7e5-c413dfc348c5"
      },
      "execution_count": null,
      "outputs": [
        {
          "output_type": "stream",
          "name": "stdout",
          "text": [
            "False\n",
            "True\n",
            "True\n",
            "True\n",
            "True\n"
          ]
        }
      ]
    },
    {
      "cell_type": "markdown",
      "source": [
        "объединение"
      ],
      "metadata": {
        "id": "M1yBtfWHfSNT"
      }
    },
    {
      "cell_type": "code",
      "source": [
        "# объединение нескольких множеств\n",
        "print(fruits | fruits2)\n",
        "print(fruits.union(fruits2)) # аналогично |"
      ],
      "metadata": {
        "colab": {
          "base_uri": "https://localhost:8080/"
        },
        "id": "OQBdbhotfTfH",
        "outputId": "8274d4ba-1c86-412a-fa33-bd3250302be2"
      },
      "execution_count": null,
      "outputs": [
        {
          "output_type": "stream",
          "name": "stdout",
          "text": [
            "{'cherries', 'peaches', 'pears', 'apples', 'oranges', 'persimmons'}\n",
            "{'cherries', 'peaches', 'pears', 'apples', 'oranges', 'persimmons'}\n"
          ]
        }
      ]
    },
    {
      "cell_type": "markdown",
      "source": [
        "перечение (=найди общее)"
      ],
      "metadata": {
        "id": "2Cfjym1Nfbn1"
      }
    },
    {
      "cell_type": "code",
      "source": [
        "#  пересечение множеств (пустое, если нет общих элементов)\n",
        "print(fruits & fruits2)\n",
        "print(fruits.intersection(fruits2)) # аналогично &"
      ],
      "metadata": {
        "colab": {
          "base_uri": "https://localhost:8080/"
        },
        "id": "CSif_NZnfk3_",
        "outputId": "8d017fd0-90d4-4a01-c745-d91451e6d00e"
      },
      "execution_count": null,
      "outputs": [
        {
          "output_type": "stream",
          "name": "stdout",
          "text": [
            "{'cherries', 'peaches', 'pears', 'apples', 'oranges'}\n",
            "{'cherries', 'peaches', 'pears', 'apples', 'oranges'}\n"
          ]
        }
      ]
    },
    {
      "cell_type": "markdown",
      "source": [
        "различия, симметрическая разница"
      ],
      "metadata": {
        "id": "ujRLR1kGgHBv"
      }
    },
    {
      "cell_type": "code",
      "source": [
        "print(fruits - fruits2) # отличия множеств\n",
        "print(fruits2 - fruits) # отличия множеств, порядок важен!\n",
        "print(fruits.difference(fruits2)) # аналогично -\n",
        "\n",
        "print(fruits ^ fruits2) # только различное, симметрическая разница\n",
        "print(fruits.symmetric_difference(fruits2)) # аналогично ^"
      ],
      "metadata": {
        "colab": {
          "base_uri": "https://localhost:8080/"
        },
        "id": "D7VUZp6nf2L6",
        "outputId": "28ad5961-729d-40e3-85d9-6f923d9df09c"
      },
      "execution_count": null,
      "outputs": [
        {
          "output_type": "stream",
          "name": "stdout",
          "text": [
            "{'persimmons'}\n",
            "set()\n",
            "{'persimmons'}\n",
            "{'persimmons'}\n",
            "{'persimmons'}\n"
          ]
        }
      ]
    },
    {
      "cell_type": "markdown",
      "source": [
        "## Методы словарей"
      ],
      "metadata": {
        "id": "FmKZ2T58hIhm"
      }
    },
    {
      "cell_type": "markdown",
      "source": [
        "создание словаря"
      ],
      "metadata": {
        "id": "FUhDtHOthaPA"
      }
    },
    {
      "cell_type": "code",
      "source": [
        "#с помощью метода .fromkeys() для создания словаря\n",
        "people = dict.fromkeys(['Jane'], [\"LA\", \"Atlanta\"])\n",
        "print(people)\n",
        "\n",
        "d = dict.fromkeys(['a', 'b'], 100) # передали для ключей список: просто получили 2 ключа, список не станет ключом\n",
        "print(d)"
      ],
      "metadata": {
        "colab": {
          "base_uri": "https://localhost:8080/"
        },
        "id": "1pMEYw4xhLgt",
        "outputId": "6195968c-e3e9-408e-804d-52e267451d57"
      },
      "execution_count": null,
      "outputs": [
        {
          "output_type": "stream",
          "name": "stdout",
          "text": [
            "{'Jane': ['LA', 'Atlanta']}\n",
            "{'a': 100, 'b': 100}\n"
          ]
        }
      ]
    },
    {
      "cell_type": "markdown",
      "source": [
        "получение ключей / значений / пар (= достаем из словаря)"
      ],
      "metadata": {
        "id": "LC-rxe2An2rH"
      }
    },
    {
      "cell_type": "code",
      "source": [
        "d = {'Jane': \"London\", 'Olga': \"Moscow\", \"Paul\": \"Paris\", \"Ivan\": \"Minsk\", \"Anne\": \"Copenhagen\"}\n",
        "\n",
        "# так можно посмотреть все значения всех ключей в словаре\n",
        "print(d.values())\n",
        "\n",
        "# так можно посмотреть все ключи в словаре\n",
        "print(d.keys())\n",
        "\n",
        "# так можно посмотреть все пары в виде списка кортежей\n",
        "print(list(d.items()))"
      ],
      "metadata": {
        "colab": {
          "base_uri": "https://localhost:8080/"
        },
        "id": "re2Qdi9BnvWT",
        "outputId": "889a4f84-b9a7-4577-84df-bf99f974a699"
      },
      "execution_count": null,
      "outputs": [
        {
          "output_type": "stream",
          "name": "stdout",
          "text": [
            "dict_values(['London', 'Moscow', 'Paris', 'Minsk', 'Copenhagen'])\n",
            "dict_keys(['Jane', 'Olga', 'Paul', 'Ivan', 'Anne'])\n",
            "[('Jane', 'London'), ('Olga', 'Moscow'), ('Paul', 'Paris'), ('Ivan', 'Minsk'), ('Anne', 'Copenhagen')]\n"
          ]
        }
      ]
    },
    {
      "cell_type": "markdown",
      "source": [
        "добавление пар в словарь"
      ],
      "metadata": {
        "id": "8KQ2U92YnlRu"
      }
    },
    {
      "cell_type": "code",
      "source": [
        "new_dict = {\"Alexander\" : \"Bonn\", \"Julia\" : \"Madrid\"}\n",
        "d.update(new_dict) # обновляет словарь, добавляя пары (ключ, значение), метод называется так же, как и у множества\n",
        "print(d)"
      ],
      "metadata": {
        "colab": {
          "base_uri": "https://localhost:8080/"
        },
        "id": "brPLxpWAh73-",
        "outputId": "cc6b1e8d-8761-45bb-aeb4-d74be55935ef"
      },
      "execution_count": null,
      "outputs": [
        {
          "output_type": "stream",
          "name": "stdout",
          "text": [
            "{'Jane': 'London', 'Olga': 'Moscow', 'Paul': 'Paris', 'Ivan': 'Minsk', 'Anne': 'Copenhagen', 'Alexander': 'Bonn', 'Julia': 'Madrid'}\n"
          ]
        }
      ]
    },
    {
      "cell_type": "markdown",
      "source": [
        "удаление"
      ],
      "metadata": {
        "id": "XVGB_uIJoGW5"
      }
    },
    {
      "cell_type": "code",
      "source": [
        "d = {'Jane': \"London\", 'Olga': \"Moscow\", \"Paul\" : \"Paris\", \"Ivan\" : \"Minsk\", \"Anne\" : \"Copenhagen\"}\n",
        "print(d.pop(\"Jane\")) # удаляет ключ и возвращает значение\n",
        "print(d)\n",
        "\n",
        "print(d.popitem()) # удаляет и возвращает пару (ключ, значение), с конца\n",
        "print(d)"
      ],
      "metadata": {
        "colab": {
          "base_uri": "https://localhost:8080/"
        },
        "id": "Vu37xRG2oYKq",
        "outputId": "f407a8a7-d07d-45da-891d-0c8f2bc1bfbe"
      },
      "execution_count": null,
      "outputs": [
        {
          "output_type": "stream",
          "name": "stdout",
          "text": [
            "London\n",
            "{'Olga': 'Moscow', 'Paul': 'Paris', 'Ivan': 'Minsk', 'Anne': 'Copenhagen'}\n",
            "('Anne', 'Copenhagen')\n",
            "{'Olga': 'Moscow', 'Paul': 'Paris', 'Ivan': 'Minsk'}\n"
          ]
        }
      ]
    },
    {
      "cell_type": "markdown",
      "source": [
        "очищаем словарь\n"
      ],
      "metadata": {
        "id": "oOt-mznSouZn"
      }
    },
    {
      "cell_type": "code",
      "source": [
        "d.clear()\n",
        "print(d)"
      ],
      "metadata": {
        "colab": {
          "base_uri": "https://localhost:8080/"
        },
        "id": "_cM48UVToq-0",
        "outputId": "7c3a5eaa-c713-4c96-8faf-a0e754fd74e1"
      },
      "execution_count": null,
      "outputs": [
        {
          "output_type": "stream",
          "name": "stdout",
          "text": [
            "{}\n"
          ]
        }
      ]
    }
  ]
}