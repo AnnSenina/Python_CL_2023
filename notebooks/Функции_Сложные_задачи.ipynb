{
  "nbformat": 4,
  "nbformat_minor": 0,
  "metadata": {
    "colab": {
      "provenance": [],
      "include_colab_link": true
    },
    "kernelspec": {
      "name": "python3",
      "display_name": "Python 3"
    },
    "language_info": {
      "name": "python"
    }
  },
  "cells": [
    {
      "cell_type": "markdown",
      "metadata": {
        "id": "view-in-github",
        "colab_type": "text"
      },
      "source": [
        "<a href=\"https://colab.research.google.com/github/AnnSenina/Python_CL_2023/blob/main/notebooks/%D0%A4%D1%83%D0%BD%D0%BA%D1%86%D0%B8%D0%B8_%D0%A1%D0%BB%D0%BE%D0%B6%D0%BD%D1%8B%D0%B5_%D0%B7%D0%B0%D0%B4%D0%B0%D1%87%D0%B8.ipynb\" target=\"_parent\"><img src=\"https://colab.research.google.com/assets/colab-badge.svg\" alt=\"Open In Colab\"/></a>"
      ]
    },
    {
      "cell_type": "markdown",
      "source": [
        "# Задание 1"
      ],
      "metadata": {
        "id": "B2omlri7Boxn"
      }
    },
    {
      "cell_type": "markdown",
      "source": [
        "sentence_generator_eng.py порождает текст на английском языке, комбинируя случайно выбранные слова разных частей речи в грамматически правильную последовательность"
      ],
      "metadata": {
        "id": "Pu4yrS6VC1-R"
      }
    },
    {
      "cell_type": "code",
      "execution_count": null,
      "metadata": {
        "id": "dRtj9tDs2Xct"
      },
      "outputs": [],
      "source": [
        "import random\n",
        "\n",
        "\n",
        "def noun():\n",
        "    ''' эта функция возвращает случайное существительное;\n",
        "    у неё нет аргументов '''\n",
        "    nouns = ['squirrel', 'chipmunk', 'elephant', 'mushroom', 'banana', 'book']\n",
        "    return random.choice(nouns)\n",
        "\n",
        "\n",
        "def adverb():\n",
        "    ''' эта функция возвращает случайное наречие; у неё нет аргументов '''\n",
        "    nouns = ['aggressively', 'loudly', 'slowly', 'proudly', 'dangerously']\n",
        "    return random.choice(nouns)\n",
        "\n",
        "\n",
        "def intensifier(adv):\n",
        "    ''' эта функция добавляет к наречию adv наречие-модификатор\n",
        "     и возвращает результат'''\n",
        "    intensifiers = ['quite', 'rather', 'very', 'enough']\n",
        "    random_intensifier = random.choice(intensifiers)\n",
        "    if random_intensifier == 'enough':\n",
        "        result = adv + ' ' + random_intensifier\n",
        "    else:\n",
        "        result = random_intensifier + ' ' + adv\n",
        "    return result\n",
        "\n",
        "\n",
        "def adjective(word):\n",
        "    ''' эта функция добавляет к слову word случайное прилагательное слева\n",
        "    и возвращает результат '''\n",
        "    adjectives = ['big', 'little', 'brown', 'red', 'yellow',\n",
        "                  'nasty', 'wonderful', 'fascinating', 'ordinary']\n",
        "    return random.choice(adjectives) + ' ' + word\n",
        "\n",
        "\n",
        "def verb_of_thought(subj):\n",
        "    ''' эта функция добавляет к существительному subj какой-то глагол мысли\n",
        "     в 3 л. ед. ч. и возвращает результат'''\n",
        "    verbs = ['thinks', 'knows', 'is convinced', 'believes']\n",
        "    return subj + ' ' + random.choice(verbs)\n",
        "\n",
        "\n",
        "def verb_transitive(subj, obj):\n",
        "    ''' эта функция берёт два слова, subj и obj, и делает их подлежащим\n",
        "     и дополнением какого-то переходного глагола в форме без -s '''\n",
        "    verbs = ['eat', 'throw', 'frighten', 'drink', 'kill', 'launch']\n",
        "    return subj + ' ' + random.choice(verbs) + ' ' + obj\n",
        "\n",
        "\n",
        "def random_sentence():\n",
        "    ''' random_sentence() -- это функция, которая возвращает готовое\n",
        "     случайно составленное предложение. У неё вообще нет аргументов,\n",
        "     поэтому после её названия пишутся пустые скобки. '''\n",
        "    sentence = verb_of_thought(adjective(noun())) + ' that '\\\n",
        "                + verb_transitive(adjective(noun() + 's'), noun() + 's') +\\\n",
        "               ' ' + intensifier(adverb()) + '.'\n",
        "    # с помощью \\ можно переносить длинные строки кода\n",
        "    return sentence\n",
        "\n",
        "\n",
        "def main():\n",
        "    '''Это главная функция, из неё вызывается всё остальное'''\n",
        "    text = random_sentence()\n",
        "    print(text)\n",
        "\n",
        "# А вот тут начинается основной код (вне функций). Из одной строчки. :)\n",
        "# о функции main есть здесь: https://pythonru.com/uroki/funkcija-main-v-python-dlja-nachinajushhih#:~:text=__main__%20указывает%20на,main__%20%2C%20а%20название%20модуля.\n",
        "if __name__ == '__main__':\n",
        "    main()"
      ]
    },
    {
      "cell_type": "markdown",
      "source": [
        "Ваша задача: составить генератор предложений на русском по аналогии - в функциональном стиле"
      ],
      "metadata": {
        "id": "K_yXaVWiBZuc"
      }
    },
    {
      "cell_type": "code",
      "source": [
        "# ваш код\n",
        "\n",
        "\n",
        "\n"
      ],
      "metadata": {
        "id": "7_SFHrv1BhTc"
      },
      "execution_count": null,
      "outputs": []
    },
    {
      "cell_type": "markdown",
      "source": [
        "# Задание 2"
      ],
      "metadata": {
        "id": "alCS_L_dBpoT"
      }
    },
    {
      "cell_type": "markdown",
      "source": [
        "Напишите программу, в которой будут использоваться 2 функции:\n",
        "\n",
        "Одна (назовем её parser) берет файл (или просто текст строкой), как-то членит его по предложениям, и затем из каждого предложения вытаскивает все слова\n",
        "* с большой буквы\n",
        "* кончающиеся на -ов/ова/ин/ина\n",
        "* если они не первое слово в предложении\n",
        "\n",
        "Функция должна вернуть список (либо кортеж) длиной с количество предложений, каждый элемент — список (либо кортеж), в котором все найденные слова для одного предложения\n"
      ],
      "metadata": {
        "id": "3OSHXkgp2cuW"
      }
    },
    {
      "cell_type": "markdown",
      "source": [
        "Другая (назовём её network_creator) берет выдачу первой функции и выдает список пар людей, которые со-упоминались в одном предложении\n",
        "\n",
        "В продвинутой версии с каждой парой хранится еще и частота со-упоминания — таким образом у нас получается взвешенный граф"
      ],
      "metadata": {
        "id": "4Dbj5NIHB4iB"
      }
    },
    {
      "cell_type": "code",
      "source": [
        "# задание на перспективу, потому что после тем файлы и регулярные выражения, выполнить задание будет чуть проще\n",
        "# ваш код\n",
        "\n",
        "\n",
        "\n",
        "\n"
      ],
      "metadata": {
        "id": "QuIWbUC9BlHE"
      },
      "execution_count": null,
      "outputs": []
    }
  ]
}