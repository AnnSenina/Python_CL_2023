{
  "nbformat": 4,
  "nbformat_minor": 0,
  "metadata": {
    "colab": {
      "provenance": [],
      "collapsed_sections": []
    },
    "kernelspec": {
      "name": "python3",
      "display_name": "Python 3"
    },
    "language_info": {
      "name": "python"
    }
  },
  "cells": [
    {
      "cell_type": "code",
      "metadata": {
        "id": "1JVuSFW2QsYB",
        "colab": {
          "base_uri": "https://localhost:8080/"
        },
        "outputId": "44a03493-6f97-448b-e11f-ce6dc85ee91b"
      },
      "source": [
        "date_1 = input ('Введите первую дату в формте дд:мм:гггг ')\n",
        "date_2 = input ('Введите вторую дату в формте дд:мм:гггг ')\n",
        "\n",
        "d1=int(date_1[0]+date_1[1])\n",
        "d2=int(date_2[0]+date_2[1])\n",
        "m1=int(date_1[3]+date_1[4])\n",
        "m2=int(date_2[3]+date_2[4])-1\n",
        "y1=int(date_1[6]+date_1[7]+date_1[8]+date_1[9])\n",
        "y2=int(date_2[6]+date_2[7]+date_2[8]+date_2[9])\n",
        "\n",
        "days = 0 #количество дней между годами\n",
        "month = 0 #количество дней до конца года\n",
        "month_end = 0 #количество дней от начала года\n",
        "\n",
        "days_31_in_month=[1, 3, 5, 7, 8, 10, 12] #список месяцев с 31 днём\n",
        "days_30_in_month=[4, 6, 9, 11] # список месяцев с 30 днями\n",
        "\n",
        "def dni_in_febrary(yearF):  #функция, считающая дни в феврале\n",
        "  if yearF % 4 != 0:\n",
        "    dni_f = 28\n",
        "  else:\n",
        "    dni_f = 29\n",
        "  return dni_f\n",
        "\n",
        "def dni_in_month(mf):       #функция, считающая дни вообще\n",
        "  if mf in days_31_in_month:\n",
        "    month_f = 31\n",
        "  elif mf in days_30_in_month:\n",
        "    month_f = 30\n",
        "  elif mf == 2:\n",
        "    month_f = dni_in_febrary(y1)  \n",
        "  return month_f\n",
        "\n",
        "if y1 != y2:\n",
        "    while m1 < 13:\n",
        "        month += dni_in_month(m1)\n",
        "        m1 += 1\n",
        "    month = month - d1 #количество дней до конца года\n",
        "    while y1 != y2 - 1:\n",
        "        if  y1 % 4 != 0:\n",
        "            days += 365\n",
        "        else:\n",
        "            days += 366\n",
        "        y1 += 1\n",
        "    while m2 > 0:\n",
        "        month_end += dni_in_month(m2)\n",
        "        m2 -= 1\n",
        "    month_end += d2\n",
        "else:\n",
        "    while m2 > 0:\n",
        "        month_end += dni_in_month(m2)\n",
        "        m2 -= 1\n",
        "    month_end += d2\n",
        "    m1 -= 1\n",
        "    while m1 > 0:\n",
        "        month += dni_in_month(m1)\n",
        "        m1 -= 1\n",
        "    month += d1\n",
        "    month = month_end - month\n",
        "    month_end = 0\n",
        "z = str(0) + str(days + month_end + month)\n",
        "if int(z[-1]) == 1 and int(z[-2] + z[-1]) != 11:\n",
        "    textd=\"день\"\n",
        "elif (int(z[-1]) == 2 or int(z[-1]) == 3 or int(z[-1]) == 4) and ((11 > int(z[-2] + z[-1])) or (15 < int(z[-2] + z[-1]))):\n",
        "    textd=\"дня\"\n",
        "else:\n",
        "    textd=\"дней\"\n",
        "print (f'Между этими датами прошло: {int(z)} {textd}')\n"
      ],
      "execution_count": null,
      "outputs": [
        {
          "output_type": "stream",
          "name": "stdout",
          "text": [
            "Введите первую дату в формте дд:мм:гггг 01.01.2001\n",
            "Введите вторую дату в формте дд:мм:гггг 01.01.2002\n",
            "Между этими датами прошло: 365 дней\n"
          ]
        }
      ]
    },
    {
      "cell_type": "code",
      "metadata": {
        "colab": {
          "base_uri": "https://localhost:8080/"
        },
        "id": "p-xej-I07kdE",
        "outputId": "df5d3f31-df3e-435e-9c3d-8f3ffa52bd9a"
      },
      "source": [
        "import datetime\n",
        "\n",
        "date_1 = input ('Введите первую дату в формте дд:мм:гггг ')\n",
        "date_2 = input ('Введите вторую дату в формте дд:мм:гггг ')\n",
        "\n",
        "date_1 = date_1.split(':')\n",
        "date_2 = date_2.split(':')\n",
        "aa = datetime.date(int(date_1[2]),int(date_1[1]),int(date_1[0]))\n",
        "bb = datetime.date(int(date_2[2]),int(date_2[1]),int(date_2[0]))\n",
        "cc = abs(bb-aa)\n",
        "dd = str(cc)\n",
        "if int(dd[-1]) == 1 and int(dd[-2] + dd[-1]) != 11:\n",
        "    textd=\"день\"\n",
        "elif (int(dd[-1]) == 2 or int(dd[-1]) == 3 or int(dd[-1]) == 4) and ((11 > int(dd[-2] + dd[-1])) or (15 < int(dd[-2] + dd[-1]))):\n",
        "    textd=\"дня\"\n",
        "else:\n",
        "    textd=\"дней\"\n",
        "print (f'Между этими датами прошло: {dd.split()[0]} {textd}')"
      ],
      "execution_count": null,
      "outputs": [
        {
          "output_type": "stream",
          "name": "stdout",
          "text": [
            "Введите первую дату в формте дд:мм:гггг 01:01:2004\n",
            "Введите вторую дату в формте дд:мм:гггг 01:01:2005\n",
            "Между этими датами прошло: 366 дней\n"
          ]
        }
      ]
    }
  ]
}