{
  "nbformat": 4,
  "nbformat_minor": 0,
  "metadata": {
    "colab": {
      "provenance": [],
      "include_colab_link": true
    },
    "kernelspec": {
      "name": "python3",
      "display_name": "Python 3"
    },
    "language_info": {
      "name": "python"
    }
  },
  "cells": [
    {
      "cell_type": "markdown",
      "metadata": {
        "id": "view-in-github",
        "colab_type": "text"
      },
      "source": [
        "<a href=\"https://colab.research.google.com/github/AnnSenina/Python_CL_2023/blob/main/notebooks/Python_7_regex_2023.ipynb\" target=\"_parent\"><img src=\"https://colab.research.google.com/assets/colab-badge.svg\" alt=\"Open In Colab\"/></a>"
      ]
    },
    {
      "cell_type": "markdown",
      "source": [
        "### Мой долг с прошлой пары:\n",
        "\n",
        "- wget [пример1](https://bobbyhadz.com/blog/python-install-wget), [пример2](https://pythonguides.com/download-zip-file-from-url-using-python/)\n",
        "- распаковать архив [пример](https://bookflow.ru/python-unzip-kak-raspakovat-zip-fajl/)"
      ],
      "metadata": {
        "id": "BZo0Nx5uyNUp"
      }
    },
    {
      "cell_type": "markdown",
      "source": [
        "# Логика регулярных выражений (и зачем они нужны)\n",
        "\n",
        "регулярное выражение — это последовательность символов, используемая для поиска и(или) замены некоторого паттерна в строке (тексте или файле)\n",
        "\n",
        "регулярные выражения хороши, когда нам нужно вытащить из текста повторяющийся паттерн: номер телефона, конкретную фразу, адреса и тд.\n",
        "\n",
        "действительно удачный [гайд](https://habr.com/ru/articles/349860/), tnx Yulia Koltsova\n",
        "\n",
        "еще один [гайд](https://habr.com/ru/articles/545150/) с хабра с комиксами\n",
        "\n",
        "[онлайн-редактор для регулярных выражений](https://regex101.com/r/F8dY80/3)"
      ],
      "metadata": {
        "id": "ChZf-6ZfIk_v"
      }
    },
    {
      "cell_type": "markdown",
      "source": [
        "<table width=\"100%\"><tbody><tr><th style=\"text-align: center;\" width=\"90\"><strong>Оператор</strong></th><th style=\"text-align: center;\" width=\"680\"><strong>Описание</strong></th></tr><tr><td width=\"90\"><tt>.</tt></td><td width=\"680\">Один любой символ, кроме новой строки <tt>\\n</tt>.</td></tr><tr><td width=\"90\"><tt>?</tt></td><td width=\"680\">0 или 1 вхождение шаблона слева</td></tr><tr><td width=\"90\"><tt>+</tt></td><td width=\"680\">1 и более вхождений шаблона слева</td></tr><tr><td width=\"90\"><tt>*</tt></td><td width=\"680\">0 и более вхождений шаблона слева</td></tr><tr><td width=\"90\"><tt>\\w</tt></td><td width=\"680\">Любая цифра или буква (<tt>\\W</tt> —&nbsp;все, кроме буквы или цифры)</td></tr><tr><td width=\"90\"><tt>\\d</tt></td><td width=\"680\">Любая цифра [0-9] (<tt>\\D</tt> —&nbsp;все, кроме цифры)</td></tr><tr><td width=\"90\"><tt>\\s</tt></td><td width=\"680\">Любой пробельный символ (<tt>\\S</tt> —&nbsp;любой непробельный символ)</td></tr><tr><td width=\"90\"><tt>\\b</tt></td><td width=\"680\">Граница слова</td></tr><tr><td width=\"90\"><tt>[..]</tt></td><td width=\"680\">Один из символов в скобках (<tt>[^..]</tt> —&nbsp;любой символ, кроме тех, что в скобках)</td></tr><tr><td width=\"90\"><tt>\\</tt></td><td width=\"680\">Экранирование специальных символов (<tt>\\.</tt> означает точку или <tt>\\+</tt> —&nbsp;знак «плюс»)</td></tr><tr><td width=\"90\"><tt>^</tt> и <tt>$</tt></td><td width=\"680\">Начало и конец строки соответственно</td></tr><tr><td width=\"90\"><tt>{n,m}</tt></td><td width=\"680\">От <tt>n</tt> до <tt>m</tt> вхождений (<tt>{,m}</tt> —&nbsp;от 0 до <tt>m</tt>)</td></tr><tr><td width=\"90\"><tt>a|b</tt></td><td width=\"680\">Соответствует <tt>a</tt> или <tt>b</tt></td></tr><tr><td width=\"90\"><tt>()</tt></td><td width=\"680\">Группирует выражение и возвращает найденный текст</td></tr><tr><td width=\"90\"><tt>\\t</tt>, <tt>\\n</tt>, <tt>\\r</tt></td><td width=\"680\">Символ табуляции, новой строки и возврата каретки соответственно</td></tr></tbody></table>\n",
        "\n",
        "\n",
        "[здесь](https://www.rexegg.com/regex-quickstart.html) развернутая таблица синтаксиса"
      ],
      "metadata": {
        "id": "XpHRKDczJAE0"
      }
    },
    {
      "cell_type": "markdown",
      "source": [
        "#Регулярные выражения в питоне"
      ],
      "metadata": {
        "id": "dMd547IoJF1e"
      }
    },
    {
      "cell_type": "markdown",
      "source": [
        "чтобы начать работать с регулярными выражениями в питоне, нам нужно импортировать модуль ``re`` или установить библиотеку regex: pip install regex\n",
        "\n",
        "* здесь [ссылка](https://docs.python.org/3/library/re.html) на его документацию и [ссылка на тьюториал](https://docs.python.org/3/howto/regex.html#regex-howto)\n",
        "\n",
        "а так выглядят основные функции модуля re\n",
        "\n",
        "<div class=\"table\"><table>\n",
        "<thead>\n",
        "<tr>\n",
        "<th>Функция</th>\n",
        "<th>Что делает</th>\n",
        "</tr>\n",
        "</thead>\n",
        "<tbody>\n",
        "<tr>\n",
        "<td><code>re.match(pattern, string)</code></td>\n",
        "<td>Найти по заданному шаблону <code>pattern</code> первое совпадение в начале строки<code>string</code></td>\n",
        "</tr>\n",
        "<tr>\n",
        "<td><code>re.search(pattern, string)</code></td>\n",
        "<td>Найти в строке <code>string</code> первую строчку, подходящую под шаблон <code>pattern</code> <br>ищет по всей строке, но возвращает только первое найденное совпадение</br></td>\n",
        "</tr>\n",
        "<tr>\n",
        "<td><code>re.fullmatch(pattern, string)</code></td>\n",
        "<td>Проверить, подходит ли строка <code>string</code> под шаблон <code>pattern</code></td>\n",
        "</tr>\n",
        "<tr>\n",
        "<td><code>re.split(pattern, string, maxsplit=0)</code></td>\n",
        "<td>Аналог <code>str.split()</code>, только разделение происходит по подстрокам, подходящим под шаблон <code>pattern</code></td>\n",
        "</tr>\n",
        "<tr>\n",
        "<td><code>re.findall(pattern, string)</code></td>\n",
        "<td>Найти в строке <code>string</code> все непересекающиеся шаблоны <code>pattern</code></td>\n",
        "</tr>\n",
        "<tr>\n",
        "<td><code>re.sub(pattern, replace, string)</code></td>\n",
        "<td>Заменить в строке <code>string</code> все непересекающиеся шаблоны <code>pattern</code> на <code>replace</code></td>\n",
        "</tr>\n",
        "</tbody>\n",
        "</table></div>\n",
        "\n",
        "\n",
        "Давайте попробуем!"
      ],
      "metadata": {
        "id": "YHfoChoPJMKz"
      }
    },
    {
      "cell_type": "code",
      "source": [
        "!pip install regex\n",
        "#pip3 install regex"
      ],
      "metadata": {
        "id": "KBxC9gdVJ6g4"
      },
      "execution_count": null,
      "outputs": []
    },
    {
      "cell_type": "code",
      "source": [
        "import re\n",
        "# для PyCharm - оставьте эту строку в исполняемом файле"
      ],
      "metadata": {
        "id": "-tCatrzoKY73"
      },
      "execution_count": null,
      "outputs": []
    },
    {
      "cell_type": "code",
      "source": [
        "text =  \"Hello my dear friend Amy.\\nHello again!\"\n",
        "\n",
        "print(text)"
      ],
      "metadata": {
        "id": "yl5NI3NdKXj7"
      },
      "execution_count": null,
      "outputs": []
    },
    {
      "cell_type": "markdown",
      "source": [
        "##.match(pattern, string)\n",
        "\n",
        "метод ищет подстроку по заданному шаблону в начале строки"
      ],
      "metadata": {
        "id": "re5jEdbNKqc0"
      }
    },
    {
      "cell_type": "code",
      "source": [
        "result = re.match(r'Hello', text)\n",
        "# «r» перед строкой шаблона показывает, что это «сырая» строка в Python\n",
        "# не рассматривай \\ как экранирующий символ\n",
        "\n",
        "print(result)"
      ],
      "metadata": {
        "id": "WURVdNNyKYki"
      },
      "execution_count": null,
      "outputs": []
    },
    {
      "cell_type": "markdown",
      "source": [
        "Строка найдена, но не показывается. По умолчанию, print покажет сам объект (найденный паттерн) и его мета-данные.\n",
        "\n",
        "Чтобы вывести содержимое, используем метод .group() Он показывает вхождения искомого паттерна"
      ],
      "metadata": {
        "id": "imI1AI6-L5SR"
      }
    },
    {
      "cell_type": "code",
      "source": [
        "print(result.group())"
      ],
      "metadata": {
        "id": "kv0Ha7KHLqh3"
      },
      "execution_count": null,
      "outputs": []
    },
    {
      "cell_type": "code",
      "source": [
        "# попробуйте найти hello вместо Hello\n",
        "result = re.match(r'hello', text)\n",
        "print(result) # такая подстрока не начинает наш текст\n",
        "print(result.group())"
      ],
      "metadata": {
        "id": "3PHWflz1q7_1"
      },
      "execution_count": null,
      "outputs": []
    },
    {
      "cell_type": "markdown",
      "source": [
        "##.fullmatch(pattern, string)\n",
        "проверяет, является ли паттерн полным совпадением со строкой"
      ],
      "metadata": {
        "id": "Y8wO9kjbMIMB"
      }
    },
    {
      "cell_type": "code",
      "source": [
        "result = re.fullmatch(r'Hello my dear friend Amy', 'Hello my dear friend Amy')\n",
        "\n",
        "print(result)\n",
        "\n",
        "print(result.group())"
      ],
      "metadata": {
        "id": "Tv_Y97q5MHrt"
      },
      "execution_count": null,
      "outputs": []
    },
    {
      "cell_type": "code",
      "source": [
        "res2 = re.fullmatch(r'Hello my dear friend Amy.\\nHello again!', text) # сравниваем текст и переменную text\n",
        "\n",
        "print(res2)\n",
        "\n",
        "print(res2.group())"
      ],
      "metadata": {
        "id": "gZ0SsV_BMR_2"
      },
      "execution_count": null,
      "outputs": []
    },
    {
      "cell_type": "code",
      "source": [
        "res3 = re.fullmatch(r'Hello my dear friend Amy.', text) # сравниваем текст и переменную text\n",
        "\n",
        "print(res3) # они не (полностью) совпадают\n",
        "\n",
        "print(res3.group())"
      ],
      "metadata": {
        "id": "KEBNjRFtMkWx"
      },
      "execution_count": null,
      "outputs": []
    },
    {
      "cell_type": "markdown",
      "source": [
        "##.search(pattern, string)\n",
        "ищет паттерн по всей длине строки\n",
        "\n",
        "Внимание! search ищет не только в начале строки, в отличие от match\n",
        "\n",
        "! ! ! Вернется первое совпадение\n",
        "\n",
        "Примеры: [разница search и match](https://docs.python.org/3/library/re.html#search-vs-match)"
      ],
      "metadata": {
        "id": "RDPd2ww2NJnP"
      }
    },
    {
      "cell_type": "code",
      "source": [
        "result = re.search(r'Hello', text)\n",
        "# print(result)\n",
        "\n",
        "print(result)\n",
        "\n",
        "print(result.group())"
      ],
      "metadata": {
        "id": "DaOLEobrMMMo"
      },
      "execution_count": null,
      "outputs": []
    },
    {
      "cell_type": "code",
      "source": [
        "# попробуйте найти второе вхождение слова Hello\n",
        "text = 'Hello my dear friend Amy.\\nHello again!'\n",
        "\n"
      ],
      "metadata": {
        "id": "tlymS4wdN5-u"
      },
      "execution_count": null,
      "outputs": []
    },
    {
      "cell_type": "markdown",
      "source": [
        "## .split(pattern, string, maxsplit=0)\n",
        "\n",
        "Похож на знакомый нам ```.split()```. Метод разделяет строку по заданному шаблону"
      ],
      "metadata": {
        "id": "5OlSaiJQOFnr"
      }
    },
    {
      "cell_type": "code",
      "source": [
        "result = re.split(r'\\s',text) # любой пробельный символ\n",
        "\n",
        "print(result)\n",
        "# обратите внимание: здесь результат можно сразу напечатать без метода .group()"
      ],
      "metadata": {
        "id": "gOuC4kfSMMHb"
      },
      "execution_count": null,
      "outputs": []
    },
    {
      "cell_type": "code",
      "source": [
        "res2 = re.split(\"\\.\\s\", text) # \\s - любой пробельный символ, включая перенос строки, табуляцию и т.д.\n",
        "\n",
        "print(res2)"
      ],
      "metadata": {
        "id": "Rc3bXj6kMMEv"
      },
      "execution_count": null,
      "outputs": []
    },
    {
      "cell_type": "code",
      "source": [
        "res3 = re.split(\"[\\.!]\\s\", text + '\\nHow are you?')\n",
        "\n",
        "print(text + '\\nHow are you?')\n",
        "\n",
        "print(res3)"
      ],
      "metadata": {
        "id": "bIdItZTUOjFT"
      },
      "execution_count": null,
      "outputs": []
    },
    {
      "cell_type": "code",
      "source": [
        "# попробуйте разделить, убрав знаки препинания\n",
        "\n"
      ],
      "metadata": {
        "id": "HO9_k_l41_Xv"
      },
      "execution_count": null,
      "outputs": []
    },
    {
      "cell_type": "markdown",
      "source": [
        "maxsplit - опциональный аргумент.\n",
        "Если его указать, то разделение будет произведено не более указанного количества раз"
      ],
      "metadata": {
        "id": "ziWG33jTS2kW"
      }
    },
    {
      "cell_type": "code",
      "source": [
        "result = re.split(r' ', text, maxsplit=4)\n",
        "\n",
        "print(result)"
      ],
      "metadata": {
        "id": "ArxookZKOjC6"
      },
      "execution_count": null,
      "outputs": []
    },
    {
      "cell_type": "markdown",
      "source": [
        "##.findall(pattern, string)"
      ],
      "metadata": {
        "id": "S7gK1rYXTFZC"
      }
    },
    {
      "cell_type": "code",
      "source": [
        "text = \"Hello my dear friend Amy.\\nHello again!\"\n",
        "result = re.findall(r'my', text)\n",
        "print(result)\n",
        "\n",
        "# вопрос: чем отличается от match и search?"
      ],
      "metadata": {
        "id": "i23EEEsUTFCv"
      },
      "execution_count": null,
      "outputs": []
    },
    {
      "cell_type": "code",
      "source": [
        "# попробуйте вернуть my, Amy\n"
      ],
      "metadata": {
        "id": "K0DzmtNiOjAT"
      },
      "execution_count": null,
      "outputs": []
    },
    {
      "cell_type": "markdown",
      "source": [
        "##Бонус для .findall\n",
        "разные примеры"
      ],
      "metadata": {
        "id": "YOIdgnuaVlAd"
      }
    },
    {
      "cell_type": "code",
      "source": [
        "import re"
      ],
      "metadata": {
        "id": "YAOfr-oJR6aG"
      },
      "execution_count": null,
      "outputs": []
    },
    {
      "cell_type": "code",
      "source": [
        "twister = \"Two toads, terribly tired, trotted along the road.\\nSaid toad number 1 12 to the toad number Two:\\n'I'm tired, and I'm carrying the load.\"\n",
        "print(re.findall(r'.+', twister))\n",
        "print(re.findall(r'\\d+', twister))\n",
        "print(re.findall(r'[0-9]+', twister))\n",
        "print(re.findall(r'[0-9]', twister))\n",
        "print(re.findall(r'\\D+', twister))\n",
        "print(re.findall(r'\\w+', twister))\n",
        "print(re.findall(r'\\W+', twister))\n",
        "print(re.findall(r'\\w', twister))\n",
        "print(re.findall(r'\\s+', twister))\n",
        "print(re.findall(r'\\S+', twister))"
      ],
      "metadata": {
        "id": "OhbY4_O3uB6Y"
      },
      "execution_count": null,
      "outputs": []
    },
    {
      "cell_type": "code",
      "source": [
        "twister = \"Two toads, terribly tired, trotted along the road.\\nSaid toad number 1 12 to the toad number Two:\\n'I'm tired, and I'm carrying the load.\"\n",
        "print(re.findall(r'[trl]oad', twister))\n",
        "print(re.findall(r'[trl]oad\\b', twister)) # не включать toads\n",
        "print(re.findall(r'[trl]oads*\\b', twister)) # включить toads\n",
        "print(re.findall(r'[A-Za-z]+', twister))"
      ],
      "metadata": {
        "id": "qWp9oqixuMF7"
      },
      "execution_count": null,
      "outputs": []
    },
    {
      "cell_type": "code",
      "source": [
        "s = 'Кошка и ёжик играют с мячом, but dog does not play with ball'\n",
        "print(re.findall(r'[A-Za-z]+', s))\n",
        "print(re.findall(r'[а-яА-ЯЁё]+', s))\n",
        "print(re.findall(r'[а-яА-ЯЁёA-Za-z]+', s))"
      ],
      "metadata": {
        "id": "G_1SV3bQxhR-"
      },
      "execution_count": null,
      "outputs": []
    },
    {
      "cell_type": "code",
      "source": [
        "# извлечь дату: день месяц год\n",
        "text = \"12 ноября 2011 года произошло удивительное событие. А 13 ноября 2012 - еще удивительнее. Даже не будем \\nговорить, что произошло 2 декабря 2011 года и 25 декабря 2012 года.\"\n",
        "print(re.findall(r'\\d+', text))\n",
        "print(re.findall(r'\\d{1,2}\\s\\w+\\s\\d{4}', text))"
      ],
      "metadata": {
        "id": "eT419DU_zCr6"
      },
      "execution_count": null,
      "outputs": []
    },
    {
      "cell_type": "code",
      "source": [
        "# найти приглагательное с основой 'удивительн'\n",
        "text = \"12 ноября 2011 года произошло удивительное событие, удивительного. А 13 ноября 2012 - еще удивительнее. Даже не будем \\nговорить, что произошло 2 декабря 2011 года и 25 декабря 2012 года.\"\n",
        "print(re.findall(r'удивительн..', text))\n",
        "print(re.findall(r'удивительн.{2,3}', text))\n",
        "print(re.findall(r'удивительн\\w+', text))"
      ],
      "metadata": {
        "id": "dX4HtuHu00WR"
      },
      "execution_count": null,
      "outputs": []
    },
    {
      "cell_type": "code",
      "source": [
        "# найти все годы\n",
        "text2 = \"По имеющимся данным, в Екатеринбургской губернии на май 1916 года было занято 50611 военнопленных,\\nиз них 34194 на фабричных и заводских работах, 5731 на «казённых», 5060 на сельскохозяйственных,\\n4145 на железнодорожных, 913 на городских и земских, 568 на прочих.\"\n",
        "print(re.findall(r'\\d{4}', text2)) # не только годы!\n",
        "print(re.findall(r'19\\d{2}', text2))\n",
        "print(re.findall(r'\\d{4} г', text2))\n",
        "print(re.findall(r'\\d{1,4}\\sг', text2))\n",
        "print(re.findall(r'(\\d{1,4})\\sг', text2)) # () - позволяют включить в список только нужную часть найденного выражения"
      ],
      "metadata": {
        "id": "ylB4YFqI3Df0"
      },
      "execution_count": null,
      "outputs": []
    },
    {
      "cell_type": "code",
      "source": [
        "# найти все пары имен\n",
        "names = \"1NoahEmma2LiamOlivia3MasonSophia4JacobIsabella5WilliamAva6EthanMia7MichaelEmily\"\n",
        "print(re.findall(r'\\d[A-Z][a-z]+[A-Z][a-z]+', names))\n",
        "print(re.findall(r'\\d([A-Z][a-z]+)([A-Z][a-z]+)', names))"
      ],
      "metadata": {
        "id": "WbwVvExq4kJO"
      },
      "execution_count": null,
      "outputs": []
    },
    {
      "cell_type": "code",
      "source": [
        "# найти #я не могу...\n",
        "tweets = \"#я не могу молчать #я не могу кричать #я не могу #я справлюсь я не могу молчать #я не могу петь #я все могу #с кем ни бывает\"\n",
        "print(re.findall(r'#я не могу \\w*', tweets))"
      ],
      "metadata": {
        "id": "J5v6fR5C6MBL"
      },
      "execution_count": null,
      "outputs": []
    },
    {
      "cell_type": "code",
      "source": [
        "# найти даты, написанные в формате дд.мм.гггг через точку\n",
        "data = '20.05.1963, 55, 12.12.2000, 17, 15/15/1111'\n",
        "print(re.findall(r'\\d+.\\d+.\\d+', data)) # . - любой символ\n",
        "print(re.findall(r'\\d+\\.\\d+\\.\\d+', data)) # \\. экранирование (обычная точка, а не любой символ)"
      ],
      "metadata": {
        "id": "Jy3jiSMm6uzW"
      },
      "execution_count": null,
      "outputs": []
    },
    {
      "cell_type": "markdown",
      "source": [
        "##.sub(pattern, repl, string)\n",
        "метод ищет шаблон в строке и заменяет его на указанную подстроку.\n",
        "\n",
        "Если шаблон не найден, строка остается неизменной."
      ],
      "metadata": {
        "id": "LtBOMiFRWDuE"
      }
    },
    {
      "cell_type": "code",
      "source": [
        "import re"
      ],
      "metadata": {
        "id": "diU4YkzgLxXE"
      },
      "execution_count": null,
      "outputs": []
    },
    {
      "cell_type": "code",
      "source": [
        "text = 'Hello my dear friend Amy. Amy smiled.'\n",
        "\n",
        "result = re.sub(r'Amy', 'Jack', text ) # что ищем, на что заменяем, где заменить (текст)\n",
        "\n",
        "print(result)"
      ],
      "metadata": {
        "id": "Bd6-ONbJWDX_"
      },
      "execution_count": null,
      "outputs": []
    },
    {
      "cell_type": "code",
      "source": [
        "res2 = re.sub(r\"Amy\", \"Alice\", text)\n",
        "\n",
        "print(res2)"
      ],
      "metadata": {
        "id": "xwhb4T77WMbZ"
      },
      "execution_count": null,
      "outputs": []
    },
    {
      "cell_type": "code",
      "source": [
        "res3 = re.sub(r\"Alice\", \"Jack\", text)\n",
        "\n",
        "print(res3)"
      ],
      "metadata": {
        "id": "A35GzXPIL6o8"
      },
      "execution_count": null,
      "outputs": []
    },
    {
      "cell_type": "code",
      "source": [
        "text = 'Hello my dear friend Jack. Jackson smiled.'\n",
        "\n",
        "# пожалуйста, сделайте так, чтобы Jackson не заменился на Bobson!)\n",
        "\n"
      ],
      "metadata": {
        "id": "tgLhvjhPMPiz"
      },
      "execution_count": null,
      "outputs": []
    },
    {
      "cell_type": "code",
      "source": [
        "# пример со встречи по компьютерной лингвистике\n",
        "\n",
        "text = 'Hello my dear friend Amy. Amy smiled.'\n",
        "res = re.sub(r'\\W', ' ', text).lower().split()\n",
        "print(res)"
      ],
      "metadata": {
        "id": "hJn1JOrQ8csT"
      },
      "execution_count": null,
      "outputs": []
    },
    {
      "cell_type": "markdown",
      "source": [
        "# Задания"
      ],
      "metadata": {
        "id": "gAyvm-G6WSfU"
      }
    },
    {
      "cell_type": "markdown",
      "source": [
        "* (re.findall) Напишите регулярное выражение, которое вытаскивало бы все адреса из документа addresses.txt"
      ],
      "metadata": {
        "id": "gMi8OoV1WW8j"
      }
    },
    {
      "cell_type": "code",
      "source": [],
      "metadata": {
        "id": "BhBj2v9o5JgI"
      },
      "execution_count": null,
      "outputs": []
    },
    {
      "cell_type": "markdown",
      "source": [
        "* (re.sub) Из текта в файле \"морж-корж.txt\" возьмите текст и замените все вхождения слова \"морж\" на слово \"корж\""
      ],
      "metadata": {
        "id": "smHb-BsX5J0_"
      }
    },
    {
      "cell_type": "code",
      "source": [],
      "metadata": {
        "id": "6uFSYXVn5R9d"
      },
      "execution_count": null,
      "outputs": []
    },
    {
      "cell_type": "markdown",
      "source": [
        "* (re.findall) Напишите регулярное выражение, которое вытаскивало бы всех авторов из списка литературы в файле reference.txt"
      ],
      "metadata": {
        "id": "B7jv7xmq5XIJ"
      }
    },
    {
      "cell_type": "code",
      "source": [],
      "metadata": {
        "id": "KdokYgdO5XcV"
      },
      "execution_count": null,
      "outputs": []
    }
  ]
}