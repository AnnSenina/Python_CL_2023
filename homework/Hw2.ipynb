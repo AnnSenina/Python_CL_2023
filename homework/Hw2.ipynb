{
  "nbformat": 4,
  "nbformat_minor": 0,
  "metadata": {
    "colab": {
      "provenance": [],
      "authorship_tag": "ABX9TyN/Bp9yGcxXmKQFpYSQpRtb",
      "include_colab_link": true
    },
    "kernelspec": {
      "name": "python3",
      "display_name": "Python 3"
    },
    "language_info": {
      "name": "python"
    }
  },
  "cells": [
    {
      "cell_type": "markdown",
      "metadata": {
        "id": "view-in-github",
        "colab_type": "text"
      },
      "source": [
        "<a href=\"https://colab.research.google.com/github/AnnSenina/Python_CL_2023/blob/main/homework/Hw2.ipynb\" target=\"_parent\"><img src=\"https://colab.research.google.com/assets/colab-badge.svg\" alt=\"Open In Colab\"/></a>"
      ]
    },
    {
      "cell_type": "markdown",
      "source": [
        "# Домашнее задание 2\n",
        "\n",
        "## pandas + парсинг\n",
        "\n",
        "Здесь находится главная страница [Системного блока](https://sysblok.ru)\n",
        "\n",
        "Соберите корпус новостей (можно спарсить все новости или небольшую часть)\n",
        "\n",
        "Дедлайн: 31 декабря включительно"
      ],
      "metadata": {
        "id": "gWKJuEre_u-N"
      }
    },
    {
      "cell_type": "code",
      "execution_count": null,
      "metadata": {
        "id": "pSRHGrfg_dpE"
      },
      "outputs": [],
      "source": [
        "# необходимые импорты\n",
        "import requests\n",
        "from bs4 import BeautifulSoup\n",
        "import pandas as pd"
      ]
    },
    {
      "cell_type": "markdown",
      "source": [
        "### шаг 1"
      ],
      "metadata": {
        "id": "F-WJ-h_PA9Bf"
      }
    },
    {
      "cell_type": "code",
      "source": [
        "# соберите все ссылки на страницы с новостями (цикл for + range)\n",
        "# 1 страница: https://sysblok.ru\n",
        "# 2 страница: https://sysblok.ru/page/2\n",
        "# последняя: https://sysblok.ru/page/16\n",
        "\n",
        "all_page = ['https://sysblok.ru', ]\n",
        "\n",
        "# ваш код\n",
        "\n"
      ],
      "metadata": {
        "id": "1EZIxFPfAeV3"
      },
      "execution_count": null,
      "outputs": []
    },
    {
      "cell_type": "markdown",
      "source": [
        "### шаг 2"
      ],
      "metadata": {
        "id": "XeIBEKGyA-pn"
      }
    },
    {
      "cell_type": "code",
      "source": [
        "# с каждой страницы соберите ссылки на отдельные новости\n",
        "# подсказка: родительский тег h2 (проверяйте по нему), нужный нам - a\n",
        "\n",
        "all_links = []\n",
        "\n",
        "# ваш код\n",
        "\n"
      ],
      "metadata": {
        "id": "x9ti7TfWA7VN"
      },
      "execution_count": null,
      "outputs": []
    },
    {
      "cell_type": "markdown",
      "source": [
        "### шаг 3\n",
        "\n",
        "работаем с 1 новостью:\n",
        "\n",
        "нас интересует название, автор, дата публикации, текст (дополнительно можно спарсить тематические категории)"
      ],
      "metadata": {
        "id": "tMfZa9Y-Bbtn"
      }
    },
    {
      "cell_type": "code",
      "source": [
        "# для парсинга даты: извлеките текст из тега time\n"
      ],
      "metadata": {
        "id": "8bFB7G4uB6b3"
      },
      "execution_count": null,
      "outputs": []
    },
    {
      "cell_type": "code",
      "source": [
        "# для парсинга заголовка: извлеките текст из тега h1\n"
      ],
      "metadata": {
        "id": "sWIRCUdMCAOx"
      },
      "execution_count": null,
      "outputs": []
    },
    {
      "cell_type": "code",
      "source": [
        "# для парсинга текста: соберите все тексты из тега p и соедините в строку\n"
      ],
      "metadata": {
        "id": "ZbJx5m49CCrd"
      },
      "execution_count": null,
      "outputs": []
    },
    {
      "cell_type": "code",
      "source": [
        "# автора собрать сложнее:\n",
        "# достаем из тега meta как на паре или из тега a с проверкой на содержимое атрибута rel\n"
      ],
      "metadata": {
        "id": "ZId6Z8_hCUXm"
      },
      "execution_count": null,
      "outputs": []
    },
    {
      "cell_type": "code",
      "source": [
        "# тематические категории:\n",
        "# <a rel=\"category tag\"> нужные нам категории </a>\n",
        "# можно попробовать так:\n",
        "# if i.get('rel') == ['category', 'tag']\n"
      ],
      "metadata": {
        "id": "l5mSYWsPCoBJ"
      },
      "execution_count": null,
      "outputs": []
    },
    {
      "cell_type": "markdown",
      "source": [
        "### шаг 4"
      ],
      "metadata": {
        "id": "_Si6KFXkDV9d"
      }
    },
    {
      "cell_type": "code",
      "source": [
        "# пишем функцию по сбору информации\n"
      ],
      "metadata": {
        "id": "E8iEHxY7DYq2"
      },
      "execution_count": null,
      "outputs": []
    },
    {
      "cell_type": "code",
      "source": [
        "# собираем все новости!\n",
        "# полезно использовать try / except\n"
      ],
      "metadata": {
        "id": "Tp4tcVgGDeJs"
      },
      "execution_count": null,
      "outputs": []
    },
    {
      "cell_type": "markdown",
      "source": [
        "### шаг 5"
      ],
      "metadata": {
        "id": "i2gKsPgUDkMf"
      }
    },
    {
      "cell_type": "code",
      "source": [
        "# соберите всю собранную информацию в датафрейм\n"
      ],
      "metadata": {
        "id": "5Aj9qgg8DjiJ"
      },
      "execution_count": null,
      "outputs": []
    },
    {
      "cell_type": "code",
      "source": [],
      "metadata": {
        "id": "q_fpJ3f1DqvX"
      },
      "execution_count": null,
      "outputs": []
    },
    {
      "cell_type": "markdown",
      "source": [
        "Готово!\n",
        "Загрузите ваш код и собранные новости на GitHub"
      ],
      "metadata": {
        "id": "0lXQWScoDrFm"
      }
    }
  ]
}
